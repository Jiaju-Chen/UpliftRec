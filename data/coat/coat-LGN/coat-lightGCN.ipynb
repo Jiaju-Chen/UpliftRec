{
 "cells": [
  {
   "cell_type": "code",
   "execution_count": 1,
   "id": "9ba55a94",
   "metadata": {
    "ExecuteTime": {
     "end_time": "2023-04-13T12:56:25.112334Z",
     "start_time": "2023-04-13T12:56:24.449775Z"
    }
   },
   "outputs": [],
   "source": [
    "import numpy as np\n",
    "import pandas as pd\n",
    "import os"
   ]
  },
  {
   "cell_type": "code",
   "execution_count": 2,
   "id": "3ecfb359",
   "metadata": {
    "ExecuteTime": {
     "end_time": "2023-04-13T12:56:25.128111Z",
     "start_time": "2023-04-13T12:56:25.112334Z"
    }
   },
   "outputs": [],
   "source": [
    "# # create folders\n",
    "# path='./features'\n",
    "# if not os.path.exists(path):\n",
    "#     os.mkdir(path)\n",
    "# path='./sets'\n",
    "# if not os.path.exists(path):\n",
    "#     os.mkdir(path)"
   ]
  },
  {
   "cell_type": "code",
   "execution_count": null,
   "id": "40774481",
   "metadata": {},
   "outputs": [],
   "source": [
    "load_path = '../coat-FM/'"
   ]
  },
  {
   "cell_type": "code",
   "execution_count": 3,
   "id": "7d86da50",
   "metadata": {
    "ExecuteTime": {
     "end_time": "2023-04-13T12:56:25.159769Z",
     "start_time": "2023-04-13T12:56:25.132112Z"
    }
   },
   "outputs": [
    {
     "data": {
      "text/plain": [
       "16"
      ]
     },
     "execution_count": 3,
     "metadata": {},
     "output_type": "execute_result"
    }
   ],
   "source": [
    "category_num = len(np.load(load_path+'features/category_list.npy'))\n",
    "category_num"
   ]
  },
  {
   "cell_type": "code",
   "execution_count": 4,
   "id": "6d94be38",
   "metadata": {
    "ExecuteTime": {
     "end_time": "2023-04-13T12:56:25.190379Z",
     "start_time": "2023-04-13T12:56:25.170084Z"
    }
   },
   "outputs": [
    {
     "data": {
      "text/plain": [
       "290"
      ]
     },
     "execution_count": 4,
     "metadata": {},
     "output_type": "execute_result"
    }
   ],
   "source": [
    "user_num = len(np.load('../coat-v1/sets/training_dict.npy', allow_pickle=True).item());user_num#one no positive"
   ]
  },
  {
   "cell_type": "code",
   "execution_count": 5,
   "id": "4e3e03c4",
   "metadata": {
    "ExecuteTime": {
     "end_time": "2023-04-13T12:56:25.253383Z",
     "start_time": "2023-04-13T12:56:25.229383Z"
    }
   },
   "outputs": [
    {
     "data": {
      "text/plain": [
       "131"
      ]
     },
     "execution_count": 5,
     "metadata": {},
     "output_type": "execute_result"
    }
   ],
   "source": [
    "user_num = len(np.load('../coat-v1/sets/testing_dict.npy', allow_pickle=True).item());user_num"
   ]
  },
  {
   "cell_type": "code",
   "execution_count": 6,
   "id": "e646d3d3",
   "metadata": {
    "ExecuteTime": {
     "end_time": "2023-04-13T12:56:26.582257Z",
     "start_time": "2023-04-13T12:56:26.547261Z"
    }
   },
   "outputs": [],
   "source": [
    "training_dict = np.load('../coat-v1/sets/training_dict.npy', allow_pickle=True).item()\n",
    "with open(\"train.txt\",\"w\") as f:\n",
    "    for user in training_dict:\n",
    "        f.write(str(user))\n",
    "        for item in training_dict[user]:\n",
    "            f.write(' ' + str(item))\n",
    "        f.write('\\n')\n",
    "np.save('./training_dict.npy', np.array(training_dict))"
   ]
  },
  {
   "cell_type": "code",
   "execution_count": 7,
   "id": "1f63540c",
   "metadata": {
    "ExecuteTime": {
     "end_time": "2023-04-13T12:57:04.486782Z",
     "start_time": "2023-04-13T12:57:04.457777Z"
    }
   },
   "outputs": [
    {
     "data": {
      "text/plain": [
       "1905"
      ]
     },
     "execution_count": 7,
     "metadata": {},
     "output_type": "execute_result"
    }
   ],
   "source": [
    "le=0\n",
    "for u in training_dict:\n",
    "    le += len(training_dict[u])\n",
    "le"
   ]
  },
  {
   "cell_type": "code",
   "execution_count": 8,
   "id": "9372f340",
   "metadata": {
    "ExecuteTime": {
     "end_time": "2023-04-13T12:57:17.742261Z",
     "start_time": "2023-04-13T12:57:17.724261Z"
    }
   },
   "outputs": [
    {
     "data": {
      "text/plain": [
       "0.02189655172413793"
      ]
     },
     "execution_count": 8,
     "metadata": {},
     "output_type": "execute_result"
    }
   ],
   "source": [
    "1905/290/300"
   ]
  },
  {
   "cell_type": "code",
   "execution_count": 10,
   "id": "88460b57",
   "metadata": {
    "ExecuteTime": {
     "end_time": "2022-11-05T09:36:35.239806Z",
     "start_time": "2022-11-05T09:36:35.215810Z"
    }
   },
   "outputs": [],
   "source": [
    "validation_dict = np.load('../coat-v1/sets/validation_dict.npy', allow_pickle=True).item()\n",
    "with open(\"valid.txt\",\"w\") as f:\n",
    "    for user in validation_dict:\n",
    "        f.write(str(user))\n",
    "        for item in validation_dict[user]:\n",
    "            f.write(' ' + str(item))\n",
    "        f.write('\\n')\n",
    "np.save('./validation_dict.npy', np.array(validation_dict))"
   ]
  },
  {
   "cell_type": "code",
   "execution_count": 11,
   "id": "37ba377a",
   "metadata": {
    "ExecuteTime": {
     "end_time": "2022-11-05T09:36:46.467608Z",
     "start_time": "2022-11-05T09:36:46.454609Z"
    }
   },
   "outputs": [],
   "source": [
    "testing_dict = np.load('../coat-v1/sets/testing_dict.npy', allow_pickle=True).item()\n",
    "with open(\"test.txt\",\"w\") as f:\n",
    "    for user in validation_dict:\n",
    "        f.write(str(user))\n",
    "        for item in testing_dict[user]:\n",
    "            f.write(' ' + str(item))\n",
    "        f.write('\\n')\n",
    "np.save('./testing_dict.npy', np.array(testing_dict))"
   ]
  },
  {
   "cell_type": "code",
   "execution_count": 12,
   "id": "ec142016",
   "metadata": {
    "ExecuteTime": {
     "end_time": "2022-11-05T09:37:03.118076Z",
     "start_time": "2022-11-05T09:37:03.088070Z"
    }
   },
   "outputs": [],
   "source": [
    "item_feature_dict = np.load('../coat-v1/features/item_feature_dict.npy', allow_pickle=True).item()\n",
    "topk_category = 3\n",
    "user_fml_cat = {}\n",
    "for user in training_dict:\n",
    "    category_cnt = [0] * category_num\n",
    "    for item in training_dict[user]:\n",
    "        for cat in item_feature_dict[item]:\n",
    "            category_cnt[cat] += 1\n",
    "    sorted_list = list(np.argsort(category_cnt))\n",
    "    fml_cat = sorted_list[-topk_category:]\n",
    "    user_fml_cat[user] = fml_cat\n",
    "np.save('./user_fml_cat.npy', np.array(user_fml_cat))\n",
    "np.save('./item_feature_dict.npy', np.array(item_feature_dict))"
   ]
  },
  {
   "cell_type": "code",
   "execution_count": 13,
   "id": "e9cffa92",
   "metadata": {
    "ExecuteTime": {
     "end_time": "2022-11-05T09:37:30.797126Z",
     "start_time": "2022-11-05T09:37:30.782124Z"
    }
   },
   "outputs": [],
   "source": [
    "item_rank_dict = np.load('../coat-v1/features/item_rank_dict.npy', allow_pickle=True).item()\n",
    "np.save('./item_rank_dict.npy', np.array(item_rank_dict))\n",
    "category_list = np.load('../coat-v1/features/category_list.npy')\n",
    "np.save('./category_list.npy', np.array(category_list))"
   ]
  },
  {
   "cell_type": "code",
   "execution_count": null,
   "id": "d5638ca6",
   "metadata": {},
   "outputs": [],
   "source": []
  }
 ],
 "metadata": {
  "hide_input": false,
  "kernelspec": {
   "display_name": "Python 3 (ipykernel)",
   "language": "python",
   "name": "python3"
  },
  "language_info": {
   "codemirror_mode": {
    "name": "ipython",
    "version": 3
   },
   "file_extension": ".py",
   "mimetype": "text/x-python",
   "name": "python",
   "nbconvert_exporter": "python",
   "pygments_lexer": "ipython3",
   "version": "3.9.12"
  },
  "toc": {
   "base_numbering": 1,
   "nav_menu": {},
   "number_sections": false,
   "sideBar": true,
   "skip_h1_title": false,
   "title_cell": "Table of Contents",
   "title_sidebar": "Contents",
   "toc_cell": false,
   "toc_position": {},
   "toc_section_display": true,
   "toc_window_display": false
  },
  "varInspector": {
   "cols": {
    "lenName": 16,
    "lenType": 16,
    "lenVar": 40
   },
   "kernels_config": {
    "python": {
     "delete_cmd_postfix": "",
     "delete_cmd_prefix": "del ",
     "library": "var_list.py",
     "varRefreshCmd": "print(var_dic_list())"
    },
    "r": {
     "delete_cmd_postfix": ") ",
     "delete_cmd_prefix": "rm(",
     "library": "var_list.r",
     "varRefreshCmd": "cat(var_dic_list()) "
    }
   },
   "types_to_exclude": [
    "module",
    "function",
    "builtin_function_or_method",
    "instance",
    "_Feature"
   ],
   "window_display": false
  }
 },
 "nbformat": 4,
 "nbformat_minor": 5
}
