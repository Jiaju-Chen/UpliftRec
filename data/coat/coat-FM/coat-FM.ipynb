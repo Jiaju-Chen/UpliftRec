{
 "cells": [
  {
   "cell_type": "code",
   "execution_count": 1,
   "id": "7ab72cf7",
   "metadata": {
    "ExecuteTime": {
     "end_time": "2023-04-19T12:00:24.752108Z",
     "start_time": "2023-04-19T12:00:23.882045Z"
    }
   },
   "outputs": [
    {
     "name": "stdout",
     "output_type": "stream",
     "text": [
      "(290, 300) (290, 300)\n"
     ]
    }
   ],
   "source": [
    "import os\n",
    "import random\n",
    "import numpy as np\n",
    "import pandas as pd\n",
    "\n",
    "def load_ratings(filename):\n",
    "    try:\n",
    "        raw_matrix = np.loadtxt(filename)\n",
    "        return np.ma.array(raw_matrix, dtype=np.int, copy=False,\n",
    "                              mask=raw_matrix <= 0, fill_value=0, hard_mask=True)\n",
    "    except:\n",
    "        print(\"Error: Could not load rating file '%s'\" % filename)\n",
    "        exit()\n",
    "\n",
    "data_path = '../coat-origin/'\n",
    "feature_path = '../coat-origin/user_item_features/'\n",
    "\n",
    "train_matrix = np.loadtxt(data_path + \"train.ascii\")\n",
    "test_matrix = np.loadtxt(data_path + \"test.ascii\")\n",
    "print(train_matrix.shape, test_matrix.shape)"
   ]
  },
  {
   "cell_type": "code",
   "execution_count": 2,
   "id": "bba1dcad",
   "metadata": {
    "ExecuteTime": {
     "end_time": "2022-11-05T06:22:26.116030Z",
     "start_time": "2022-11-05T06:22:26.042026Z"
    }
   },
   "outputs": [
    {
     "name": "stdout",
     "output_type": "stream",
     "text": [
      "len train_list: 1905\n",
      "len train_dict 290\n"
     ]
    }
   ],
   "source": [
    "train_list = []\n",
    "train_dict = {}\n",
    "train_neg_list = []\n",
    "for u in range(train_matrix.shape[0]):\n",
    "    if u not in train_dict:\n",
    "        train_dict[u] = []\n",
    "    for i in range(train_matrix.shape[1]):\n",
    "        if train_matrix[u][i]>3:\n",
    "            train_dict[u].append(i)\n",
    "            train_list.append([u,i])\n",
    "\n",
    "print('len train_list:', len(train_list))\n",
    "print('len train_dict', len(train_dict))"
   ]
  },
  {
   "cell_type": "code",
   "execution_count": 3,
   "id": "6d71245a",
   "metadata": {
    "ExecuteTime": {
     "end_time": "2022-11-05T06:22:26.194028Z",
     "start_time": "2022-11-05T06:22:26.119032Z"
    }
   },
   "outputs": [
    {
     "name": "stdout",
     "output_type": "stream",
     "text": [
      "len test_list0: 860\n",
      "len test_dict0 290\n"
     ]
    }
   ],
   "source": [
    "test_list0 = []\n",
    "test_dict0 = {}\n",
    "for u in range(test_matrix.shape[0]):\n",
    "    if u not in test_dict0:\n",
    "        test_dict0[u] = []\n",
    "    for i in range(test_matrix.shape[1]):\n",
    "        if test_matrix[u][i]>3:\n",
    "            test_dict0[u].append(i)\n",
    "            test_list0.append([u,i])\n",
    "\n",
    "print('len test_list0:', len(test_list0))\n",
    "print('len test_dict0', len(test_dict0))"
   ]
  },
  {
   "cell_type": "code",
   "execution_count": 4,
   "id": "bff46024",
   "metadata": {
    "ExecuteTime": {
     "end_time": "2022-11-05T06:22:26.209029Z",
     "start_time": "2022-11-05T06:22:26.197026Z"
    }
   },
   "outputs": [
    {
     "name": "stdout",
     "output_type": "stream",
     "text": [
      "len test_dict: 131\n"
     ]
    }
   ],
   "source": [
    "valid_dict = {}\n",
    "test_dict = {}\n",
    "for u in test_dict0:\n",
    "    items = test_dict0[u]\n",
    "    if (len(items) > 2):\n",
    "        valid_dict[u] = items[:-int(len(items)/2)] # valid >= test\n",
    "        test_dict[u] = items[-int(len(items)/2):]\n",
    "    else:\n",
    "        continue\n",
    "print('len test_dict:', len(test_dict))"
   ]
  },
  {
   "cell_type": "code",
   "execution_count": 5,
   "id": "f20f6017",
   "metadata": {
    "ExecuteTime": {
     "end_time": "2022-11-05T06:22:26.224032Z",
     "start_time": "2022-11-05T06:22:26.211027Z"
    }
   },
   "outputs": [],
   "source": [
    "np.save('./sets/training_list.npy', np.array(train_list))\n",
    "np.save('./sets/training_dict.npy', np.array(train_dict))\n",
    "np.save('./sets/validation_dict.npy', np.array(valid_dict))\n",
    "np.save('./sets/testing_dict.npy', np.array(test_dict))"
   ]
  },
  {
   "cell_type": "code",
   "execution_count": 6,
   "id": "9b912fc1",
   "metadata": {
    "ExecuteTime": {
     "end_time": "2022-11-05T06:22:26.239023Z",
     "start_time": "2022-11-05T06:22:26.226037Z"
    }
   },
   "outputs": [],
   "source": [
    "item_features_matrix = np.loadtxt(feature_path + \"item_features.ascii\")\n",
    "item_type_matrix = item_features_matrix[:,2:18] # jacket type features"
   ]
  },
  {
   "cell_type": "code",
   "execution_count": 7,
   "id": "bf35926c",
   "metadata": {
    "ExecuteTime": {
     "end_time": "2022-11-05T06:22:26.253664Z",
     "start_time": "2022-11-05T06:22:26.240025Z"
    }
   },
   "outputs": [],
   "source": [
    "item_feature_dict = {}\n",
    "for i in range(item_type_matrix.shape[0]):\n",
    "    for c in range(item_type_matrix.shape[1]):\n",
    "        if item_type_matrix[i][c] == 1:\n",
    "            item_feature_dict[i] = [c]\n",
    "\n",
    "category_list = list(range(item_type_matrix.shape[1]))\n",
    "\n",
    "np.save('./features/item_feature_dict.npy', np.array(item_feature_dict))\n",
    "np.save('./features/category_list.npy', np.array(category_list))"
   ]
  },
  {
   "cell_type": "code",
   "execution_count": 9,
   "id": "78eceb4d",
   "metadata": {
    "ExecuteTime": {
     "end_time": "2022-11-05T06:22:50.980419Z",
     "start_time": "2022-11-05T06:22:50.955419Z"
    }
   },
   "outputs": [
    {
     "name": "stdout",
     "output_type": "stream",
     "text": [
      "284\n",
      "300\n"
     ]
    }
   ],
   "source": [
    "pop_rank = dict(pd.DataFrame(train_list)[1].value_counts())\n",
    "print(len(pop_rank))\n",
    "for i in range(train_matrix.shape[1]):\n",
    "    if i not in pop_rank:\n",
    "        pop_rank[i] = 0\n",
    "print(len(pop_rank))\n",
    "\n",
    "item_rank_dict = {} #id:rank\n",
    "rank = 0\n",
    "for element in pop_rank:\n",
    "    item_rank_dict[element] = rank\n",
    "    rank += 1\n",
    "np.save('./features/item_rank_dict.npy', np.array(item_rank_dict))"
   ]
  },
  {
   "cell_type": "code",
   "execution_count": 10,
   "id": "aa2f3efd",
   "metadata": {
    "ExecuteTime": {
     "end_time": "2022-11-05T06:22:52.849646Z",
     "start_time": "2022-11-05T06:22:51.807125Z"
    }
   },
   "outputs": [
    {
     "data": {
      "image/png": "[encoded data removed]",
      "text/plain": [
       "<Figure size 432x288 with 1 Axes>"
      ]
     },
     "metadata": {
      "needs_background": "light"
     },
     "output_type": "display_data"
    }
   ],
   "source": [
    "import matplotlib.pyplot as plt\n",
    "a = pop_rank.values()\n",
    "plt.plot(a)\n",
    "plt.ylim(bottom=0.)\n",
    "#ax.set_xlim(left=0.)\n",
    "plt.xlabel(\"rank\")\n",
    "plt.ylabel(\"num_ratings\")\n",
    "plt.show()"
   ]
  },
  {
   "cell_type": "code",
   "execution_count": 11,
   "id": "9accaca2",
   "metadata": {
    "ExecuteTime": {
     "end_time": "2022-11-05T06:22:52.974055Z",
     "start_time": "2022-11-05T06:22:52.960054Z"
    }
   },
   "outputs": [],
   "source": [
    "category_num = len(category_list)\n",
    "topk_category = 3\n",
    "user_fml_cat_big = {}\n",
    "for user in train_dict:\n",
    "    category_cnt = [0] * category_num\n",
    "    for item in train_dict[user]:\n",
    "        for cat in item_feature_dict[item]:\n",
    "            category_cnt[cat] += 1\n",
    "    sorted_list = list(np.argsort(category_cnt))\n",
    "    fml_cat = sorted_list[-topk_category:]\n",
    "    user_fml_cat_big[user] = fml_cat\n",
    "np.save('./features/user_fml_cat.npy', np.array(user_fml_cat_big))"
   ]
  },
  {
   "cell_type": "code",
   "execution_count": 12,
   "id": "ac331fd6",
   "metadata": {
    "ExecuteTime": {
     "end_time": "2022-11-05T06:22:53.491312Z",
     "start_time": "2022-11-05T06:22:53.469309Z"
    }
   },
   "outputs": [],
   "source": [
    "category_num = len(category_list)\n",
    "user_fml_cat_big = {}\n",
    "for user in train_dict:\n",
    "    category_cnt = [0] * category_num\n",
    "    for item in train_dict[user]:\n",
    "        #print(item_feature_dict[item])\n",
    "        for cat in item_feature_dict[item]:\n",
    "            category_cnt[cat] += 1/len(item_feature_dict[item])\n",
    "    pscore = (np.array(category_cnt) / max(category_cnt)) #** 0.5\n",
    "    user_fml_cat_big[user] = pscore.tolist()\n",
    "np.save('./features/IPS.npy', np.array(user_fml_cat_big))\n",
    "np.save('./features/IPS_item_cal.npy', np.array(item_feature_dict))"
   ]
  },
  {
   "cell_type": "code",
   "execution_count": 13,
   "id": "c5c8bb2b",
   "metadata": {
    "ExecuteTime": {
     "end_time": "2022-11-05T06:44:48.160543Z",
     "start_time": "2022-11-05T06:44:48.138542Z"
    }
   },
   "outputs": [],
   "source": [
    "user_feature_file = {}\n",
    "for userID in train_dict:\n",
    "    user_feature_file[userID] = [['U'+str(userID)]]\n",
    "    user_feature_file[userID].append([str(1)]*len(user_feature_file[userID][0]))\n",
    "\n",
    "item_feature_file = {}\n",
    "for itemID in item_feature_dict:\n",
    "    item_feature_file[itemID] = [['I'+str(itemID)]]\n",
    "    item_feature_file[itemID].append(['1'])\n",
    "    for cate in range(0, len(category_list)):\n",
    "        if cate in item_feature_dict[itemID]:\n",
    "            item_feature_file[itemID][0].append('IC'+str(cate))\n",
    "            item_feature_file[itemID][1].append(str(round(1.0/len(item_feature_dict[itemID]), 2)))\n",
    "        else:\n",
    "            item_feature_file[itemID][0].append('IC'+str(cate))\n",
    "            item_feature_file[itemID][1].append(str(0))\n",
    "np.save('./features/user_feature_file.npy', np.array(user_feature_file))\n",
    "np.save('./features/item_feature_file.npy', np.array(item_feature_file))"
   ]
  },
  {
   "cell_type": "code",
   "execution_count": 16,
   "id": "16674465",
   "metadata": {
    "ExecuteTime": {
     "end_time": "2022-11-05T08:24:53.263212Z",
     "start_time": "2022-11-05T08:24:53.244214Z"
    }
   },
   "outputs": [],
   "source": [
    "item_cat_vec = {}\n",
    "for itemID in item_feature_dict:\n",
    "    item_cat_vec[itemID] = [0] * category_num\n",
    "    cat_num = len(item_feature_dict[itemID])\n",
    "    for cat in item_feature_dict[itemID]:\n",
    "        item_cat_vec[itemID][cat] = 1 / np.sqrt(cat_num)\n",
    "np.save('./features/item_cat_vec.npy', np.array(item_cat_vec))"
   ]
  },
  {
   "cell_type": "code",
   "execution_count": null,
   "id": "fb61e5cb",
   "metadata": {},
   "outputs": [],
   "source": []
  }
 ],
 "metadata": {
  "hide_input": false,
  "kernelspec": {
   "display_name": "Python 3 (ipykernel)",
   "language": "python",
   "name": "python3"
  },
  "language_info": {
   "codemirror_mode": {
    "name": "ipython",
    "version": 3
   },
   "file_extension": ".py",
   "mimetype": "text/x-python",
   "name": "python",
   "nbconvert_exporter": "python",
   "pygments_lexer": "ipython3",
   "version": "3.9.12"
  },
  "toc": {
   "base_numbering": 1,
   "nav_menu": {},
   "number_sections": false,
   "sideBar": true,
   "skip_h1_title": false,
   "title_cell": "Table of Contents",
   "title_sidebar": "Contents",
   "toc_cell": false,
   "toc_position": {},
   "toc_section_display": true,
   "toc_window_display": false
  },
  "varInspector": {
   "cols": {
    "lenName": 16,
    "lenType": 16,
    "lenVar": 40
   },
   "kernels_config": {
    "python": {
     "delete_cmd_postfix": "",
     "delete_cmd_prefix": "del ",
     "library": "var_list.py",
     "varRefreshCmd": "print(var_dic_list())"
    },
    "r": {
     "delete_cmd_postfix": ") ",
     "delete_cmd_prefix": "rm(",
     "library": "var_list.r",
     "varRefreshCmd": "cat(var_dic_list()) "
    }
   },
   "types_to_exclude": [
    "module",
    "function",
    "builtin_function_or_method",
    "instance",
    "_Feature"
   ],
   "window_display": false
  }
 },
 "nbformat": 4,
 "nbformat_minor": 5
}
