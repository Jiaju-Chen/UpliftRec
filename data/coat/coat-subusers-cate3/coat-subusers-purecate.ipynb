{
 "cells": [
  {
   "cell_type": "code",
   "execution_count": 28,
   "metadata": {
    "ExecuteTime": {
     "end_time": "2022-11-16T07:43:34.484462Z",
     "start_time": "2022-11-16T07:43:33.726408Z"
    }
   },
   "outputs": [
    {
     "name": "stdout",
     "output_type": "stream",
     "text": [
      "(290, 300) (290, 300)\n"
     ]
    }
   ],
   "source": [
    "import os\n",
    "import random\n",
    "import numpy as np\n",
    "import pandas as pd\n",
    "\n",
    "user_clip_num = 2\n",
    "user_pos_num_clip = 2 # only split users with training positive interactions >= user_clip_num * user_pos_num_clip\n",
    "max_interact_num = 10\n",
    "like_threshold = 3\n",
    "\n",
    "\n",
    "data_path = '../coat-origin/'\n",
    "feature_path = '../coat-origin/user_item_features/'\n",
    "\n",
    "train_matrix = np.loadtxt(data_path + \"train.ascii\")\n",
    "test_matrix = np.loadtxt(data_path + \"test.ascii\")\n",
    "print(train_matrix.shape, test_matrix.shape)"
   ]
  },
  {
   "cell_type": "code",
   "execution_count": 29,
   "metadata": {
    "ExecuteTime": {
     "end_time": "2022-11-16T07:43:34.499463Z",
     "start_time": "2022-11-16T07:43:34.486464Z"
    }
   },
   "outputs": [],
   "source": [
    "path='./features'\n",
    "if not os.path.exists(path):\n",
    "    os.mkdir(path)\n",
    "path='./sets'\n",
    "if not os.path.exists(path):\n",
    "    os.mkdir(path)"
   ]
  },
  {
   "cell_type": "code",
   "execution_count": 30,
   "metadata": {
    "ExecuteTime": {
     "end_time": "2022-11-16T07:43:34.562468Z",
     "start_time": "2022-11-16T07:43:34.502467Z"
    }
   },
   "outputs": [
    {
     "name": "stdout",
     "output_type": "stream",
     "text": [
      "len train_list: 1905\n",
      "len train_dict 290\n"
     ]
    }
   ],
   "source": [
    "train_list = []\n",
    "train_dict = {}\n",
    "for u in range(train_matrix.shape[0]):\n",
    "    if u not in train_dict:\n",
    "        train_dict[u] = []\n",
    "    for i in range(train_matrix.shape[1]):\n",
    "        if train_matrix[u][i]>3:\n",
    "            train_dict[u].append(i)\n",
    "            train_list.append([u,i])\n",
    "\n",
    "print('len train_list:', len(train_list))\n",
    "print('len train_dict', len(train_dict))"
   ]
  },
  {
   "cell_type": "code",
   "execution_count": 31,
   "metadata": {
    "ExecuteTime": {
     "end_time": "2022-11-16T07:43:34.640474Z",
     "start_time": "2022-11-16T07:43:34.564470Z"
    }
   },
   "outputs": [
    {
     "name": "stdout",
     "output_type": "stream",
     "text": [
      "len test_list0: 860\n",
      "len test_dict0 290\n"
     ]
    }
   ],
   "source": [
    "test_list0 = []\n",
    "test_dict0 = {}\n",
    "for u in range(test_matrix.shape[0]):\n",
    "    if u not in test_dict0:\n",
    "        test_dict0[u] = []\n",
    "    for i in range(test_matrix.shape[1]):\n",
    "        if test_matrix[u][i]>3:\n",
    "            test_dict0[u].append(i)\n",
    "            test_list0.append([u,i])\n",
    "\n",
    "print('len test_list0:', len(test_list0))\n",
    "print('len test_dict0', len(test_dict0))"
   ]
  },
  {
   "cell_type": "code",
   "execution_count": 32,
   "metadata": {
    "ExecuteTime": {
     "end_time": "2022-11-16T07:43:34.656475Z",
     "start_time": "2022-11-16T07:43:34.643476Z"
    }
   },
   "outputs": [
    {
     "name": "stdout",
     "output_type": "stream",
     "text": [
      "len test_dict: 131\n",
      "len test_list: 311\n"
     ]
    }
   ],
   "source": [
    "valid_dict = {}\n",
    "test_dict = {}\n",
    "test_list = []\n",
    "for u in test_dict0:\n",
    "    items = test_dict0[u]\n",
    "    if (len(items) > 2):\n",
    "        valid_dict[u] = items[:-int(len(items)/2)]\n",
    "        test_dict[u] = items[-int(len(items)/2):]\n",
    "        test_list += [[u,i] for i in test_dict[u]]\n",
    "    else:\n",
    "        continue\n",
    "print('len test_dict:', len(test_dict))\n",
    "print('len test_list:', len(test_list))\n"
   ]
  },
  {
   "cell_type": "code",
   "execution_count": 33,
   "metadata": {
    "ExecuteTime": {
     "end_time": "2022-11-16T07:43:34.794485Z",
     "start_time": "2022-11-16T07:43:34.658478Z"
    }
   },
   "outputs": [],
   "source": [
    "# added for splitting users: only split training data, keep testing data untouched.\n",
    "user_all_dict = {} # to record every exposure interaction with time and watch_ratio\n",
    "for u in range(train_matrix.shape[0]):\n",
    "    for i in range(train_matrix.shape[1]):\n",
    "        if train_matrix[u][i]>3:\n",
    "        # this is a recorded positive interaction\n",
    "            if u not in user_all_dict:\n",
    "                user_all_dict[u] = {'exposure':[], 'like':[]}\n",
    "            user_all_dict[u]['exposure'].append([i, train_matrix[u][i]])\n",
    "            user_all_dict[u]['like'].append([i, train_matrix[u][i]])\n",
    "        elif train_matrix[u][i]!=0:                \n",
    "            if u not in user_all_dict:\n",
    "                user_all_dict[u] = {'exposure':[], 'like':[]}\n",
    "            user_all_dict[u]['exposure'].append([i, train_matrix[u][i]])\n"
   ]
  },
  {
   "cell_type": "code",
   "execution_count": 34,
   "metadata": {
    "ExecuteTime": {
     "end_time": "2022-11-16T07:43:34.825488Z",
     "start_time": "2022-11-16T07:43:34.796487Z"
    }
   },
   "outputs": [],
   "source": [
    "item_features_matrix = np.loadtxt(feature_path + \"item_features.ascii\")\n",
    "item_type_matrix = item_features_matrix[:,2:18] # jacket type features\n",
    "item_feature_dict_ori = {}\n",
    "for i in range(item_type_matrix.shape[0]):\n",
    "    for c in range(item_type_matrix.shape[1]):\n",
    "        if item_type_matrix[i][c] == 1:\n",
    "            item_feature_dict_ori[i] = [c]\n",
    "\n",
    "category_list_ori = list(range(item_type_matrix.shape[1]))\n",
    "\n",
    "# np.save('./features/item_feature_dict.npy', np.array(item_feature_dict))\n",
    "# np.save('./features/category_list.npy', np.array(category_list))"
   ]
  },
  {
   "cell_type": "code",
   "execution_count": 35,
   "metadata": {
    "ExecuteTime": {
     "end_time": "2022-11-16T07:43:34.840490Z",
     "start_time": "2022-11-16T07:43:34.826489Z"
    }
   },
   "outputs": [],
   "source": [
    "cate_embed = np.load(\"./embed_cate_FM_coat_0.0875.npy\")"
   ]
  },
  {
   "cell_type": "code",
   "execution_count": 36,
   "metadata": {
    "ExecuteTime": {
     "end_time": "2022-11-16T07:43:34.855491Z",
     "start_time": "2022-11-16T07:43:34.846490Z"
    }
   },
   "outputs": [],
   "source": [
    "for i in range(cate_embed.shape[0]):\n",
    "    cate_embed[i] /= np.linalg.norm(cate_embed[i])"
   ]
  },
  {
   "cell_type": "code",
   "execution_count": 37,
   "metadata": {
    "ExecuteTime": {
     "end_time": "2022-11-16T07:43:41.927016Z",
     "start_time": "2022-11-16T07:43:34.858493Z"
    }
   },
   "outputs": [
    {
     "name": "stderr",
     "output_type": "stream",
     "text": [
      "  0%|          | 0/16 [00:00<?, ?it/s]c:\\anaconda3\\Lib\\site-packages\\sklearn\\cluster\\_kmeans.py:1412: FutureWarning: The default value of `n_init` will change from 10 to 'auto' in 1.4. Set the value of `n_init` explicitly to suppress the warning\n",
      "  super()._check_params_vs_input(X, default_n_init=10)\n",
      "c:\\anaconda3\\Lib\\site-packages\\sklearn\\cluster\\_kmeans.py:1436: UserWarning: KMeans is known to have a memory leak on Windows with MKL, when there are less chunks than available threads. You can avoid it by setting the environment variable OMP_NUM_THREADS=1.\n",
      "  warnings.warn(\n",
      "  6%|▋         | 1/16 [00:00<00:03,  3.75it/s]c:\\anaconda3\\Lib\\site-packages\\sklearn\\cluster\\_kmeans.py:1412: FutureWarning: The default value of `n_init` will change from 10 to 'auto' in 1.4. Set the value of `n_init` explicitly to suppress the warning\n",
      "  super()._check_params_vs_input(X, default_n_init=10)\n",
      "c:\\anaconda3\\Lib\\site-packages\\sklearn\\cluster\\_kmeans.py:1436: UserWarning: KMeans is known to have a memory leak on Windows with MKL, when there are less chunks than available threads. You can avoid it by setting the environment variable OMP_NUM_THREADS=1.\n",
      "  warnings.warn(\n",
      " 12%|█▎        | 2/16 [00:00<00:03,  3.54it/s]c:\\anaconda3\\Lib\\site-packages\\sklearn\\cluster\\_kmeans.py:1412: FutureWarning: The default value of `n_init` will change from 10 to 'auto' in 1.4. Set the value of `n_init` explicitly to suppress the warning\n",
      "  super()._check_params_vs_input(X, default_n_init=10)\n",
      "c:\\anaconda3\\Lib\\site-packages\\sklearn\\cluster\\_kmeans.py:1436: UserWarning: KMeans is known to have a memory leak on Windows with MKL, when there are less chunks than available threads. You can avoid it by setting the environment variable OMP_NUM_THREADS=1.\n",
      "  warnings.warn(\n",
      " 19%|█▉        | 3/16 [00:00<00:03,  3.71it/s]c:\\anaconda3\\Lib\\site-packages\\sklearn\\cluster\\_kmeans.py:1412: FutureWarning: The default value of `n_init` will change from 10 to 'auto' in 1.4. Set the value of `n_init` explicitly to suppress the warning\n",
      "  super()._check_params_vs_input(X, default_n_init=10)\n",
      "c:\\anaconda3\\Lib\\site-packages\\sklearn\\cluster\\_kmeans.py:1436: UserWarning: KMeans is known to have a memory leak on Windows with MKL, when there are less chunks than available threads. You can avoid it by setting the environment variable OMP_NUM_THREADS=1.\n",
      "  warnings.warn(\n",
      " 25%|██▌       | 4/16 [00:01<00:03,  3.81it/s]c:\\anaconda3\\Lib\\site-packages\\sklearn\\cluster\\_kmeans.py:1412: FutureWarning: The default value of `n_init` will change from 10 to 'auto' in 1.4. Set the value of `n_init` explicitly to suppress the warning\n",
      "  super()._check_params_vs_input(X, default_n_init=10)\n",
      "c:\\anaconda3\\Lib\\site-packages\\sklearn\\cluster\\_kmeans.py:1436: UserWarning: KMeans is known to have a memory leak on Windows with MKL, when there are less chunks than available threads. You can avoid it by setting the environment variable OMP_NUM_THREADS=1.\n",
      "  warnings.warn(\n",
      " 31%|███▏      | 5/16 [00:01<00:02,  3.86it/s]c:\\anaconda3\\Lib\\site-packages\\sklearn\\cluster\\_kmeans.py:1412: FutureWarning: The default value of `n_init` will change from 10 to 'auto' in 1.4. Set the value of `n_init` explicitly to suppress the warning\n",
      "  super()._check_params_vs_input(X, default_n_init=10)\n",
      "c:\\anaconda3\\Lib\\site-packages\\sklearn\\cluster\\_kmeans.py:1436: UserWarning: KMeans is known to have a memory leak on Windows with MKL, when there are less chunks than available threads. You can avoid it by setting the environment variable OMP_NUM_THREADS=1.\n",
      "  warnings.warn(\n",
      " 38%|███▊      | 6/16 [00:01<00:02,  3.88it/s]c:\\anaconda3\\Lib\\site-packages\\sklearn\\cluster\\_kmeans.py:1412: FutureWarning: The default value of `n_init` will change from 10 to 'auto' in 1.4. Set the value of `n_init` explicitly to suppress the warning\n",
      "  super()._check_params_vs_input(X, default_n_init=10)\n",
      "c:\\anaconda3\\Lib\\site-packages\\sklearn\\cluster\\_kmeans.py:1436: UserWarning: KMeans is known to have a memory leak on Windows with MKL, when there are less chunks than available threads. You can avoid it by setting the environment variable OMP_NUM_THREADS=1.\n",
      "  warnings.warn(\n",
      " 44%|████▍     | 7/16 [00:01<00:02,  3.88it/s]c:\\anaconda3\\Lib\\site-packages\\sklearn\\cluster\\_kmeans.py:1412: FutureWarning: The default value of `n_init` will change from 10 to 'auto' in 1.4. Set the value of `n_init` explicitly to suppress the warning\n",
      "  super()._check_params_vs_input(X, default_n_init=10)\n",
      "c:\\anaconda3\\Lib\\site-packages\\sklearn\\cluster\\_kmeans.py:1436: UserWarning: KMeans is known to have a memory leak on Windows with MKL, when there are less chunks than available threads. You can avoid it by setting the environment variable OMP_NUM_THREADS=1.\n",
      "  warnings.warn(\n",
      " 50%|█████     | 8/16 [00:02<00:02,  3.89it/s]c:\\anaconda3\\Lib\\site-packages\\sklearn\\cluster\\_kmeans.py:1412: FutureWarning: The default value of `n_init` will change from 10 to 'auto' in 1.4. Set the value of `n_init` explicitly to suppress the warning\n",
      "  super()._check_params_vs_input(X, default_n_init=10)\n",
      "c:\\anaconda3\\Lib\\site-packages\\sklearn\\cluster\\_kmeans.py:1436: UserWarning: KMeans is known to have a memory leak on Windows with MKL, when there are less chunks than available threads. You can avoid it by setting the environment variable OMP_NUM_THREADS=1.\n",
      "  warnings.warn(\n",
      " 56%|█████▋    | 9/16 [00:02<00:01,  3.89it/s]c:\\anaconda3\\Lib\\site-packages\\sklearn\\cluster\\_kmeans.py:1412: FutureWarning: The default value of `n_init` will change from 10 to 'auto' in 1.4. Set the value of `n_init` explicitly to suppress the warning\n",
      "  super()._check_params_vs_input(X, default_n_init=10)\n",
      "c:\\anaconda3\\Lib\\site-packages\\sklearn\\cluster\\_kmeans.py:1436: UserWarning: KMeans is known to have a memory leak on Windows with MKL, when there are less chunks than available threads. You can avoid it by setting the environment variable OMP_NUM_THREADS=1.\n",
      "  warnings.warn(\n",
      " 62%|██████▎   | 10/16 [00:02<00:01,  3.92it/s]c:\\anaconda3\\Lib\\site-packages\\sklearn\\cluster\\_kmeans.py:1412: FutureWarning: The default value of `n_init` will change from 10 to 'auto' in 1.4. Set the value of `n_init` explicitly to suppress the warning\n",
      "  super()._check_params_vs_input(X, default_n_init=10)\n",
      "c:\\anaconda3\\Lib\\site-packages\\sklearn\\cluster\\_kmeans.py:1436: UserWarning: KMeans is known to have a memory leak on Windows with MKL, when there are less chunks than available threads. You can avoid it by setting the environment variable OMP_NUM_THREADS=1.\n",
      "  warnings.warn(\n",
      " 69%|██████▉   | 11/16 [00:02<00:01,  3.88it/s]c:\\anaconda3\\Lib\\site-packages\\sklearn\\cluster\\_kmeans.py:1412: FutureWarning: The default value of `n_init` will change from 10 to 'auto' in 1.4. Set the value of `n_init` explicitly to suppress the warning\n",
      "  super()._check_params_vs_input(X, default_n_init=10)\n",
      "c:\\anaconda3\\Lib\\site-packages\\sklearn\\cluster\\_kmeans.py:1436: UserWarning: KMeans is known to have a memory leak on Windows with MKL, when there are less chunks than available threads. You can avoid it by setting the environment variable OMP_NUM_THREADS=1.\n",
      "  warnings.warn(\n",
      " 75%|███████▌  | 12/16 [00:03<00:01,  3.82it/s]c:\\anaconda3\\Lib\\site-packages\\sklearn\\cluster\\_kmeans.py:1412: FutureWarning: The default value of `n_init` will change from 10 to 'auto' in 1.4. Set the value of `n_init` explicitly to suppress the warning\n",
      "  super()._check_params_vs_input(X, default_n_init=10)\n",
      "c:\\anaconda3\\Lib\\site-packages\\sklearn\\cluster\\_kmeans.py:1436: UserWarning: KMeans is known to have a memory leak on Windows with MKL, when there are less chunks than available threads. You can avoid it by setting the environment variable OMP_NUM_THREADS=1.\n",
      "  warnings.warn(\n",
      " 81%|████████▏ | 13/16 [00:03<00:00,  3.85it/s]c:\\anaconda3\\Lib\\site-packages\\sklearn\\cluster\\_kmeans.py:1412: FutureWarning: The default value of `n_init` will change from 10 to 'auto' in 1.4. Set the value of `n_init` explicitly to suppress the warning\n",
      "  super()._check_params_vs_input(X, default_n_init=10)\n",
      "c:\\anaconda3\\Lib\\site-packages\\sklearn\\cluster\\_kmeans.py:1436: UserWarning: KMeans is known to have a memory leak on Windows with MKL, when there are less chunks than available threads. You can avoid it by setting the environment variable OMP_NUM_THREADS=1.\n",
      "  warnings.warn(\n",
      " 88%|████████▊ | 14/16 [00:03<00:00,  3.83it/s]c:\\anaconda3\\Lib\\site-packages\\sklearn\\cluster\\_kmeans.py:1412: FutureWarning: The default value of `n_init` will change from 10 to 'auto' in 1.4. Set the value of `n_init` explicitly to suppress the warning\n",
      "  super()._check_params_vs_input(X, default_n_init=10)\n",
      "c:\\anaconda3\\Lib\\site-packages\\sklearn\\cluster\\_kmeans.py:1436: UserWarning: KMeans is known to have a memory leak on Windows with MKL, when there are less chunks than available threads. You can avoid it by setting the environment variable OMP_NUM_THREADS=1.\n",
      "  warnings.warn(\n",
      " 94%|█████████▍| 15/16 [00:03<00:00,  3.85it/s]c:\\anaconda3\\Lib\\site-packages\\sklearn\\cluster\\_kmeans.py:1412: FutureWarning: The default value of `n_init` will change from 10 to 'auto' in 1.4. Set the value of `n_init` explicitly to suppress the warning\n",
      "  super()._check_params_vs_input(X, default_n_init=10)\n",
      "c:\\anaconda3\\Lib\\site-packages\\sklearn\\cluster\\_kmeans.py:1436: UserWarning: KMeans is known to have a memory leak on Windows with MKL, when there are less chunks than available threads. You can avoid it by setting the environment variable OMP_NUM_THREADS=1.\n",
      "  warnings.warn(\n",
      "100%|██████████| 16/16 [00:04<00:00,  3.84it/s]\n"
     ]
    }
   ],
   "source": [
    "import pandas as pd  \n",
    "from sklearn.cluster import KMeans  \n",
    "import matplotlib.pyplot as plt  \n",
    "from tqdm import tqdm\n",
    "'利用SSE选择k'  \n",
    "SSE = []  # 存放每次结果的误差平方和  \n",
    "for k in tqdm(range(1,17)):  \n",
    "    estimator = KMeans(n_clusters=k, random_state=1)  # 构造聚类器  \n",
    "    estimator.fit(cate_embed)  \n",
    "    SSE.append(estimator.inertia_) "
   ]
  },
  {
   "cell_type": "code",
   "execution_count": 38,
   "metadata": {
    "ExecuteTime": {
     "end_time": "2022-11-16T07:43:42.097193Z",
     "start_time": "2022-11-16T07:43:41.929017Z"
    }
   },
   "outputs": [
    {
     "data": {
      "image/png": "[encoded data removed]",
      "text/plain": [
       "<Figure size 640x480 with 1 Axes>"
      ]
     },
     "metadata": {},
     "output_type": "display_data"
    }
   ],
   "source": [
    "X = range(1,17) \n",
    "plt.xlabel('k')  \n",
    "plt.ylabel('SSE')  \n",
    "plt.plot(X[2:],SSE[2:],'o-')  \n",
    "plt.show() "
   ]
  },
  {
   "cell_type": "code",
   "execution_count": 39,
   "metadata": {
    "ExecuteTime": {
     "end_time": "2022-11-16T07:43:42.411215Z",
     "start_time": "2022-11-16T07:43:42.099194Z"
    }
   },
   "outputs": [
    {
     "name": "stderr",
     "output_type": "stream",
     "text": [
      "c:\\anaconda3\\Lib\\site-packages\\sklearn\\cluster\\_kmeans.py:1412: FutureWarning: The default value of `n_init` will change from 10 to 'auto' in 1.4. Set the value of `n_init` explicitly to suppress the warning\n",
      "  super()._check_params_vs_input(X, default_n_init=10)\n",
      "c:\\anaconda3\\Lib\\site-packages\\sklearn\\cluster\\_kmeans.py:1436: UserWarning: KMeans is known to have a memory leak on Windows with MKL, when there are less chunks than available threads. You can avoid it by setting the environment variable OMP_NUM_THREADS=1.\n",
      "  warnings.warn(\n"
     ]
    },
    {
     "name": "stdout",
     "output_type": "stream",
     "text": [
      "[2 1 0 2 1 0 2 1 2 1 0 2 2 0 1 1]\n",
      "12.5055682593314\n"
     ]
    }
   ],
   "source": [
    "from sklearn.cluster import KMeans\n",
    "category_num_new = 3\n",
    "kmeans_model = KMeans(category_num_new, random_state=1)\n",
    "kmeans_model.fit(cate_embed)\n",
    "labels = kmeans_model.labels_\n",
    "print(kmeans_model.labels_)\n",
    "print(kmeans_model.inertia_)"
   ]
  },
  {
   "cell_type": "code",
   "execution_count": 40,
   "metadata": {
    "ExecuteTime": {
     "end_time": "2022-11-16T07:43:42.426217Z",
     "start_time": "2022-11-16T07:43:42.413217Z"
    }
   },
   "outputs": [
    {
     "name": "stdout",
     "output_type": "stream",
     "text": [
      "0 4\n",
      "1 6\n",
      "2 6\n"
     ]
    }
   ],
   "source": [
    "for i in set(labels):\n",
    "    print(i, sum(labels==i))"
   ]
  },
  {
   "cell_type": "code",
   "execution_count": 41,
   "metadata": {
    "ExecuteTime": {
     "end_time": "2022-11-16T07:43:42.442218Z",
     "start_time": "2022-11-16T07:43:42.429220Z"
    }
   },
   "outputs": [],
   "source": [
    "# create item_feature_dict file CHANGED!!!\n",
    "item_feature_dict = {}\n",
    "for item in range(len(item_feature_dict_ori)):\n",
    "    item_feature_dict[item]=[]\n",
    "    for i in range(len(item_feature_dict_ori[item])):\n",
    "        if labels[item_feature_dict_ori[item][i]] not in item_feature_dict[item]:\n",
    "            item_feature_dict[item].append(labels[item_feature_dict_ori[item][i]])\n",
    "\n",
    "np.save('./features/item_feature_dict.npy', np.array(item_feature_dict))\n",
    "\n",
    "# create category_list file\n",
    "category_list = list(range(category_num_new))\n",
    "np.save('./features/category_list.npy', np.array(category_list))"
   ]
  },
  {
   "cell_type": "code",
   "execution_count": 42,
   "metadata": {
    "ExecuteTime": {
     "end_time": "2022-11-16T07:43:42.487221Z",
     "start_time": "2022-11-16T07:43:42.444219Z"
    }
   },
   "outputs": [
    {
     "name": "stdout",
     "output_type": "stream",
     "text": [
      "{'D': [227, 228, 235, 236, 247], 'T': [0.2727272727272727, 0.36363636363636365, 0.36363636363636365], 'Y': [1.0, 0.25, 0.25]}\n"
     ]
    }
   ],
   "source": [
    "# split users and generate new big_pos_dict and big_pos_list.\n",
    "big_pos_dict = dict(train_dict)\n",
    "big_pos_list = list(train_list)\n",
    "# a function to calc T given exposure items and item_category_dict&category_list\n",
    "def calc_T(t_seq, item_category, category_list):\n",
    "    cate_dis = [0] * (max(category_list)+1)\n",
    "    for item in t_seq:\n",
    "        for c in item_category[item]:\n",
    "            cate_dis[c] += 1/len(item_category[item])\n",
    "    cate_dis = [c/len(t_seq) for c in cate_dis]\n",
    "    return cate_dis\n",
    "\n",
    "# a function to calc Y given exposure items, liked items, and item_category_dict&category_list\n",
    "def calc_Y(t_seq, next_d, item_category, category_list):\n",
    "    exposure_dis = [0]* (max(category_list)+1)\n",
    "    like_dis = [0]* (max(category_list)+1)\n",
    "    for item in t_seq:\n",
    "        for c in item_category[item]:\n",
    "            exposure_dis[c] += 1/len(item_category[item])\n",
    "    for item in next_d:\n",
    "        for c in item_category[item]:\n",
    "            like_dis[c] += 1/len(item_category[item])\n",
    "    ctr_dis = [like_dis[c]/exposure_dis[c] if exposure_dis[c] > 0 else 0 for c in range(len(exposure_dis))]\n",
    "    return ctr_dis\n",
    "    \n",
    "subuser_all_dict = {} # subuserID\n",
    "user_subuser_map = {}\n",
    "user_subuser_exp_dict = {} # save exposure data of users and subusers\n",
    "user_num = max(big_pos_dict.keys())+1 # len(user_id_map)\n",
    "assert user_num not in big_pos_dict\n",
    "\n",
    "for uID in (user_all_dict):\n",
    "    pos_num = len(user_all_dict[uID]['like'])\n",
    "    \n",
    "    # save exposure data of uID\n",
    "    user_subuser_exp_dict[uID] = [entry[0] for entry in user_all_dict[uID]['exposure']]\n",
    "    \n",
    "    # only split users with postive len > user_clip_num * user_pos_num_clip\n",
    "    if pos_num < user_clip_num * user_pos_num_clip:\n",
    "        continue\n",
    "    pos_num_clip = pos_num//user_clip_num\n",
    "    for i in range(user_clip_num-1):\n",
    "        \n",
    "        subuser_id = user_num\n",
    "        user_num += 1\n",
    "        user_subuser_map[subuser_id] = uID\n",
    "        subuser_all_dict[subuser_id] = {}\n",
    "        \n",
    "        # find like history in current clip\n",
    "        d = user_all_dict[uID]['like'][:(i+1)*pos_num_clip]\n",
    "        \n",
    "        # find treatment in next clip\n",
    "        st = user_all_dict[uID]['exposure'].index(user_all_dict[uID]['like'][(i+1)*pos_num_clip])\n",
    "        if i != user_clip_num-2: # not last clip\n",
    "            ed = user_all_dict[uID]['exposure'].index(user_all_dict[uID]['like'][(i+2)*pos_num_clip])\n",
    "            t_seq = user_all_dict[uID]['exposure'][st:ed]\n",
    "        else:\n",
    "            t_seq = user_all_dict[uID]['exposure'][st:]\n",
    "            \n",
    "        # find like history in next clip\n",
    "        if i != user_clip_num-2: # not last clip\n",
    "            next_d = user_all_dict[uID]['like'][(i+1)*pos_num_clip:(i+2)*pos_num_clip]\n",
    "        else:\n",
    "            next_d = user_all_dict[uID]['like'][(i+1)*pos_num_clip:]\n",
    "        \n",
    "        # save exposure data of subuser_id: find the last liked item and save its exposure.\n",
    "        exposure_index = user_all_dict[uID]['exposure'].index(d[-1])\n",
    "        user_subuser_exp_dict[subuser_id] = user_all_dict[uID]['exposure'][:exposure_index+1]\n",
    "        \n",
    "        d = [entry[0] for entry in d]\n",
    "        next_d = [entry[0] for entry in next_d]\n",
    "        t_seq = [entry[0] for entry in t_seq]\n",
    "        \n",
    "        T = calc_T(t_seq, item_feature_dict, category_list)\n",
    "        Y = calc_Y(t_seq, next_d, item_feature_dict, category_list)\n",
    "\n",
    "        subuser_all_dict[subuser_id]['D'] = d\n",
    "        subuser_all_dict[subuser_id]['T'] = T\n",
    "        subuser_all_dict[subuser_id]['Y'] = Y\n",
    "                \n",
    "        # update big_pos_dict and big_pos_list\n",
    "        for item in d:\n",
    "            if subuser_id not in big_pos_dict:\n",
    "                big_pos_dict[subuser_id] = []\n",
    "            big_pos_dict[subuser_id].append(item)\n",
    "            big_pos_list.append([subuser_id, item])\n",
    "\n",
    "        if uID == 0:\n",
    "            print(subuser_all_dict[subuser_id])\n",
    "        "
   ]
  },
  {
   "cell_type": "code",
   "execution_count": 43,
   "metadata": {
    "ExecuteTime": {
     "end_time": "2022-11-16T07:43:42.518223Z",
     "start_time": "2022-11-16T07:43:42.490224Z"
    }
   },
   "outputs": [],
   "source": [
    "np.save('./sets/training_list.npy', np.array(big_pos_list))\n",
    "np.save('./sets/training_dict.npy', np.array(big_pos_dict))\n",
    "np.save('./sets/validation_dict.npy', np.array(valid_dict))\n",
    "np.save('./sets/testing_dict.npy', np.array(test_dict))\n",
    "\n",
    "np.save('./features/user_subuser_exp_dict.npy', np.array(user_subuser_exp_dict))\n",
    "np.save('./features/user_subuser_map.npy', np.array(user_subuser_map))\n",
    "np.save('./features/subuser_info.npy', np.array(subuser_all_dict))"
   ]
  },
  {
   "cell_type": "code",
   "execution_count": 44,
   "metadata": {
    "ExecuteTime": {
     "end_time": "2022-11-16T07:43:42.533226Z",
     "start_time": "2022-11-16T07:43:42.520226Z"
    }
   },
   "outputs": [
    {
     "name": "stdout",
     "output_type": "stream",
     "text": [
      "284\n",
      "300\n"
     ]
    }
   ],
   "source": [
    "pop_rank = dict(pd.DataFrame(train_list)[1].value_counts())\n",
    "print(len(pop_rank))\n",
    "for i in range(train_matrix.shape[1]):\n",
    "    if i not in pop_rank:\n",
    "        pop_rank[i] = 0\n",
    "print(len(pop_rank))\n",
    "\n",
    "item_rank_dict = {} #id:rank\n",
    "rank = 0\n",
    "for element in pop_rank:\n",
    "    item_rank_dict[element] = rank\n",
    "    rank += 1\n",
    "np.save('./features/item_rank_dict.npy', np.array(item_rank_dict))"
   ]
  },
  {
   "cell_type": "code",
   "execution_count": 45,
   "metadata": {
    "ExecuteTime": {
     "end_time": "2022-11-16T07:43:42.656235Z",
     "start_time": "2022-11-16T07:43:42.536227Z"
    }
   },
   "outputs": [
    {
     "data": {
      "image/png": "[encoded data removed]",
      "text/plain": [
       "<Figure size 640x480 with 1 Axes>"
      ]
     },
     "metadata": {},
     "output_type": "display_data"
    }
   ],
   "source": [
    "import matplotlib.pyplot as plt\n",
    "a = list(pop_rank.values())\n",
    "plt.plot(a)\n",
    "plt.ylim(bottom=0.)\n",
    "#ax.set_xlim(left=0.)\n",
    "plt.xlabel(\"rank\")\n",
    "plt.ylabel(\"num_ratings\")\n",
    "plt.show()"
   ]
  },
  {
   "cell_type": "code",
   "execution_count": 46,
   "metadata": {
    "ExecuteTime": {
     "end_time": "2022-11-16T07:43:42.671236Z",
     "start_time": "2022-11-16T07:43:42.658237Z"
    }
   },
   "outputs": [],
   "source": [
    "category_num = len(category_list)\n",
    "topk_category = 3\n",
    "user_fml_cat_big = {}\n",
    "for user in train_dict:\n",
    "    category_cnt = [0] * category_num\n",
    "    for item in train_dict[user]:\n",
    "        for cat in item_feature_dict[item]:\n",
    "            category_cnt[cat] += 1\n",
    "    sorted_list = list(np.argsort(category_cnt))\n",
    "    fml_cat = sorted_list[-topk_category:]\n",
    "    user_fml_cat_big[user] = fml_cat\n",
    "np.save('./features/user_fml_cat.npy', np.array(user_fml_cat_big))"
   ]
  },
  {
   "cell_type": "code",
   "execution_count": 47,
   "metadata": {
    "ExecuteTime": {
     "end_time": "2022-11-16T07:43:42.686239Z",
     "start_time": "2022-11-16T07:43:42.673239Z"
    }
   },
   "outputs": [],
   "source": [
    "category_num = len(category_list)\n",
    "user_fml_cat_big = {}\n",
    "for user in train_dict:\n",
    "    category_cnt = [0] * category_num\n",
    "    for item in train_dict[user]:\n",
    "        #print(item_feature_dict[item])\n",
    "        for cat in item_feature_dict[item]:\n",
    "            category_cnt[cat] += 1/len(item_feature_dict[item])\n",
    "    pscore = (np.array(category_cnt) / max(category_cnt)) #** 0.5\n",
    "    user_fml_cat_big[user] = pscore.tolist()\n",
    "np.save('./features/IPS.npy', np.array(user_fml_cat_big))\n",
    "np.save('./features/IPS_item_cal.npy', np.array(item_feature_dict))"
   ]
  },
  {
   "cell_type": "code",
   "execution_count": 48,
   "metadata": {
    "ExecuteTime": {
     "end_time": "2022-11-16T07:43:42.717190Z",
     "start_time": "2022-11-16T07:43:42.688239Z"
    }
   },
   "outputs": [],
   "source": [
    "user_feature_file = {}\n",
    "for userID in big_pos_dict:\n",
    "    user_feature_file[userID] = [['U'+str(userID)]]\n",
    "    user_feature_file[userID].append([str(1)]*len(user_feature_file[userID][0]))\n",
    "\n",
    "item_feature_file = {}\n",
    "for itemID in item_feature_dict:\n",
    "    item_feature_file[itemID] = [['I'+str(itemID)]]\n",
    "    item_feature_file[itemID].append(['1'])\n",
    "    for cate in range(0, len(category_list)):\n",
    "        if cate in item_feature_dict[itemID]:\n",
    "            item_feature_file[itemID][0].append('IC'+str(cate))\n",
    "            item_feature_file[itemID][1].append(str(round(1.0/len(item_feature_dict[itemID]), 2)))\n",
    "        else:\n",
    "            item_feature_file[itemID][0].append('IC'+str(cate))\n",
    "            item_feature_file[itemID][1].append(str(0))\n",
    "np.save('./features/user_feature_file.npy', np.array(user_feature_file))\n",
    "np.save('./features/item_feature_file.npy', np.array(item_feature_file))"
   ]
  },
  {
   "cell_type": "code",
   "execution_count": 49,
   "metadata": {
    "ExecuteTime": {
     "end_time": "2022-11-16T07:43:42.732199Z",
     "start_time": "2022-11-16T07:43:42.719194Z"
    }
   },
   "outputs": [],
   "source": [
    "item_cat_vec = {}\n",
    "for itemID in item_feature_dict:\n",
    "    item_cat_vec[itemID] = [0] * category_num\n",
    "    cat_num = len(item_feature_dict[itemID])\n",
    "    for cat in item_feature_dict[itemID]:\n",
    "        item_cat_vec[itemID][cat] = 1 / np.sqrt(cat_num)\n",
    "np.save('./features/item_cat_vec.npy', np.array(item_cat_vec))"
   ]
  },
  {
   "cell_type": "code",
   "execution_count": 50,
   "metadata": {
    "ExecuteTime": {
     "end_time": "2022-11-16T07:43:42.871191Z",
     "start_time": "2022-11-16T07:43:42.733202Z"
    },
    "scrolled": true
   },
   "outputs": [
    {
     "data": {
      "image/png": "[encoded data removed]",
      "text/plain": [
       "<Figure size 640x480 with 1 Axes>"
      ]
     },
     "metadata": {},
     "output_type": "display_data"
    },
    {
     "name": "stdout",
     "output_type": "stream",
     "text": [
      "[395, 554, 956]\n"
     ]
    }
   ],
   "source": [
    "CountAll = [0] * len(category_list)\n",
    "for item in pop_rank:\n",
    "    CountAll[item_feature_dict[item][0]]+=pop_rank[item]\n",
    "plt.plot(CountAll)\n",
    "plt.show()\n",
    "print(CountAll)"
   ]
  }
 ],
 "metadata": {
  "hide_input": false,
  "kernelspec": {
   "display_name": "Python 3",
   "language": "python",
   "name": "python3"
  },
  "language_info": {
   "codemirror_mode": {
    "name": "ipython",
    "version": 3
   },
   "file_extension": ".py",
   "mimetype": "text/x-python",
   "name": "python",
   "nbconvert_exporter": "python",
   "pygments_lexer": "ipython3",
   "version": "3.11.4"
  },
  "toc": {
   "base_numbering": 1,
   "nav_menu": {},
   "number_sections": false,
   "sideBar": true,
   "skip_h1_title": false,
   "title_cell": "Table of Contents",
   "title_sidebar": "Contents",
   "toc_cell": false,
   "toc_position": {},
   "toc_section_display": true,
   "toc_window_display": false
  },
  "varInspector": {
   "cols": {
    "lenName": 16,
    "lenType": 16,
    "lenVar": 40
   },
   "kernels_config": {
    "python": {
     "delete_cmd_postfix": "",
     "delete_cmd_prefix": "del ",
     "library": "var_list.py",
     "varRefreshCmd": "print(var_dic_list())"
    },
    "r": {
     "delete_cmd_postfix": ") ",
     "delete_cmd_prefix": "rm(",
     "library": "var_list.r",
     "varRefreshCmd": "cat(var_dic_list()) "
    }
   },
   "types_to_exclude": [
    "module",
    "function",
    "builtin_function_or_method",
    "instance",
    "_Feature"
   ],
   "window_display": false
  }
 },
 "nbformat": 4,
 "nbformat_minor": 5
}
