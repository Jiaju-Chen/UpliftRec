{
 "cells": [
  {
   "cell_type": "code",
   "execution_count": 1,
   "id": "9ba55a94",
   "metadata": {
    "ExecuteTime": {
     "end_time": "2023-04-13T12:40:03.471448Z",
     "start_time": "2023-04-13T12:40:02.753420Z"
    }
   },
   "outputs": [],
   "source": [
    "import numpy as np\n",
    "import pandas as pd\n",
    "import os"
   ]
  },
  {
   "cell_type": "code",
   "execution_count": 2,
   "id": "3ecfb359",
   "metadata": {
    "ExecuteTime": {
     "end_time": "2022-11-22T15:15:24.568805Z",
     "start_time": "2022-11-22T15:15:24.555801Z"
    }
   },
   "outputs": [],
   "source": [
    "# # create folders\n",
    "# path='./features'\n",
    "# if not os.path.exists(path):\n",
    "#     os.mkdir(path)\n",
    "# path='./sets'\n",
    "# if not os.path.exists(path):\n",
    "#     os.mkdir(path)"
   ]
  },
  {
   "cell_type": "code",
   "execution_count": 2,
   "id": "1650b7ca",
   "metadata": {
    "ExecuteTime": {
     "end_time": "2023-04-13T12:40:08.247075Z",
     "start_time": "2023-04-13T12:40:08.228967Z"
    }
   },
   "outputs": [],
   "source": [
    "dataset = 'yahoo'"
   ]
  },
  {
   "cell_type": "code",
   "execution_count": 4,
   "id": "7d86da50",
   "metadata": {
    "ExecuteTime": {
     "end_time": "2022-11-22T15:15:24.600807Z",
     "start_time": "2022-11-22T15:15:24.589808Z"
    }
   },
   "outputs": [
    {
     "data": {
      "text/plain": [
       "12"
      ]
     },
     "execution_count": 4,
     "metadata": {},
     "output_type": "execute_result"
    }
   ],
   "source": [
    "category_num = len(np.load('../{}-v1/features/category_list.npy'.format(dataset)))\n",
    "category_num"
   ]
  },
  {
   "cell_type": "code",
   "execution_count": 3,
   "id": "6d94be38",
   "metadata": {
    "ExecuteTime": {
     "end_time": "2023-04-13T12:40:12.848956Z",
     "start_time": "2023-04-13T12:40:12.781204Z"
    }
   },
   "outputs": [
    {
     "data": {
      "text/plain": [
       "14382"
      ]
     },
     "execution_count": 3,
     "metadata": {},
     "output_type": "execute_result"
    }
   ],
   "source": [
    "user_num = len(np.load('../{}-v1/sets/training_dict.npy'.format(dataset), allow_pickle=True).item());user_num#one no positive"
   ]
  },
  {
   "cell_type": "code",
   "execution_count": 4,
   "id": "4e3e03c4",
   "metadata": {
    "ExecuteTime": {
     "end_time": "2023-04-13T12:40:17.648886Z",
     "start_time": "2023-04-13T12:40:17.627886Z"
    }
   },
   "outputs": [
    {
     "data": {
      "text/plain": [
       "1162"
      ]
     },
     "execution_count": 4,
     "metadata": {},
     "output_type": "execute_result"
    }
   ],
   "source": [
    "user_num = len(np.load('../{}-v1/sets/testing_dict.npy'.format(dataset), allow_pickle=True).item());user_num"
   ]
  },
  {
   "cell_type": "code",
   "execution_count": 5,
   "id": "e646d3d3",
   "metadata": {
    "ExecuteTime": {
     "end_time": "2023-04-13T12:40:24.714072Z",
     "start_time": "2023-04-13T12:40:24.426943Z"
    }
   },
   "outputs": [],
   "source": [
    "training_dict = np.load('../{}-v1/sets/training_dict.npy'.format(dataset), allow_pickle=True).item()\n",
    "with open(\"train.txt\",\"w\") as f:\n",
    "    for user in training_dict:\n",
    "        f.write(str(user))\n",
    "        for item in training_dict[user]:\n",
    "            f.write(' ' + str(item))\n",
    "        f.write('\\n')\n",
    "np.save('./training_dict.npy', np.array(training_dict))"
   ]
  },
  {
   "cell_type": "code",
   "execution_count": 6,
   "id": "00ac606b",
   "metadata": {
    "ExecuteTime": {
     "end_time": "2023-04-13T12:41:04.866634Z",
     "start_time": "2023-04-13T12:41:04.827630Z"
    }
   },
   "outputs": [
    {
     "data": {
      "text/plain": [
       "125077"
      ]
     },
     "execution_count": 6,
     "metadata": {},
     "output_type": "execute_result"
    }
   ],
   "source": [
    "le = 0\n",
    "for u in training_dict:\n",
    "    le += len(training_dict[u])\n",
    "le"
   ]
  },
  {
   "cell_type": "code",
   "execution_count": 8,
   "id": "62bf1c8b",
   "metadata": {
    "ExecuteTime": {
     "end_time": "2023-04-13T12:46:01.955880Z",
     "start_time": "2023-04-13T12:46:01.933883Z"
    }
   },
   "outputs": [
    {
     "data": {
      "text/plain": [
       "0.008121883116883118"
      ]
     },
     "execution_count": 8,
     "metadata": {},
     "output_type": "execute_result"
    }
   ],
   "source": [
    "le/15400/1000"
   ]
  },
  {
   "cell_type": "code",
   "execution_count": 8,
   "id": "88460b57",
   "metadata": {
    "ExecuteTime": {
     "end_time": "2022-11-22T15:15:24.941710Z",
     "start_time": "2022-11-22T15:15:24.914213Z"
    }
   },
   "outputs": [],
   "source": [
    "validation_dict = np.load('../{}-v1/sets/validation_dict.npy'.format(dataset), allow_pickle=True).item()\n",
    "with open(\"valid.txt\",\"w\") as f:\n",
    "    for user in validation_dict:\n",
    "        f.write(str(user))\n",
    "        for item in validation_dict[user]:\n",
    "            f.write(' ' + str(item))\n",
    "        f.write('\\n')\n",
    "np.save('./validation_dict.npy', np.array(validation_dict))"
   ]
  },
  {
   "cell_type": "code",
   "execution_count": 9,
   "id": "37ba377a",
   "metadata": {
    "ExecuteTime": {
     "end_time": "2022-11-22T15:15:24.973713Z",
     "start_time": "2022-11-22T15:15:24.946712Z"
    }
   },
   "outputs": [],
   "source": [
    "testing_dict = np.load('../{}-v1/sets/testing_dict.npy'.format(dataset), allow_pickle=True).item()\n",
    "with open(\"test.txt\",\"w\") as f:\n",
    "    for user in validation_dict:\n",
    "        f.write(str(user))\n",
    "        for item in testing_dict[user]:\n",
    "            f.write(' ' + str(item))\n",
    "        f.write('\\n')\n",
    "np.save('./testing_dict.npy', np.array(testing_dict))"
   ]
  },
  {
   "cell_type": "code",
   "execution_count": 10,
   "id": "ec142016",
   "metadata": {
    "ExecuteTime": {
     "end_time": "2022-11-22T15:15:25.364739Z",
     "start_time": "2022-11-22T15:15:24.975715Z"
    }
   },
   "outputs": [],
   "source": [
    "item_feature_dict = np.load('../{}-v1/features/item_feature_dict.npy'.format(dataset), allow_pickle=True).item()\n",
    "topk_category = 3\n",
    "user_fml_cat = {}\n",
    "for user in training_dict:\n",
    "    category_cnt = [0] * category_num\n",
    "    for item in training_dict[user]:\n",
    "        for cat in item_feature_dict[item]:\n",
    "            category_cnt[cat] += 1\n",
    "    sorted_list = list(np.argsort(category_cnt))\n",
    "    fml_cat = sorted_list[-topk_category:]\n",
    "    user_fml_cat[user] = fml_cat\n",
    "np.save('./user_fml_cat.npy', np.array(user_fml_cat))\n",
    "np.save('./item_feature_dict.npy', np.array(item_feature_dict))"
   ]
  },
  {
   "cell_type": "code",
   "execution_count": 11,
   "id": "e9cffa92",
   "metadata": {
    "ExecuteTime": {
     "end_time": "2022-11-22T15:15:25.394743Z",
     "start_time": "2022-11-22T15:15:25.367743Z"
    }
   },
   "outputs": [],
   "source": [
    "item_rank_dict = np.load('../{}-v1/features/item_rank_dict.npy'.format(dataset), allow_pickle=True).item()\n",
    "np.save('./item_rank_dict.npy', np.array(item_rank_dict))\n",
    "category_list = np.load('../{}-v1/features/category_list.npy'.format(dataset))\n",
    "np.save('./category_list.npy', np.array(category_list))"
   ]
  },
  {
   "cell_type": "code",
   "execution_count": null,
   "id": "d5638ca6",
   "metadata": {},
   "outputs": [],
   "source": []
  }
 ],
 "metadata": {
  "hide_input": false,
  "kernelspec": {
   "display_name": "Python 3 (ipykernel)",
   "language": "python",
   "name": "python3"
  },
  "language_info": {
   "codemirror_mode": {
    "name": "ipython",
    "version": 3
   },
   "file_extension": ".py",
   "mimetype": "text/x-python",
   "name": "python",
   "nbconvert_exporter": "python",
   "pygments_lexer": "ipython3",
   "version": "3.9.12"
  },
  "toc": {
   "base_numbering": 1,
   "nav_menu": {},
   "number_sections": false,
   "sideBar": true,
   "skip_h1_title": false,
   "title_cell": "Table of Contents",
   "title_sidebar": "Contents",
   "toc_cell": false,
   "toc_position": {},
   "toc_section_display": true,
   "toc_window_display": false
  },
  "varInspector": {
   "cols": {
    "lenName": 16,
    "lenType": 16,
    "lenVar": 40
   },
   "kernels_config": {
    "python": {
     "delete_cmd_postfix": "",
     "delete_cmd_prefix": "del ",
     "library": "var_list.py",
     "varRefreshCmd": "print(var_dic_list())"
    },
    "r": {
     "delete_cmd_postfix": ") ",
     "delete_cmd_prefix": "rm(",
     "library": "var_list.r",
     "varRefreshCmd": "cat(var_dic_list()) "
    }
   },
   "types_to_exclude": [
    "module",
    "function",
    "builtin_function_or_method",
    "instance",
    "_Feature"
   ],
   "window_display": false
  }
 },
 "nbformat": 4,
 "nbformat_minor": 5
}
