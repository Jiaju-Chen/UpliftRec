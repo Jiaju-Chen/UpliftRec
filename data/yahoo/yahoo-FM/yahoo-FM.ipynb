{
 "cells": [
  {
   "cell_type": "code",
   "execution_count": 1,
   "id": "fd26614c",
   "metadata": {
    "ExecuteTime": {
     "end_time": "2023-04-23T09:13:31.512026Z",
     "start_time": "2023-04-23T09:13:30.825983Z"
    }
   },
   "outputs": [],
   "source": [
    "import numpy as np\n",
    "import pandas as pd\n",
    "import os"
   ]
  },
  {
   "cell_type": "code",
   "execution_count": 2,
   "id": "beb56c82",
   "metadata": {
    "ExecuteTime": {
     "end_time": "2023-04-23T09:13:31.544029Z",
     "start_time": "2023-04-23T09:13:31.513027Z"
    }
   },
   "outputs": [
    {
     "data": {
      "text/plain": [
       "14382"
      ]
     },
     "execution_count": 2,
     "metadata": {},
     "output_type": "execute_result"
    }
   ],
   "source": [
    "user_num = len(np.load('./sets/training_dict.npy', allow_pickle=True).item());user_num#one no positive"
   ]
  },
  {
   "cell_type": "code",
   "execution_count": 3,
   "id": "9be75a9d",
   "metadata": {
    "ExecuteTime": {
     "end_time": "2023-04-23T09:13:31.560027Z",
     "start_time": "2023-04-23T09:13:31.547030Z"
    }
   },
   "outputs": [
    {
     "data": {
      "text/plain": [
       "1162"
      ]
     },
     "execution_count": 3,
     "metadata": {},
     "output_type": "execute_result"
    }
   ],
   "source": [
    "user_num = len(np.load('./sets/testing_dict.npy', allow_pickle=True).item());user_num"
   ]
  },
  {
   "cell_type": "code",
   "execution_count": 4,
   "id": "0411ed37",
   "metadata": {
    "ExecuteTime": {
     "end_time": "2023-04-23T09:13:31.640032Z",
     "start_time": "2023-04-23T09:13:31.561026Z"
    }
   },
   "outputs": [],
   "source": [
    "training_dict = np.load('./sets/training_dict.npy', allow_pickle=True).item()\n",
    "training_list = np.load('./sets/training_list.npy', allow_pickle=True)\n",
    "\n",
    "validation_dict = np.load('./sets/validation_dict.npy', allow_pickle=True).item()\n",
    "testing_dict = np.load('./sets/testing_dict.npy', allow_pickle=True).item()"
   ]
  },
  {
   "cell_type": "markdown",
   "id": "07a1ee4b",
   "metadata": {},
   "source": [
    "# data related to item features are regenerated in FM preprocessing"
   ]
  },
  {
   "cell_type": "code",
   "execution_count": 5,
   "id": "cc6537d4",
   "metadata": {
    "ExecuteTime": {
     "end_time": "2023-04-23T09:14:02.887209Z",
     "start_time": "2023-04-23T09:13:31.642032Z"
    }
   },
   "outputs": [
    {
     "name": "stderr",
     "output_type": "stream",
     "text": [
      "  0%|                                                                                           | 0/29 [00:00<?, ?it/s]D:\\download\\anaconda\\envs\\myjupyter\\lib\\site-packages\\sklearn\\cluster\\_kmeans.py:1332: UserWarning: KMeans is known to have a memory leak on Windows with MKL, when there are less chunks than available threads. You can avoid it by setting the environment variable OMP_NUM_THREADS=4.\n",
      "  warnings.warn(\n",
      "  3%|██▊                                                                                | 1/29 [00:00<00:11,  2.36it/s]D:\\download\\anaconda\\envs\\myjupyter\\lib\\site-packages\\sklearn\\cluster\\_kmeans.py:1332: UserWarning: KMeans is known to have a memory leak on Windows with MKL, when there are less chunks than available threads. You can avoid it by setting the environment variable OMP_NUM_THREADS=4.\n",
      "  warnings.warn(\n",
      "  7%|█████▋                                                                             | 2/29 [00:00<00:11,  2.35it/s]D:\\download\\anaconda\\envs\\myjupyter\\lib\\site-packages\\sklearn\\cluster\\_kmeans.py:1332: UserWarning: KMeans is known to have a memory leak on Windows with MKL, when there are less chunks than available threads. You can avoid it by setting the environment variable OMP_NUM_THREADS=4.\n",
      "  warnings.warn(\n",
      " 10%|████████▌                                                                          | 3/29 [00:01<00:11,  2.27it/s]D:\\download\\anaconda\\envs\\myjupyter\\lib\\site-packages\\sklearn\\cluster\\_kmeans.py:1332: UserWarning: KMeans is known to have a memory leak on Windows with MKL, when there are less chunks than available threads. You can avoid it by setting the environment variable OMP_NUM_THREADS=4.\n",
      "  warnings.warn(\n",
      " 14%|███████████▍                                                                       | 4/29 [00:01<00:12,  2.08it/s]D:\\download\\anaconda\\envs\\myjupyter\\lib\\site-packages\\sklearn\\cluster\\_kmeans.py:1332: UserWarning: KMeans is known to have a memory leak on Windows with MKL, when there are less chunks than available threads. You can avoid it by setting the environment variable OMP_NUM_THREADS=4.\n",
      "  warnings.warn(\n",
      " 17%|██████████████▎                                                                    | 5/29 [00:02<00:12,  1.97it/s]D:\\download\\anaconda\\envs\\myjupyter\\lib\\site-packages\\sklearn\\cluster\\_kmeans.py:1332: UserWarning: KMeans is known to have a memory leak on Windows with MKL, when there are less chunks than available threads. You can avoid it by setting the environment variable OMP_NUM_THREADS=4.\n",
      "  warnings.warn(\n",
      " 21%|█████████████████▏                                                                 | 6/29 [00:02<00:12,  1.87it/s]D:\\download\\anaconda\\envs\\myjupyter\\lib\\site-packages\\sklearn\\cluster\\_kmeans.py:1332: UserWarning: KMeans is known to have a memory leak on Windows with MKL, when there are less chunks than available threads. You can avoid it by setting the environment variable OMP_NUM_THREADS=4.\n",
      "  warnings.warn(\n",
      " 24%|████████████████████                                                               | 7/29 [00:03<00:12,  1.74it/s]D:\\download\\anaconda\\envs\\myjupyter\\lib\\site-packages\\sklearn\\cluster\\_kmeans.py:1332: UserWarning: KMeans is known to have a memory leak on Windows with MKL, when there are less chunks than available threads. You can avoid it by setting the environment variable OMP_NUM_THREADS=4.\n",
      "  warnings.warn(\n",
      " 28%|██████████████████████▉                                                            | 8/29 [00:04<00:12,  1.62it/s]D:\\download\\anaconda\\envs\\myjupyter\\lib\\site-packages\\sklearn\\cluster\\_kmeans.py:1332: UserWarning: KMeans is known to have a memory leak on Windows with MKL, when there are less chunks than available threads. You can avoid it by setting the environment variable OMP_NUM_THREADS=4.\n",
      "  warnings.warn(\n",
      " 31%|█████████████████████████▊                                                         | 9/29 [00:05<00:13,  1.50it/s]D:\\download\\anaconda\\envs\\myjupyter\\lib\\site-packages\\sklearn\\cluster\\_kmeans.py:1332: UserWarning: KMeans is known to have a memory leak on Windows with MKL, when there are less chunks than available threads. You can avoid it by setting the environment variable OMP_NUM_THREADS=4.\n",
      "  warnings.warn(\n",
      " 34%|████████████████████████████▎                                                     | 10/29 [00:05<00:13,  1.39it/s]D:\\download\\anaconda\\envs\\myjupyter\\lib\\site-packages\\sklearn\\cluster\\_kmeans.py:1332: UserWarning: KMeans is known to have a memory leak on Windows with MKL, when there are less chunks than available threads. You can avoid it by setting the environment variable OMP_NUM_THREADS=4.\n",
      "  warnings.warn(\n",
      " 38%|███████████████████████████████                                                   | 11/29 [00:06<00:13,  1.33it/s]D:\\download\\anaconda\\envs\\myjupyter\\lib\\site-packages\\sklearn\\cluster\\_kmeans.py:1332: UserWarning: KMeans is known to have a memory leak on Windows with MKL, when there are less chunks than available threads. You can avoid it by setting the environment variable OMP_NUM_THREADS=4.\n",
      "  warnings.warn(\n",
      " 41%|█████████████████████████████████▉                                                | 12/29 [00:07<00:13,  1.23it/s]D:\\download\\anaconda\\envs\\myjupyter\\lib\\site-packages\\sklearn\\cluster\\_kmeans.py:1332: UserWarning: KMeans is known to have a memory leak on Windows with MKL, when there are less chunks than available threads. You can avoid it by setting the environment variable OMP_NUM_THREADS=4.\n",
      "  warnings.warn(\n",
      " 45%|████████████████████████████████████▊                                             | 13/29 [00:08<00:14,  1.14it/s]D:\\download\\anaconda\\envs\\myjupyter\\lib\\site-packages\\sklearn\\cluster\\_kmeans.py:1332: UserWarning: KMeans is known to have a memory leak on Windows with MKL, when there are less chunks than available threads. You can avoid it by setting the environment variable OMP_NUM_THREADS=4.\n",
      "  warnings.warn(\n",
      " 48%|███████████████████████████████████████▌                                          | 14/29 [00:09<00:13,  1.11it/s]D:\\download\\anaconda\\envs\\myjupyter\\lib\\site-packages\\sklearn\\cluster\\_kmeans.py:1332: UserWarning: KMeans is known to have a memory leak on Windows with MKL, when there are less chunks than available threads. You can avoid it by setting the environment variable OMP_NUM_THREADS=4.\n",
      "  warnings.warn(\n",
      " 52%|██████████████████████████████████████████▍                                       | 15/29 [00:10<00:13,  1.07it/s]D:\\download\\anaconda\\envs\\myjupyter\\lib\\site-packages\\sklearn\\cluster\\_kmeans.py:1332: UserWarning: KMeans is known to have a memory leak on Windows with MKL, when there are less chunks than available threads. You can avoid it by setting the environment variable OMP_NUM_THREADS=4.\n",
      "  warnings.warn(\n",
      " 55%|█████████████████████████████████████████████▏                                    | 16/29 [00:11<00:12,  1.05it/s]D:\\download\\anaconda\\envs\\myjupyter\\lib\\site-packages\\sklearn\\cluster\\_kmeans.py:1332: UserWarning: KMeans is known to have a memory leak on Windows with MKL, when there are less chunks than available threads. You can avoid it by setting the environment variable OMP_NUM_THREADS=4.\n",
      "  warnings.warn(\n",
      " 59%|████████████████████████████████████████████████                                  | 17/29 [00:12<00:11,  1.01it/s]D:\\download\\anaconda\\envs\\myjupyter\\lib\\site-packages\\sklearn\\cluster\\_kmeans.py:1332: UserWarning: KMeans is known to have a memory leak on Windows with MKL, when there are less chunks than available threads. You can avoid it by setting the environment variable OMP_NUM_THREADS=4.\n",
      "  warnings.warn(\n",
      " 62%|██████████████████████████████████████████████████▉                               | 18/29 [00:13<00:11,  1.02s/it]D:\\download\\anaconda\\envs\\myjupyter\\lib\\site-packages\\sklearn\\cluster\\_kmeans.py:1332: UserWarning: KMeans is known to have a memory leak on Windows with MKL, when there are less chunks than available threads. You can avoid it by setting the environment variable OMP_NUM_THREADS=4.\n",
      "  warnings.warn(\n",
      " 66%|█████████████████████████████████████████████████████▋                            | 19/29 [00:15<00:10,  1.06s/it]D:\\download\\anaconda\\envs\\myjupyter\\lib\\site-packages\\sklearn\\cluster\\_kmeans.py:1332: UserWarning: KMeans is known to have a memory leak on Windows with MKL, when there are less chunks than available threads. You can avoid it by setting the environment variable OMP_NUM_THREADS=4.\n",
      "  warnings.warn(\n"
     ]
    },
    {
     "name": "stderr",
     "output_type": "stream",
     "text": [
      " 69%|████████████████████████████████████████████████████████▌                         | 20/29 [00:16<00:09,  1.11s/it]D:\\download\\anaconda\\envs\\myjupyter\\lib\\site-packages\\sklearn\\cluster\\_kmeans.py:1332: UserWarning: KMeans is known to have a memory leak on Windows with MKL, when there are less chunks than available threads. You can avoid it by setting the environment variable OMP_NUM_THREADS=4.\n",
      "  warnings.warn(\n",
      " 72%|███████████████████████████████████████████████████████████▍                      | 21/29 [00:17<00:09,  1.14s/it]D:\\download\\anaconda\\envs\\myjupyter\\lib\\site-packages\\sklearn\\cluster\\_kmeans.py:1332: UserWarning: KMeans is known to have a memory leak on Windows with MKL, when there are less chunks than available threads. You can avoid it by setting the environment variable OMP_NUM_THREADS=4.\n",
      "  warnings.warn(\n",
      " 76%|██████████████████████████████████████████████████████████████▏                   | 22/29 [00:18<00:08,  1.20s/it]D:\\download\\anaconda\\envs\\myjupyter\\lib\\site-packages\\sklearn\\cluster\\_kmeans.py:1332: UserWarning: KMeans is known to have a memory leak on Windows with MKL, when there are less chunks than available threads. You can avoid it by setting the environment variable OMP_NUM_THREADS=4.\n",
      "  warnings.warn(\n",
      " 79%|█████████████████████████████████████████████████████████████████                 | 23/29 [00:20<00:07,  1.24s/it]D:\\download\\anaconda\\envs\\myjupyter\\lib\\site-packages\\sklearn\\cluster\\_kmeans.py:1332: UserWarning: KMeans is known to have a memory leak on Windows with MKL, when there are less chunks than available threads. You can avoid it by setting the environment variable OMP_NUM_THREADS=4.\n",
      "  warnings.warn(\n",
      " 83%|███████████████████████████████████████████████████████████████████▊              | 24/29 [00:21<00:06,  1.29s/it]D:\\download\\anaconda\\envs\\myjupyter\\lib\\site-packages\\sklearn\\cluster\\_kmeans.py:1332: UserWarning: KMeans is known to have a memory leak on Windows with MKL, when there are less chunks than available threads. You can avoid it by setting the environment variable OMP_NUM_THREADS=4.\n",
      "  warnings.warn(\n",
      " 86%|██████████████████████████████████████████████████████████████████████▋           | 25/29 [00:23<00:05,  1.34s/it]D:\\download\\anaconda\\envs\\myjupyter\\lib\\site-packages\\sklearn\\cluster\\_kmeans.py:1332: UserWarning: KMeans is known to have a memory leak on Windows with MKL, when there are less chunks than available threads. You can avoid it by setting the environment variable OMP_NUM_THREADS=4.\n",
      "  warnings.warn(\n",
      " 90%|█████████████████████████████████████████████████████████████████████████▌        | 26/29 [00:24<00:04,  1.36s/it]D:\\download\\anaconda\\envs\\myjupyter\\lib\\site-packages\\sklearn\\cluster\\_kmeans.py:1332: UserWarning: KMeans is known to have a memory leak on Windows with MKL, when there are less chunks than available threads. You can avoid it by setting the environment variable OMP_NUM_THREADS=4.\n",
      "  warnings.warn(\n",
      " 93%|████████████████████████████████████████████████████████████████████████████▎     | 27/29 [00:25<00:02,  1.41s/it]D:\\download\\anaconda\\envs\\myjupyter\\lib\\site-packages\\sklearn\\cluster\\_kmeans.py:1332: UserWarning: KMeans is known to have a memory leak on Windows with MKL, when there are less chunks than available threads. You can avoid it by setting the environment variable OMP_NUM_THREADS=4.\n",
      "  warnings.warn(\n",
      " 97%|███████████████████████████████████████████████████████████████████████████████▏  | 28/29 [00:27<00:01,  1.45s/it]D:\\download\\anaconda\\envs\\myjupyter\\lib\\site-packages\\sklearn\\cluster\\_kmeans.py:1332: UserWarning: KMeans is known to have a memory leak on Windows with MKL, when there are less chunks than available threads. You can avoid it by setting the environment variable OMP_NUM_THREADS=4.\n",
      "  warnings.warn(\n",
      "100%|██████████████████████████████████████████████████████████████████████████████████| 29/29 [00:29<00:00,  1.00s/it]\n"
     ]
    },
    {
     "data": {
      "image/png": "[encoded data removed]",
      "text/plain": [
       "<Figure size 432x288 with 1 Axes>"
      ]
     },
     "metadata": {
      "needs_background": "light"
     },
     "output_type": "display_data"
    }
   ],
   "source": [
    "embed_item = np.load(\"./embed_item_MF_yahoo_512factor_num_0.0001lr_256bs_0.0dropout.npy\")\n",
    "\n",
    "import pandas as pd  \n",
    "from sklearn.cluster import KMeans  \n",
    "import matplotlib.pyplot as plt  \n",
    "from tqdm import tqdm\n",
    "'利用SSE选择k'  \n",
    "max_catenum = 30\n",
    "SSE = []  # 存放每次结果的误差平方和  \n",
    "for k in tqdm(range(1,max_catenum)):  \n",
    "    estimator = KMeans(n_clusters=k, random_state=1)  # 构造聚类器  \n",
    "    estimator.fit(embed_item)  \n",
    "    SSE.append(estimator.inertia_) \n",
    "\n",
    "X = range(1,max_catenum) \n",
    "plt.xlabel('k')  \n",
    "plt.ylabel('SSE')  \n",
    "plt.plot(X[2:],SSE[2:],'o-')  \n",
    "plt.show() "
   ]
  },
  {
   "cell_type": "code",
   "execution_count": 6,
   "id": "e99efea8",
   "metadata": {
    "ExecuteTime": {
     "end_time": "2023-04-23T09:14:03.011215Z",
     "start_time": "2023-04-23T09:14:02.889209Z"
    }
   },
   "outputs": [
    {
     "data": {
      "image/png": "[encoded data removed]",
      "text/plain": [
       "<Figure size 432x288 with 1 Axes>"
      ]
     },
     "metadata": {
      "needs_background": "light"
     },
     "output_type": "display_data"
    }
   ],
   "source": [
    "plt.plot(X[:15],SSE[:15],'o-')  \n",
    "plt.show() "
   ]
  },
  {
   "cell_type": "code",
   "execution_count": 7,
   "id": "5e34e3bd",
   "metadata": {
    "ExecuteTime": {
     "end_time": "2023-04-23T09:14:03.907281Z",
     "start_time": "2023-04-23T09:14:03.014218Z"
    }
   },
   "outputs": [
    {
     "name": "stderr",
     "output_type": "stream",
     "text": [
      "D:\\download\\anaconda\\envs\\myjupyter\\lib\\site-packages\\sklearn\\cluster\\_kmeans.py:1332: UserWarning: KMeans is known to have a memory leak on Windows with MKL, when there are less chunks than available threads. You can avoid it by setting the environment variable OMP_NUM_THREADS=4.\n",
      "  warnings.warn(\n"
     ]
    }
   ],
   "source": [
    "from sklearn.cluster import KMeans\n",
    "# choose 12 since the change from 11 to 12 is big\n",
    "category_num_new = 12\n",
    "kmeans_model = KMeans(category_num_new, random_state=1)\n",
    "kmeans_model.fit(embed_item)\n",
    "labels = kmeans_model.labels_"
   ]
  },
  {
   "cell_type": "code",
   "execution_count": 8,
   "id": "85fe9f8c",
   "metadata": {
    "ExecuteTime": {
     "end_time": "2023-04-23T09:14:03.955285Z",
     "start_time": "2023-04-23T09:14:03.909282Z"
    }
   },
   "outputs": [
    {
     "name": "stdout",
     "output_type": "stream",
     "text": [
      "0 70\n",
      "1 132\n",
      "2 76\n",
      "3 71\n",
      "4 53\n",
      "5 67\n",
      "6 114\n",
      "7 60\n",
      "8 60\n",
      "9 133\n",
      "10 43\n",
      "11 121\n"
     ]
    }
   ],
   "source": [
    "for i in set(labels):\n",
    "    print(i, sum(labels==i))"
   ]
  },
  {
   "cell_type": "code",
   "execution_count": 9,
   "id": "2aa5c464",
   "metadata": {
    "ExecuteTime": {
     "end_time": "2023-04-23T09:14:03.987289Z",
     "start_time": "2023-04-23T09:14:03.962288Z"
    }
   },
   "outputs": [],
   "source": [
    "# create item_feature_dict file CHANGED!!!\n",
    "item_feature_dict = {}\n",
    "for item in range(embed_item.shape[0]):\n",
    "    item_feature_dict[item] = [labels[item]]\n",
    "\n",
    "np.save('./features/item_feature_dict.npy', np.array(item_feature_dict))\n",
    "\n",
    "# create category_list file\n",
    "category_list = list(range(category_num_new))\n",
    "np.save('./features/category_list.npy', np.array(category_list))"
   ]
  },
  {
   "cell_type": "code",
   "execution_count": 10,
   "id": "9335ebae",
   "metadata": {
    "ExecuteTime": {
     "end_time": "2023-04-23T09:14:04.017290Z",
     "start_time": "2023-04-23T09:14:03.990290Z"
    }
   },
   "outputs": [
    {
     "name": "stdout",
     "output_type": "stream",
     "text": [
      "1000\n",
      "1000\n"
     ]
    }
   ],
   "source": [
    "pop_rank = dict(pd.DataFrame(training_list)[1].value_counts())\n",
    "print(len(pop_rank))\n",
    "for i in range(embed_item.shape[0]):\n",
    "    if i not in pop_rank:\n",
    "        pop_rank[i] = 0\n",
    "print(len(pop_rank))\n",
    "\n",
    "item_rank_dict = {} #id:rank\n",
    "rank = 0\n",
    "for element in pop_rank:\n",
    "    item_rank_dict[element] = rank\n",
    "    rank += 1\n",
    "np.save('./features/item_rank_dict.npy', np.array(item_rank_dict))"
   ]
  },
  {
   "cell_type": "code",
   "execution_count": 11,
   "id": "b2e074bf",
   "metadata": {
    "ExecuteTime": {
     "end_time": "2023-04-23T09:14:04.157300Z",
     "start_time": "2023-04-23T09:14:04.020292Z"
    }
   },
   "outputs": [
    {
     "data": {
      "image/png": "[encoded data removed]",
      "text/plain": [
       "<Figure size 432x288 with 1 Axes>"
      ]
     },
     "metadata": {
      "needs_background": "light"
     },
     "output_type": "display_data"
    }
   ],
   "source": [
    "import matplotlib.pyplot as plt\n",
    "a = pop_rank.values()\n",
    "plt.plot(a)\n",
    "plt.ylim(bottom=0.)\n",
    "#ax.set_xlim(left=0.)\n",
    "plt.xlabel(\"rank\")\n",
    "plt.ylabel(\"num_ratings\")\n",
    "plt.show()"
   ]
  },
  {
   "cell_type": "code",
   "execution_count": 12,
   "id": "19a4860b",
   "metadata": {
    "ExecuteTime": {
     "end_time": "2023-04-23T09:14:04.506326Z",
     "start_time": "2023-04-23T09:14:04.160303Z"
    }
   },
   "outputs": [],
   "source": [
    "category_num = len(category_list)\n",
    "topk_category = 3\n",
    "user_fml_cat_big = {}\n",
    "for user in training_dict:\n",
    "    category_cnt = [0] * category_num\n",
    "    for item in training_dict[user]:\n",
    "        for cat in item_feature_dict[item]:\n",
    "            category_cnt[cat] += 1\n",
    "    sorted_list = list(np.argsort(category_cnt))\n",
    "    fml_cat = sorted_list[-topk_category:]\n",
    "    user_fml_cat_big[user] = fml_cat\n",
    "np.save('./features/user_fml_cat.npy', np.array(user_fml_cat_big))"
   ]
  },
  {
   "cell_type": "code",
   "execution_count": 13,
   "id": "69f65019",
   "metadata": {
    "ExecuteTime": {
     "end_time": "2023-04-23T09:14:04.726342Z",
     "start_time": "2023-04-23T09:14:04.508328Z"
    }
   },
   "outputs": [],
   "source": [
    "category_num = len(category_list)\n",
    "user_fml_cat_big = {}\n",
    "for user in training_dict:\n",
    "    category_cnt = [0] * category_num\n",
    "    for item in training_dict[user]:\n",
    "        #print(item_feature_dict[item])\n",
    "        for cat in item_feature_dict[item]:\n",
    "            category_cnt[cat] += 1/len(item_feature_dict[item])\n",
    "    pscore = (np.array(category_cnt) / max(category_cnt)) #** 0.5\n",
    "    user_fml_cat_big[user] = pscore.tolist()\n",
    "np.save('./features/IPS.npy', np.array(user_fml_cat_big))\n",
    "np.save('./features/IPS_item_cal.npy', np.array(item_feature_dict))"
   ]
  },
  {
   "cell_type": "code",
   "execution_count": 14,
   "id": "12aa9b60",
   "metadata": {
    "ExecuteTime": {
     "end_time": "2023-04-23T09:14:04.941357Z",
     "start_time": "2023-04-23T09:14:04.728343Z"
    }
   },
   "outputs": [],
   "source": [
    "user_feature_file = {}\n",
    "for userID in training_dict:\n",
    "    user_feature_file[userID] = [['U'+str(userID)]]\n",
    "    user_feature_file[userID].append([str(1)]*len(user_feature_file[userID][0]))\n",
    "\n",
    "item_feature_file = {}\n",
    "for itemID in item_feature_dict:\n",
    "    item_feature_file[itemID] = [['I'+str(itemID)]]\n",
    "    item_feature_file[itemID].append(['1'])\n",
    "    for cate in range(0, len(category_list)):\n",
    "        if cate in item_feature_dict[itemID]:\n",
    "            item_feature_file[itemID][0].append('IC'+str(cate))\n",
    "            item_feature_file[itemID][1].append(str(round(1.0/len(item_feature_dict[itemID]), 2)))\n",
    "        else:\n",
    "            item_feature_file[itemID][0].append('IC'+str(cate))\n",
    "            item_feature_file[itemID][1].append(str(0))\n",
    "np.save('./features/user_feature_file.npy', np.array(user_feature_file))\n",
    "np.save('./features/item_feature_file.npy', np.array(item_feature_file))"
   ]
  },
  {
   "cell_type": "code",
   "execution_count": 15,
   "id": "7074d934",
   "metadata": {
    "ExecuteTime": {
     "end_time": "2023-04-23T09:14:04.957359Z",
     "start_time": "2023-04-23T09:14:04.943359Z"
    }
   },
   "outputs": [],
   "source": [
    "item_cat_vec = {}\n",
    "for itemID in item_feature_dict:\n",
    "    item_cat_vec[itemID] = [0] * category_num\n",
    "    cat_num = len(item_feature_dict[itemID])\n",
    "    for cat in item_feature_dict[itemID]:\n",
    "        item_cat_vec[itemID][cat] = 1 / np.sqrt(cat_num)\n",
    "np.save('./features/item_cat_vec.npy', np.array(item_cat_vec))"
   ]
  }
 ],
 "metadata": {
  "hide_input": false,
  "kernelspec": {
   "display_name": "Python 3 (ipykernel)",
   "language": "python",
   "name": "python3"
  },
  "language_info": {
   "codemirror_mode": {
    "name": "ipython",
    "version": 3
   },
   "file_extension": ".py",
   "mimetype": "text/x-python",
   "name": "python",
   "nbconvert_exporter": "python",
   "pygments_lexer": "ipython3",
   "version": "3.9.12"
  },
  "toc": {
   "base_numbering": 1,
   "nav_menu": {},
   "number_sections": false,
   "sideBar": true,
   "skip_h1_title": false,
   "title_cell": "Table of Contents",
   "title_sidebar": "Contents",
   "toc_cell": false,
   "toc_position": {},
   "toc_section_display": true,
   "toc_window_display": false
  },
  "varInspector": {
   "cols": {
    "lenName": 16,
    "lenType": 16,
    "lenVar": 40
   },
   "kernels_config": {
    "python": {
     "delete_cmd_postfix": "",
     "delete_cmd_prefix": "del ",
     "library": "var_list.py",
     "varRefreshCmd": "print(var_dic_list())"
    },
    "r": {
     "delete_cmd_postfix": ") ",
     "delete_cmd_prefix": "rm(",
     "library": "var_list.r",
     "varRefreshCmd": "cat(var_dic_list()) "
    }
   },
   "types_to_exclude": [
    "module",
    "function",
    "builtin_function_or_method",
    "instance",
    "_Feature"
   ],
   "window_display": false
  }
 },
 "nbformat": 4,
 "nbformat_minor": 5
}
