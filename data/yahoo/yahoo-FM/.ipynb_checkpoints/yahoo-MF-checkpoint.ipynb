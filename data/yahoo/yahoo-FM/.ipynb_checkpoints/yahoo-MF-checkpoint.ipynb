{
 "cells": [
  {
   "cell_type": "code",
   "execution_count": 1,
   "id": "b3f0e671",
   "metadata": {
    "ExecuteTime": {
     "end_time": "2022-11-04T10:43:26.578594Z",
     "start_time": "2022-11-04T10:43:25.898119Z"
    }
   },
   "outputs": [],
   "source": [
    "import os\n",
    "import random\n",
    "import numpy as np\n",
    "import pandas as pd"
   ]
  },
  {
   "cell_type": "code",
   "execution_count": 26,
   "id": "ce855e6f",
   "metadata": {
    "ExecuteTime": {
     "end_time": "2022-11-04T10:59:28.217006Z",
     "start_time": "2022-11-04T10:59:20.989678Z"
    }
   },
   "outputs": [],
   "source": [
    "data_string = open('../yahoo-origin/user.txt', 'r', encoding = \"ISO-8859-1\").read().strip().split('\\n')\n",
    "data_dict = {\"user_id\":[],\"item_id\":[],\"score\":[]}\n",
    "for da in data_string:\n",
    "    l_string = da.split(',')\n",
    "    data_dict[\"user_id\"].append(eval(l_string[0]))\n",
    "    data_dict[\"item_id\"].append(eval(l_string[1]))\n",
    "    data_dict[\"score\"].append(eval(l_string[2]))"
   ]
  },
  {
   "cell_type": "code",
   "execution_count": 28,
   "id": "c9e74cd7",
   "metadata": {
    "ExecuteTime": {
     "end_time": "2022-11-04T10:59:39.256023Z",
     "start_time": "2022-11-04T10:59:38.906129Z"
    }
   },
   "outputs": [
    {
     "data": {
      "text/html": [
       "<div>\n",
       "<style scoped>\n",
       "    .dataframe tbody tr th:only-of-type {\n",
       "        vertical-align: middle;\n",
       "    }\n",
       "\n",
       "    .dataframe tbody tr th {\n",
       "        vertical-align: top;\n",
       "    }\n",
       "\n",
       "    .dataframe thead th {\n",
       "        text-align: right;\n",
       "    }\n",
       "</style>\n",
       "<table border=\"1\" class=\"dataframe\">\n",
       "  <thead>\n",
       "    <tr style=\"text-align: right;\">\n",
       "      <th></th>\n",
       "      <th>user_id</th>\n",
       "      <th>item_id</th>\n",
       "      <th>score</th>\n",
       "    </tr>\n",
       "  </thead>\n",
       "  <tbody>\n",
       "    <tr>\n",
       "      <th>0</th>\n",
       "      <td>0</td>\n",
       "      <td>13</td>\n",
       "      <td>5</td>\n",
       "    </tr>\n",
       "    <tr>\n",
       "      <th>1</th>\n",
       "      <td>0</td>\n",
       "      <td>34</td>\n",
       "      <td>1</td>\n",
       "    </tr>\n",
       "    <tr>\n",
       "      <th>2</th>\n",
       "      <td>0</td>\n",
       "      <td>45</td>\n",
       "      <td>1</td>\n",
       "    </tr>\n",
       "    <tr>\n",
       "      <th>3</th>\n",
       "      <td>0</td>\n",
       "      <td>82</td>\n",
       "      <td>1</td>\n",
       "    </tr>\n",
       "    <tr>\n",
       "      <th>4</th>\n",
       "      <td>0</td>\n",
       "      <td>92</td>\n",
       "      <td>1</td>\n",
       "    </tr>\n",
       "    <tr>\n",
       "      <th>...</th>\n",
       "      <td>...</td>\n",
       "      <td>...</td>\n",
       "      <td>...</td>\n",
       "    </tr>\n",
       "    <tr>\n",
       "      <th>311699</th>\n",
       "      <td>15399</td>\n",
       "      <td>563</td>\n",
       "      <td>5</td>\n",
       "    </tr>\n",
       "    <tr>\n",
       "      <th>311700</th>\n",
       "      <td>15399</td>\n",
       "      <td>577</td>\n",
       "      <td>1</td>\n",
       "    </tr>\n",
       "    <tr>\n",
       "      <th>311701</th>\n",
       "      <td>15399</td>\n",
       "      <td>636</td>\n",
       "      <td>5</td>\n",
       "    </tr>\n",
       "    <tr>\n",
       "      <th>311702</th>\n",
       "      <td>15399</td>\n",
       "      <td>883</td>\n",
       "      <td>1</td>\n",
       "    </tr>\n",
       "    <tr>\n",
       "      <th>311703</th>\n",
       "      <td>15399</td>\n",
       "      <td>948</td>\n",
       "      <td>5</td>\n",
       "    </tr>\n",
       "  </tbody>\n",
       "</table>\n",
       "<p>311704 rows × 3 columns</p>\n",
       "</div>"
      ],
      "text/plain": [
       "        user_id  item_id  score\n",
       "0             0       13      5\n",
       "1             0       34      1\n",
       "2             0       45      1\n",
       "3             0       82      1\n",
       "4             0       92      1\n",
       "...         ...      ...    ...\n",
       "311699    15399      563      5\n",
       "311700    15399      577      1\n",
       "311701    15399      636      5\n",
       "311702    15399      883      1\n",
       "311703    15399      948      5\n",
       "\n",
       "[311704 rows x 3 columns]"
      ]
     },
     "execution_count": 28,
     "metadata": {},
     "output_type": "execute_result"
    }
   ],
   "source": [
    "train_data_raw = pd.DataFrame(data_dict)\n",
    "train_data_raw.shape"
   ]
  },
  {
   "cell_type": "code",
   "execution_count": 32,
   "id": "4ddc0564",
   "metadata": {
    "ExecuteTime": {
     "end_time": "2022-11-04T11:03:00.199673Z",
     "start_time": "2022-11-04T11:03:00.169636Z"
    }
   },
   "outputs": [
    {
     "data": {
      "text/html": [
       "<div>\n",
       "<style scoped>\n",
       "    .dataframe tbody tr th:only-of-type {\n",
       "        vertical-align: middle;\n",
       "    }\n",
       "\n",
       "    .dataframe tbody tr th {\n",
       "        vertical-align: top;\n",
       "    }\n",
       "\n",
       "    .dataframe thead th {\n",
       "        text-align: right;\n",
       "    }\n",
       "</style>\n",
       "<table border=\"1\" class=\"dataframe\">\n",
       "  <thead>\n",
       "    <tr style=\"text-align: right;\">\n",
       "      <th></th>\n",
       "      <th>user_id</th>\n",
       "      <th>item_id</th>\n",
       "      <th>score</th>\n",
       "    </tr>\n",
       "  </thead>\n",
       "  <tbody>\n",
       "    <tr>\n",
       "      <th>0</th>\n",
       "      <td>0</td>\n",
       "      <td>13</td>\n",
       "      <td>5</td>\n",
       "    </tr>\n",
       "    <tr>\n",
       "      <th>6</th>\n",
       "      <td>0</td>\n",
       "      <td>152</td>\n",
       "      <td>5</td>\n",
       "    </tr>\n",
       "    <tr>\n",
       "      <th>7</th>\n",
       "      <td>0</td>\n",
       "      <td>169</td>\n",
       "      <td>4</td>\n",
       "    </tr>\n",
       "    <tr>\n",
       "      <th>8</th>\n",
       "      <td>0</td>\n",
       "      <td>183</td>\n",
       "      <td>5</td>\n",
       "    </tr>\n",
       "    <tr>\n",
       "      <th>9</th>\n",
       "      <td>0</td>\n",
       "      <td>193</td>\n",
       "      <td>5</td>\n",
       "    </tr>\n",
       "    <tr>\n",
       "      <th>...</th>\n",
       "      <td>...</td>\n",
       "      <td>...</td>\n",
       "      <td>...</td>\n",
       "    </tr>\n",
       "    <tr>\n",
       "      <th>311697</th>\n",
       "      <td>15399</td>\n",
       "      <td>398</td>\n",
       "      <td>5</td>\n",
       "    </tr>\n",
       "    <tr>\n",
       "      <th>311698</th>\n",
       "      <td>15399</td>\n",
       "      <td>448</td>\n",
       "      <td>5</td>\n",
       "    </tr>\n",
       "    <tr>\n",
       "      <th>311699</th>\n",
       "      <td>15399</td>\n",
       "      <td>563</td>\n",
       "      <td>5</td>\n",
       "    </tr>\n",
       "    <tr>\n",
       "      <th>311701</th>\n",
       "      <td>15399</td>\n",
       "      <td>636</td>\n",
       "      <td>5</td>\n",
       "    </tr>\n",
       "    <tr>\n",
       "      <th>311703</th>\n",
       "      <td>15399</td>\n",
       "      <td>948</td>\n",
       "      <td>5</td>\n",
       "    </tr>\n",
       "  </tbody>\n",
       "</table>\n",
       "<p>125077 rows × 3 columns</p>\n",
       "</div>"
      ],
      "text/plain": [
       "        user_id  item_id  score\n",
       "0             0       13      5\n",
       "6             0      152      5\n",
       "7             0      169      4\n",
       "8             0      183      5\n",
       "9             0      193      5\n",
       "...         ...      ...    ...\n",
       "311697    15399      398      5\n",
       "311698    15399      448      5\n",
       "311699    15399      563      5\n",
       "311701    15399      636      5\n",
       "311703    15399      948      5\n",
       "\n",
       "[125077 rows x 3 columns]"
      ]
     },
     "execution_count": 32,
     "metadata": {},
     "output_type": "execute_result"
    }
   ],
   "source": [
    "train_data_pos = train_data_raw[train_data_raw.score>3]\n",
    "train_data_pos.shape"
   ]
  },
  {
   "cell_type": "code",
   "execution_count": 33,
   "id": "729fd790",
   "metadata": {
    "ExecuteTime": {
     "end_time": "2022-11-04T11:03:09.019144Z",
     "start_time": "2022-11-04T11:03:08.993307Z"
    }
   },
   "outputs": [
    {
     "data": {
      "text/plain": [
       "user_id    14382\n",
       "item_id     1000\n",
       "score          2\n",
       "dtype: int64"
      ]
     },
     "execution_count": 33,
     "metadata": {},
     "output_type": "execute_result"
    }
   ],
   "source": [
    "train_data_pos.nunique()"
   ]
  },
  {
   "cell_type": "code",
   "execution_count": 34,
   "id": "7490a288",
   "metadata": {
    "ExecuteTime": {
     "end_time": "2022-11-04T11:03:36.839843Z",
     "start_time": "2022-11-04T11:03:36.807539Z"
    }
   },
   "outputs": [
    {
     "data": {
      "text/plain": [
       "user_id    15400\n",
       "item_id     1000\n",
       "score          5\n",
       "dtype: int64"
      ]
     },
     "execution_count": 34,
     "metadata": {},
     "output_type": "execute_result"
    }
   ],
   "source": [
    "train_data_raw.nunique()"
   ]
  },
  {
   "cell_type": "code",
   "execution_count": 35,
   "id": "2cb907f3",
   "metadata": {
    "ExecuteTime": {
     "end_time": "2022-11-04T11:04:02.701707Z",
     "start_time": "2022-11-04T11:04:02.679779Z"
    }
   },
   "outputs": [
    {
     "data": {
      "text/plain": [
       "999"
      ]
     },
     "execution_count": 35,
     "metadata": {},
     "output_type": "execute_result"
    }
   ],
   "source": [
    "train_data_pos.item_id.max()"
   ]
  },
  {
   "cell_type": "code",
   "execution_count": 36,
   "id": "0ea0d139",
   "metadata": {
    "ExecuteTime": {
     "end_time": "2022-11-04T11:04:25.999790Z",
     "start_time": "2022-11-04T11:04:25.981473Z"
    }
   },
   "outputs": [
    {
     "data": {
      "text/plain": [
       "15399"
      ]
     },
     "execution_count": 36,
     "metadata": {},
     "output_type": "execute_result"
    }
   ],
   "source": [
    "train_data_pos.user_id.max()"
   ]
  },
  {
   "cell_type": "code",
   "execution_count": 37,
   "id": "c4cc0c64",
   "metadata": {
    "ExecuteTime": {
     "end_time": "2022-11-04T11:05:44.696664Z",
     "start_time": "2022-11-04T11:05:43.439830Z"
    }
   },
   "outputs": [],
   "source": [
    "data_string2 = open('../yahoo-origin/random.txt', 'r', encoding = \"ISO-8859-1\").read().strip().split('\\n')\n",
    "data_dict2 = {\"user_id\":[],\"item_id\":[],\"score\":[]}\n",
    "for da in data_string2:\n",
    "    l_string = da.split(',')\n",
    "    data_dict2[\"user_id\"].append(eval(l_string[0]))\n",
    "    data_dict2[\"item_id\"].append(eval(l_string[1]))\n",
    "    data_dict2[\"score\"].append(eval(l_string[2]))"
   ]
  },
  {
   "cell_type": "code",
   "execution_count": 42,
   "id": "8cb24e94",
   "metadata": {
    "ExecuteTime": {
     "end_time": "2022-11-04T11:07:06.173808Z",
     "start_time": "2022-11-04T11:07:06.080008Z"
    }
   },
   "outputs": [
    {
     "data": {
      "text/plain": [
       "(54000, 3)"
      ]
     },
     "execution_count": 42,
     "metadata": {},
     "output_type": "execute_result"
    }
   ],
   "source": [
    "test_data_raw = pd.DataFrame(data_dict2)\n",
    "test_data_raw.shape"
   ]
  },
  {
   "cell_type": "code",
   "execution_count": 43,
   "id": "2dcc3e0a",
   "metadata": {
    "ExecuteTime": {
     "end_time": "2022-11-04T11:07:20.079080Z",
     "start_time": "2022-11-04T11:07:20.068371Z"
    }
   },
   "outputs": [
    {
     "data": {
      "text/plain": [
       "5399"
      ]
     },
     "execution_count": 43,
     "metadata": {},
     "output_type": "execute_result"
    }
   ],
   "source": [
    "test_data_raw.user_id.max()"
   ]
  },
  {
   "cell_type": "code",
   "execution_count": 48,
   "id": "8ddce89a",
   "metadata": {
    "ExecuteTime": {
     "end_time": "2022-11-04T11:11:11.741739Z",
     "start_time": "2022-11-04T11:10:51.969520Z"
    }
   },
   "outputs": [
    {
     "name": "stdout",
     "output_type": "stream",
     "text": [
      "3\n",
      "16\n",
      "38\n",
      "46\n",
      "47\n",
      "55\n",
      "114\n",
      "117\n",
      "172\n",
      "178\n",
      "200\n",
      "201\n",
      "205\n",
      "213\n",
      "234\n",
      "246\n",
      "252\n",
      "255\n",
      "274\n",
      "296\n",
      "320\n",
      "327\n",
      "345\n",
      "347\n",
      "360\n",
      "379\n",
      "381\n",
      "399\n",
      "408\n",
      "450\n",
      "460\n",
      "478\n",
      "500\n",
      "514\n",
      "553\n",
      "581\n",
      "626\n",
      "685\n",
      "691\n",
      "720\n",
      "729\n",
      "732\n",
      "738\n",
      "762\n",
      "775\n",
      "800\n",
      "826\n",
      "839\n",
      "840\n",
      "853\n",
      "883\n",
      "886\n",
      "887\n",
      "889\n",
      "905\n",
      "920\n",
      "924\n",
      "955\n",
      "983\n",
      "985\n",
      "991\n",
      "998\n",
      "1037\n",
      "1051\n",
      "1095\n",
      "1100\n",
      "1105\n",
      "1107\n",
      "1113\n",
      "1123\n",
      "1139\n",
      "1148\n",
      "1151\n",
      "1158\n",
      "1171\n",
      "1181\n",
      "1202\n",
      "1240\n",
      "1251\n",
      "1276\n",
      "1295\n",
      "1302\n",
      "1318\n",
      "1334\n",
      "1335\n",
      "1336\n",
      "1343\n",
      "1369\n",
      "1385\n",
      "1392\n",
      "1395\n",
      "1397\n",
      "1413\n",
      "1430\n",
      "1432\n",
      "1456\n",
      "1460\n",
      "1501\n",
      "1508\n",
      "1523\n",
      "1531\n",
      "1535\n",
      "1536\n",
      "1547\n",
      "1556\n",
      "1564\n",
      "1575\n",
      "1598\n",
      "1611\n",
      "1634\n",
      "1635\n",
      "1650\n",
      "1655\n",
      "1682\n",
      "1687\n",
      "1716\n",
      "1726\n",
      "1737\n",
      "1743\n",
      "1745\n",
      "1746\n",
      "1789\n",
      "1797\n",
      "1832\n",
      "1841\n",
      "1858\n",
      "1859\n",
      "1893\n",
      "1926\n",
      "1942\n",
      "1944\n",
      "1948\n",
      "1974\n",
      "1981\n",
      "1994\n",
      "2023\n",
      "2039\n",
      "2094\n",
      "2111\n",
      "2116\n",
      "2123\n",
      "2136\n",
      "2159\n",
      "2173\n",
      "2176\n",
      "2215\n",
      "2243\n",
      "2247\n",
      "2264\n",
      "2265\n",
      "2283\n",
      "2309\n",
      "2332\n",
      "2334\n",
      "2353\n",
      "2360\n",
      "2400\n",
      "2401\n",
      "2404\n",
      "2407\n",
      "2418\n",
      "2429\n",
      "2448\n",
      "2451\n",
      "2458\n",
      "2461\n",
      "2463\n",
      "2473\n",
      "2475\n",
      "2553\n",
      "2567\n",
      "2569\n",
      "2588\n",
      "2653\n",
      "2666\n",
      "2667\n",
      "2705\n",
      "2738\n",
      "2757\n",
      "2795\n",
      "2811\n",
      "2812\n",
      "2825\n",
      "2838\n",
      "2854\n",
      "2857\n",
      "2868\n",
      "2873\n",
      "2890\n",
      "2891\n",
      "2932\n",
      "2933\n",
      "2945\n",
      "2948\n",
      "2954\n",
      "2977\n",
      "2978\n",
      "2994\n",
      "3040\n",
      "3043\n",
      "3048\n",
      "3063\n",
      "3072\n",
      "3117\n",
      "3124\n",
      "3150\n",
      "3173\n",
      "3178\n",
      "3195\n",
      "3213\n",
      "3231\n",
      "3233\n",
      "3247\n",
      "3267\n",
      "3278\n",
      "3298\n",
      "3304\n",
      "3313\n",
      "3319\n",
      "3340\n",
      "3353\n",
      "3391\n",
      "3411\n",
      "3429\n",
      "3441\n",
      "3472\n",
      "3489\n",
      "3505\n",
      "3507\n",
      "3509\n",
      "3519\n",
      "3531\n",
      "3558\n",
      "3575\n",
      "3579\n",
      "3582\n",
      "3599\n",
      "3625\n",
      "3635\n",
      "3640\n",
      "3646\n",
      "3662\n",
      "3673\n",
      "3686\n",
      "3698\n",
      "3716\n",
      "3739\n",
      "3749\n",
      "3754\n",
      "3779\n",
      "3781\n",
      "3784\n",
      "3801\n",
      "3809\n",
      "3826\n",
      "3827\n",
      "3839\n",
      "3854\n",
      "3861\n",
      "3876\n",
      "3878\n",
      "3999\n",
      "4038\n",
      "4040\n",
      "4044\n",
      "4068\n",
      "4088\n",
      "4094\n",
      "4137\n",
      "4148\n",
      "4150\n",
      "4157\n",
      "4158\n",
      "4192\n",
      "4217\n",
      "4219\n",
      "4235\n",
      "4259\n",
      "4269\n",
      "4283\n",
      "4307\n",
      "4308\n",
      "4358\n",
      "4378\n",
      "4383\n",
      "4388\n",
      "4389\n",
      "4391\n",
      "4393\n",
      "4427\n",
      "4433\n",
      "4488\n",
      "4540\n",
      "4550\n",
      "4565\n",
      "4592\n",
      "4596\n",
      "4601\n",
      "4621\n",
      "4640\n",
      "4684\n",
      "4694\n",
      "4701\n",
      "4735\n",
      "4753\n",
      "4763\n",
      "4785\n",
      "4794\n",
      "4811\n",
      "4815\n",
      "4838\n",
      "4851\n",
      "4864\n",
      "4870\n",
      "4882\n",
      "4928\n",
      "4965\n",
      "4974\n",
      "4991\n",
      "5047\n",
      "5122\n",
      "5140\n",
      "5176\n",
      "5186\n",
      "5193\n",
      "5198\n",
      "5205\n",
      "5233\n",
      "5235\n",
      "5242\n",
      "5250\n",
      "5252\n",
      "5255\n",
      "5262\n",
      "5278\n",
      "5296\n",
      "5308\n",
      "5324\n",
      "5356\n",
      "5366\n",
      "5381\n"
     ]
    }
   ],
   "source": [
    "for id in test_data_raw.user_id.unique():\n",
    "    if id not in train_data_pos.user_id.unique():\n",
    "        print(id)"
   ]
  }
 ],
 "metadata": {
  "hide_input": false,
  "kernelspec": {
   "display_name": "Python 3 (ipykernel)",
   "language": "python",
   "name": "python3"
  },
  "language_info": {
   "codemirror_mode": {
    "name": "ipython",
    "version": 3
   },
   "file_extension": ".py",
   "mimetype": "text/x-python",
   "name": "python",
   "nbconvert_exporter": "python",
   "pygments_lexer": "ipython3",
   "version": "3.9.12"
  },
  "toc": {
   "base_numbering": 1,
   "nav_menu": {},
   "number_sections": false,
   "sideBar": true,
   "skip_h1_title": false,
   "title_cell": "Table of Contents",
   "title_sidebar": "Contents",
   "toc_cell": false,
   "toc_position": {},
   "toc_section_display": true,
   "toc_window_display": false
  },
  "varInspector": {
   "cols": {
    "lenName": 16,
    "lenType": 16,
    "lenVar": 40
   },
   "kernels_config": {
    "python": {
     "delete_cmd_postfix": "",
     "delete_cmd_prefix": "del ",
     "library": "var_list.py",
     "varRefreshCmd": "print(var_dic_list())"
    },
    "r": {
     "delete_cmd_postfix": ") ",
     "delete_cmd_prefix": "rm(",
     "library": "var_list.r",
     "varRefreshCmd": "cat(var_dic_list()) "
    }
   },
   "types_to_exclude": [
    "module",
    "function",
    "builtin_function_or_method",
    "instance",
    "_Feature"
   ],
   "window_display": false
  }
 },
 "nbformat": 4,
 "nbformat_minor": 5
}
