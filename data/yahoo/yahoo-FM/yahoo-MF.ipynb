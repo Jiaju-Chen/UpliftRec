{
 "cells": [
  {
   "cell_type": "code",
   "execution_count": 1,
   "id": "b3f0e671",
   "metadata": {
    "ExecuteTime": {
     "end_time": "2023-04-23T09:12:05.378286Z",
     "start_time": "2023-04-23T09:12:04.763245Z"
    }
   },
   "outputs": [],
   "source": [
    "import os\n",
    "import random\n",
    "import numpy as np\n",
    "import pandas as pd"
   ]
  },
  {
   "cell_type": "code",
   "execution_count": 2,
   "id": "ce855e6f",
   "metadata": {
    "ExecuteTime": {
     "end_time": "2023-04-23T09:12:09.952553Z",
     "start_time": "2023-04-23T09:12:05.382291Z"
    }
   },
   "outputs": [],
   "source": [
    "data_string = open('../yahoo-origin/user.txt', 'r', encoding = \"ISO-8859-1\").read().strip().split('\\n')\n",
    "data_dict = {\"user_id\":[],\"item_id\":[],\"score\":[]}\n",
    "for da in data_string:\n",
    "    l_string = da.split(',')\n",
    "    data_dict[\"user_id\"].append(eval(l_string[0]))\n",
    "    data_dict[\"item_id\"].append(eval(l_string[1]))\n",
    "    data_dict[\"score\"].append(eval(l_string[2]))"
   ]
  },
  {
   "cell_type": "code",
   "execution_count": 3,
   "id": "b5adb03e",
   "metadata": {
    "ExecuteTime": {
     "end_time": "2023-04-23T09:12:09.968556Z",
     "start_time": "2023-04-23T09:12:09.958555Z"
    }
   },
   "outputs": [],
   "source": [
    "path='./features'\n",
    "if not os.path.exists(path):\n",
    "    os.mkdir(path)\n",
    "path='./sets'\n",
    "if not os.path.exists(path):\n",
    "    os.mkdir(path)"
   ]
  },
  {
   "cell_type": "code",
   "execution_count": 4,
   "id": "c9e74cd7",
   "metadata": {
    "ExecuteTime": {
     "end_time": "2023-04-23T09:12:10.208571Z",
     "start_time": "2023-04-23T09:12:09.975557Z"
    }
   },
   "outputs": [
    {
     "data": {
      "text/plain": [
       "(311704, 3)"
      ]
     },
     "execution_count": 4,
     "metadata": {},
     "output_type": "execute_result"
    }
   ],
   "source": [
    "train_data_raw = pd.DataFrame(data_dict)\n",
    "train_data_raw.shape"
   ]
  },
  {
   "cell_type": "code",
   "execution_count": 5,
   "id": "4ddc0564",
   "metadata": {
    "ExecuteTime": {
     "end_time": "2023-04-23T09:12:10.240574Z",
     "start_time": "2023-04-23T09:12:10.213574Z"
    }
   },
   "outputs": [
    {
     "data": {
      "text/plain": [
       "(125077, 3)"
      ]
     },
     "execution_count": 5,
     "metadata": {},
     "output_type": "execute_result"
    }
   ],
   "source": [
    "train_data_pos = train_data_raw[train_data_raw.score>3]\n",
    "train_data_pos.shape"
   ]
  },
  {
   "cell_type": "code",
   "execution_count": 6,
   "id": "729fd790",
   "metadata": {
    "ExecuteTime": {
     "end_time": "2023-04-23T09:12:10.256575Z",
     "start_time": "2023-04-23T09:12:10.244579Z"
    }
   },
   "outputs": [
    {
     "data": {
      "text/plain": [
       "user_id    14382\n",
       "item_id     1000\n",
       "score          2\n",
       "dtype: int64"
      ]
     },
     "execution_count": 6,
     "metadata": {},
     "output_type": "execute_result"
    }
   ],
   "source": [
    "train_data_pos.nunique()"
   ]
  },
  {
   "cell_type": "code",
   "execution_count": 7,
   "id": "c4cc0c64",
   "metadata": {
    "ExecuteTime": {
     "end_time": "2023-04-23T09:12:11.072643Z",
     "start_time": "2023-04-23T09:12:10.263579Z"
    }
   },
   "outputs": [],
   "source": [
    "data_string2 = open('../yahoo-origin/random.txt', 'r', encoding = \"ISO-8859-1\").read().strip().split('\\n')\n",
    "data_dict2 = {\"user_id\":[],\"item_id\":[],\"score\":[]}\n",
    "for da in data_string2:\n",
    "    l_string = da.split(',')\n",
    "    data_dict2[\"user_id\"].append(eval(l_string[0]))\n",
    "    data_dict2[\"item_id\"].append(eval(l_string[1]))\n",
    "    data_dict2[\"score\"].append(eval(l_string[2]))"
   ]
  },
  {
   "cell_type": "code",
   "execution_count": 8,
   "id": "8cb24e94",
   "metadata": {
    "ExecuteTime": {
     "end_time": "2023-04-23T09:12:11.121650Z",
     "start_time": "2023-04-23T09:12:11.074646Z"
    }
   },
   "outputs": [
    {
     "data": {
      "text/plain": [
       "(54000, 3)"
      ]
     },
     "execution_count": 8,
     "metadata": {},
     "output_type": "execute_result"
    }
   ],
   "source": [
    "test_data_raw = pd.DataFrame(data_dict2)\n",
    "test_data_raw.shape"
   ]
  },
  {
   "cell_type": "code",
   "execution_count": 9,
   "id": "8ddce89a",
   "metadata": {
    "ExecuteTime": {
     "end_time": "2023-04-23T09:12:24.301621Z",
     "start_time": "2023-04-23T09:12:11.125649Z"
    }
   },
   "outputs": [],
   "source": [
    "for id in test_data_raw.user_id.unique():\n",
    "    if id not in train_data_pos.user_id.unique():\n",
    "        test_data_raw = test_data_raw[test_data_raw.user_id!=id]"
   ]
  },
  {
   "cell_type": "code",
   "execution_count": 10,
   "id": "5bb9013a",
   "metadata": {
    "ExecuteTime": {
     "end_time": "2023-04-23T09:12:24.317621Z",
     "start_time": "2023-04-23T09:12:24.303621Z"
    }
   },
   "outputs": [
    {
     "data": {
      "text/plain": [
       "(50590, 3)"
      ]
     },
     "execution_count": 10,
     "metadata": {},
     "output_type": "execute_result"
    }
   ],
   "source": [
    "test_data_raw.shape"
   ]
  },
  {
   "cell_type": "code",
   "execution_count": 11,
   "id": "9c5383c8",
   "metadata": {
    "ExecuteTime": {
     "end_time": "2023-04-23T09:12:24.333622Z",
     "start_time": "2023-04-23T09:12:24.319622Z"
    }
   },
   "outputs": [
    {
     "name": "stdout",
     "output_type": "stream",
     "text": [
      "(4671, 3)\n",
      "2383\n"
     ]
    }
   ],
   "source": [
    "test_data_pos = test_data_raw[test_data_raw.score>3]\n",
    "print(test_data_pos.shape)\n",
    "print(test_data_pos.user_id.nunique())"
   ]
  },
  {
   "cell_type": "code",
   "execution_count": 12,
   "id": "504344ed",
   "metadata": {
    "ExecuteTime": {
     "end_time": "2023-04-23T09:12:52.156674Z",
     "start_time": "2023-04-23T09:12:24.335625Z"
    }
   },
   "outputs": [
    {
     "name": "stderr",
     "output_type": "stream",
     "text": [
      "100%|████████████████████████████████████████████████████████████████████████| 125077/125077 [00:27<00:00, 4502.89it/s]\n"
     ]
    }
   ],
   "source": [
    "from tqdm import tqdm\n",
    "item_id_map = {}\n",
    "user_id_map = {}\n",
    "userID = 0\n",
    "itemID = 0\n",
    "big_pos_list = []\n",
    "train_data = train_data_pos.copy(deep=True)\n",
    "for i in tqdm(range(train_data.shape[0])):\n",
    "    if train_data.iloc[i,0] in user_id_map:\n",
    "        train_data.iloc[i,0] = user_id_map[train_data.iloc[i,0]]\n",
    "    else:\n",
    "        uID = userID\n",
    "        user_id_map[train_data.iloc[i,0]]=uID\n",
    "        train_data.iloc[i,0] = uID\n",
    "        userID += 1\n",
    "    #print(train_data.iloc[i,1])\n",
    "    if train_data.iloc[i,1] in item_id_map:\n",
    "        # print(\"train_data.iloc[i,1]\",train_data.iloc[i,1])\n",
    "        # print(\"item_id_map:\",item_id_map)\n",
    "        train_data.iloc[i,1] = item_id_map[train_data.iloc[i,1]]\n",
    "    else:\n",
    "        iID = itemID\n",
    "        item_id_map[train_data.iloc[i,1]]=iID\n",
    "        train_data.iloc[i,1] = iID\n",
    "        itemID += 1  \n",
    "# train_data"
   ]
  },
  {
   "cell_type": "code",
   "execution_count": 13,
   "id": "b55e75f3",
   "metadata": {
    "ExecuteTime": {
     "end_time": "2023-04-23T09:12:53.180750Z",
     "start_time": "2023-04-23T09:12:52.158676Z"
    }
   },
   "outputs": [
    {
     "name": "stderr",
     "output_type": "stream",
     "text": [
      "100%|████████████████████████████████████████████████████████████████████████████| 4671/4671 [00:01<00:00, 4633.59it/s]\n"
     ]
    }
   ],
   "source": [
    "test_data0 = test_data_pos.copy(deep=True)\n",
    "for i in tqdm(range(test_data0.shape[0])):\n",
    "    if test_data0.iloc[i,0] in user_id_map:\n",
    "        test_data0.iloc[i,0] = user_id_map[test_data0.iloc[i,0]]\n",
    "    else:\n",
    "        print('u',uID)\n",
    "    if test_data0.iloc[i,1] in item_id_map:\n",
    "        test_data0.iloc[i,1] = item_id_map[test_data0.iloc[i,1]]\n",
    "    else:\n",
    "        print('i',iID)\n",
    "# test_data0"
   ]
  },
  {
   "cell_type": "code",
   "execution_count": 14,
   "id": "b28fd1f5",
   "metadata": {
    "ExecuteTime": {
     "end_time": "2023-04-23T09:12:55.417924Z",
     "start_time": "2023-04-23T09:12:53.182752Z"
    }
   },
   "outputs": [],
   "source": [
    "train_dict=train_data.sort_values('user_id').groupby('user_id')\n",
    "train_user_id=train_data.user_id.unique()\n",
    "training_dict=dict()\n",
    "for i in train_user_id:\n",
    "    training_dict[i]=train_dict.get_group(i).item_id.values.tolist()\n",
    "np.save('./sets/training_dict.npy',np.array(training_dict)) # 保存为.npy格式\n",
    "training_list = []\n",
    "for u in training_dict:\n",
    "    for i in training_dict[u]:\n",
    "        training_list.append([u,i])\n",
    "np.save('./sets/training_list.npy',np.array(training_list)) # 保存为.npy格式"
   ]
  },
  {
   "cell_type": "code",
   "execution_count": 15,
   "id": "4c1404ad",
   "metadata": {
    "ExecuteTime": {
     "end_time": "2023-04-23T09:12:55.433938Z",
     "start_time": "2023-04-23T09:12:55.419926Z"
    }
   },
   "outputs": [],
   "source": [
    "import math\n",
    "import numpy as np\n",
    "def split_pandas_data_with_ratios(data, ratios, shuffle=False):\n",
    "    \"\"\"\n",
    "    按输入的比例列表对数据进行切分\n",
    "    Args:\n",
    "        data (pd.DataFrame): Pandas DataFrame 格式的数据.\n",
    "        ratios (list of floats): 切分比例的列表，和需要是 1.\n",
    "        shuffle (bool): 是否需要洗牌.\n",
    "\n",
    "    Returns:\n",
    "        list: 切分后的数据列表，列表中的元素类型为 pd.DataFrame .\n",
    "    \"\"\"\n",
    "    # 检查 切分比例的列表是否和为 1\n",
    "    if math.fsum(ratios) != 1.0:\n",
    "        raise ValueError(\"切分比例需要其和为1\")\n",
    "        \n",
    "    # 累加求和，例如 [0.7,0.15,0.15] 累计求和为 [0.7, 0.85, 1]\n",
    "    # 然后剔除最后一个值，即结果为 [0.7, 0.85]\n",
    "    split_index = np.cumsum(ratios).tolist()[:-1]\n",
    "    \n",
    "    # 是否洗牌\n",
    "    if shuffle:\n",
    "        # 不放回的从原始数据中随机取数据，直到到达frac设置的比例\n",
    "        data = data.sample(frac=1)\n",
    "    # 切分\n",
    "    #print(\"data_size:\",len(data))\n",
    "\n",
    "    splits = np.split(data, [round(x * len(data)) for x in split_index])\n",
    "\n",
    "    #对于valid为0的处理（只能处理训练集和验证集\n",
    "    # if(len(splits[0])==1):\n",
    "    #     splits[1]=splits[0].copy()\n",
    "\n",
    "    split_index_small=[ 0.5, 1 ]\n",
    "    if(len(splits[1])==0):\n",
    "        splits = np.split(data, [round(x * len(data)) for x in split_index_small])\n",
    "\n",
    "    for i in range(len(ratios)):\n",
    "        splits[i][\"split_index\"] = i\n",
    "    return splits"
   ]
  },
  {
   "cell_type": "code",
   "execution_count": 16,
   "id": "9f24c9d5",
   "metadata": {
    "ExecuteTime": {
     "end_time": "2023-04-23T09:12:57.136071Z",
     "start_time": "2023-04-23T09:12:55.434940Z"
    }
   },
   "outputs": [],
   "source": [
    "df_grouped = test_data0.groupby('user_id')\n",
    "splits = []\n",
    "ratio=[0.5,0.5]\n",
    "\n",
    "# 对于每一名用户\n",
    "for name, group in df_grouped:\n",
    "    if(df_grouped.get_group(name).shape[0]<2):\n",
    "        continue\n",
    "    group_splits = split_pandas_data_with_ratios(df_grouped.get_group(name), ratio)\n",
    "    # 把切分好的数据再合并，数据值只多了 split_index 这一列\n",
    "    concat_group_splits = pd.concat(group_splits)\n",
    "    splits.append(concat_group_splits)\n",
    "\n",
    "# 把所有用户的数据合并\n",
    "splits_all = pd.concat(splits)\n",
    "\n",
    "# 按照 split_index 标记把数据切分出来\n",
    "splits_list = [\n",
    "    splits_all[splits_all[\"split_index\"] == x].drop(\"split_index\", axis=1)\n",
    "    for x in range(len(ratio))\n",
    "]\n",
    "valid_data=splits_list[0]\n",
    "test_data=splits_list[1]"
   ]
  },
  {
   "cell_type": "code",
   "execution_count": 17,
   "id": "821243d5",
   "metadata": {
    "ExecuteTime": {
     "end_time": "2023-04-23T09:12:57.166075Z",
     "start_time": "2023-04-23T09:12:57.138074Z"
    }
   },
   "outputs": [
    {
     "name": "stdout",
     "output_type": "stream",
     "text": [
      "True\n"
     ]
    }
   ],
   "source": [
    "train_user_id=train_data.user_id.unique()\n",
    "validation_id=valid_data.user_id.unique()\n",
    "test_id=test_data.user_id.unique()\n",
    "print(list(validation_id)==list(test_id))\n",
    "for i in validation_id:\n",
    "    if i not in train_user_id:\n",
    "        print(i,\" not in training set\")"
   ]
  },
  {
   "cell_type": "code",
   "execution_count": 18,
   "id": "33c8f145",
   "metadata": {
    "ExecuteTime": {
     "end_time": "2023-04-23T09:12:57.340026Z",
     "start_time": "2023-04-23T09:12:57.168078Z"
    }
   },
   "outputs": [],
   "source": [
    "valid_dict=valid_data.groupby('user_id')\n",
    "valid_user_id=valid_data.sort_values('user_id').user_id.unique()\n",
    "validation_dict=dict()\n",
    "for i in valid_user_id:\n",
    "    validation_dict[i]=valid_dict.get_group(i).item_id.values.tolist()\n",
    "np.save('./sets/validation_dict.npy',np.array(validation_dict)) # 保存为.npy格式"
   ]
  },
  {
   "cell_type": "code",
   "execution_count": 19,
   "id": "39d89d3e",
   "metadata": {
    "ExecuteTime": {
     "end_time": "2023-04-23T09:12:57.512056Z",
     "start_time": "2023-04-23T09:12:57.342027Z"
    }
   },
   "outputs": [],
   "source": [
    "test_dict=test_data.groupby('user_id')\n",
    "test_user_id=test_data.sort_values('user_id').user_id.unique()\n",
    "testing_dict=dict()\n",
    "for i in test_user_id:\n",
    "    testing_dict[i]=test_dict.get_group(i).item_id.values.tolist()\n",
    "np.save('./sets/testing_dict.npy',np.array(testing_dict)) # 保存为.npy格式"
   ]
  },
  {
   "cell_type": "code",
   "execution_count": 20,
   "id": "6b945875",
   "metadata": {
    "ExecuteTime": {
     "end_time": "2023-04-23T09:12:57.528057Z",
     "start_time": "2023-04-23T09:12:57.514059Z"
    }
   },
   "outputs": [],
   "source": [
    "# since no available feature data, initialize all feature as 1\n",
    "item_feature_dict = {}\n",
    "np.random.seed(1)\n",
    "\n",
    "for item in item_id_map:\n",
    "    i = item_id_map[item]\n",
    "    item_feature_dict[i] = [np.random.randint(5)]\n",
    "\n",
    "category_list = [0,1,2,3,4]\n",
    "\n",
    "np.save('./features/item_feature_dict.npy', np.array(item_feature_dict))\n",
    "np.save('./features/category_list.npy', np.array(category_list))"
   ]
  },
  {
   "cell_type": "code",
   "execution_count": 21,
   "id": "fdef6218",
   "metadata": {
    "ExecuteTime": {
     "end_time": "2023-04-23T09:12:57.622065Z",
     "start_time": "2023-04-23T09:12:57.530060Z"
    }
   },
   "outputs": [
    {
     "name": "stdout",
     "output_type": "stream",
     "text": [
      "1000\n",
      "1000\n"
     ]
    }
   ],
   "source": [
    "pop_rank = dict(pd.DataFrame(training_list)[1].value_counts())\n",
    "print(len(pop_rank))\n",
    "for item in item_id_map:\n",
    "    i = item_id_map[item]\n",
    "    if i not in pop_rank:\n",
    "        pop_rank[i] = 0\n",
    "print(len(pop_rank))\n",
    "\n",
    "item_rank_dict = {} #id:rank\n",
    "rank = 0\n",
    "for element in pop_rank:\n",
    "    item_rank_dict[element] = rank\n",
    "    rank += 1\n",
    "np.save('./features/item_rank_dict.npy', np.array(item_rank_dict))"
   ]
  },
  {
   "cell_type": "code",
   "execution_count": 22,
   "id": "6c395062",
   "metadata": {
    "ExecuteTime": {
     "end_time": "2023-04-23T09:12:58.022123Z",
     "start_time": "2023-04-23T09:12:57.624067Z"
    }
   },
   "outputs": [],
   "source": [
    "category_num = len(category_list)\n",
    "topk_category = 3\n",
    "user_fml_cat_big = {}\n",
    "for user in training_dict:\n",
    "    category_cnt = [0] * category_num\n",
    "    for item in training_dict[user]:\n",
    "        for cat in item_feature_dict[item]:\n",
    "            category_cnt[cat] += 1\n",
    "    sorted_list = list(np.argsort(category_cnt))\n",
    "    fml_cat = sorted_list[-topk_category:]\n",
    "    user_fml_cat_big[user] = fml_cat\n",
    "np.save('./features/user_fml_cat.npy', np.array(user_fml_cat_big))"
   ]
  },
  {
   "cell_type": "code",
   "execution_count": 23,
   "id": "6a509c94",
   "metadata": {
    "ExecuteTime": {
     "end_time": "2023-04-23T09:12:58.228101Z",
     "start_time": "2023-04-23T09:12:58.024122Z"
    }
   },
   "outputs": [],
   "source": [
    "category_num = len(category_list)\n",
    "user_fml_cat_big = {}\n",
    "for user in training_dict:\n",
    "    category_cnt = [0] * category_num\n",
    "    for item in training_dict[user]:\n",
    "        #print(item_feature_dict[item])\n",
    "        for cat in item_feature_dict[item]:\n",
    "            category_cnt[cat] += 1/len(item_feature_dict[item])\n",
    "    pscore = (np.array(category_cnt) / max(category_cnt)) #** 0.5\n",
    "    user_fml_cat_big[user] = pscore.tolist()\n",
    "np.save('./features/IPS.npy', np.array(user_fml_cat_big))\n",
    "np.save('./features/IPS_item_cal.npy', np.array(item_feature_dict))"
   ]
  },
  {
   "cell_type": "code",
   "execution_count": 24,
   "id": "8be07415",
   "metadata": {
    "ExecuteTime": {
     "end_time": "2023-04-23T09:12:58.338124Z",
     "start_time": "2023-04-23T09:12:58.230102Z"
    }
   },
   "outputs": [],
   "source": [
    "user_feature_file = {}\n",
    "for userID in training_dict:\n",
    "    user_feature_file[userID] = [['U'+str(userID)]]\n",
    "    user_feature_file[userID].append([str(1)]*len(user_feature_file[userID][0]))\n",
    "\n",
    "item_feature_file = {}\n",
    "for itemID in item_feature_dict:\n",
    "    item_feature_file[itemID] = [['I'+str(itemID)]]\n",
    "    item_feature_file[itemID].append(['1'])\n",
    "    for cate in range(0, len(category_list)):\n",
    "        if cate in item_feature_dict[itemID]:\n",
    "            item_feature_file[itemID][0].append('IC'+str(cate))\n",
    "            item_feature_file[itemID][1].append(str(round(1.0/len(item_feature_dict[itemID]), 2)))\n",
    "        else:\n",
    "            item_feature_file[itemID][0].append('IC'+str(cate))\n",
    "            item_feature_file[itemID][1].append(str(0))\n",
    "np.save('./features/user_feature_file.npy', np.array(user_feature_file))\n",
    "np.save('./features/item_feature_file.npy', np.array(item_feature_file))"
   ]
  },
  {
   "cell_type": "code",
   "execution_count": 25,
   "id": "d26b6e91",
   "metadata": {
    "ExecuteTime": {
     "end_time": "2023-04-23T09:12:58.354125Z",
     "start_time": "2023-04-23T09:12:58.340127Z"
    }
   },
   "outputs": [],
   "source": [
    "item_cat_vec = {}\n",
    "for itemID in item_feature_dict:\n",
    "    item_cat_vec[itemID] = [0] * category_num\n",
    "    cat_num = len(item_feature_dict[itemID])\n",
    "    for cat in item_feature_dict[itemID]:\n",
    "        item_cat_vec[itemID][cat] = 1 / np.sqrt(cat_num)\n",
    "np.save('./features/item_cat_vec.npy', np.array(item_cat_vec))"
   ]
  },
  {
   "cell_type": "code",
   "execution_count": null,
   "id": "83398b30",
   "metadata": {},
   "outputs": [],
   "source": []
  }
 ],
 "metadata": {
  "hide_input": false,
  "kernelspec": {
   "display_name": "Python 3 (ipykernel)",
   "language": "python",
   "name": "python3"
  },
  "language_info": {
   "codemirror_mode": {
    "name": "ipython",
    "version": 3
   },
   "file_extension": ".py",
   "mimetype": "text/x-python",
   "name": "python",
   "nbconvert_exporter": "python",
   "pygments_lexer": "ipython3",
   "version": "3.9.12"
  },
  "toc": {
   "base_numbering": 1,
   "nav_menu": {},
   "number_sections": false,
   "sideBar": true,
   "skip_h1_title": false,
   "title_cell": "Table of Contents",
   "title_sidebar": "Contents",
   "toc_cell": false,
   "toc_position": {},
   "toc_section_display": true,
   "toc_window_display": false
  },
  "varInspector": {
   "cols": {
    "lenName": 16,
    "lenType": 16,
    "lenVar": 40
   },
   "kernels_config": {
    "python": {
     "delete_cmd_postfix": "",
     "delete_cmd_prefix": "del ",
     "library": "var_list.py",
     "varRefreshCmd": "print(var_dic_list())"
    },
    "r": {
     "delete_cmd_postfix": ") ",
     "delete_cmd_prefix": "rm(",
     "library": "var_list.r",
     "varRefreshCmd": "cat(var_dic_list()) "
    }
   },
   "types_to_exclude": [
    "module",
    "function",
    "builtin_function_or_method",
    "instance",
    "_Feature"
   ],
   "window_display": false
  }
 },
 "nbformat": 4,
 "nbformat_minor": 5
}
