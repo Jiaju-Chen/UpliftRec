{
 "cells": [
  {
   "cell_type": "code",
   "execution_count": 1,
   "id": "e041abc0",
   "metadata": {
    "ExecuteTime": {
     "end_time": "2023-04-23T09:45:36.046751Z",
     "start_time": "2023-04-23T09:45:35.183651Z"
    }
   },
   "outputs": [],
   "source": [
    "import os\n",
    "import random\n",
    "import numpy as np\n",
    "import pandas as pd\n",
    "from tqdm import tqdm"
   ]
  },
  {
   "cell_type": "code",
   "execution_count": 2,
   "id": "c8583b0e",
   "metadata": {
    "ExecuteTime": {
     "end_time": "2023-04-23T09:46:04.910880Z",
     "start_time": "2023-04-23T09:45:36.048752Z"
    }
   },
   "outputs": [
    {
     "name": "stdout",
     "output_type": "stream",
     "text": [
      "Loading big matrix...\n",
      "Loading small matrix...\n",
      "Loading social network...\n",
      "Loading item features...\n",
      "All data loaded.\n"
     ]
    }
   ],
   "source": [
    "rootpath=\"../\"\n",
    "print(\"Loading big matrix...\")\n",
    "big_matrix = pd.read_csv(rootpath + \"data/big_matrix.csv\")\n",
    "print(\"Loading small matrix...\")\n",
    "small_matrix = pd.read_csv(rootpath + \"data/small_matrix.csv\")\n",
    "\n",
    "print(\"Loading social network...\")\n",
    "social_network = pd.read_csv(rootpath + \"data/social_network.csv\")\n",
    "social_network[\"friend_list\"] = social_network[\"friend_list\"].map(eval)\n",
    "\n",
    "print(\"Loading item features...\")\n",
    "item_feat = pd.read_csv(rootpath + \"data/item_categories.csv\")\n",
    "item_feat[\"feat\"] = item_feat[\"feat\"].map(eval)\n",
    "\n",
    "print(\"All data loaded.\")"
   ]
  },
  {
   "cell_type": "code",
   "execution_count": 3,
   "id": "ef6f8184",
   "metadata": {
    "ExecuteTime": {
     "end_time": "2023-04-23T09:46:06.094967Z",
     "start_time": "2023-04-23T09:46:04.914882Z"
    }
   },
   "outputs": [],
   "source": [
    "small_matrix = small_matrix.dropna()#big_matrix == big_matrix.dropna()"
   ]
  },
  {
   "cell_type": "code",
   "execution_count": 4,
   "id": "ad7e39c8",
   "metadata": {
    "ExecuteTime": {
     "end_time": "2023-04-23T09:46:06.110970Z",
     "start_time": "2023-04-23T09:46:06.097969Z"
    }
   },
   "outputs": [],
   "source": [
    "like_threshold = 2"
   ]
  },
  {
   "cell_type": "code",
   "execution_count": 5,
   "id": "70832fd0",
   "metadata": {
    "ExecuteTime": {
     "end_time": "2023-04-23T09:46:06.190974Z",
     "start_time": "2023-04-23T09:46:06.114971Z"
    }
   },
   "outputs": [
    {
     "data": {
      "text/plain": [
       "(209616, 8)"
      ]
     },
     "execution_count": 5,
     "metadata": {},
     "output_type": "execute_result"
    }
   ],
   "source": [
    "small_matrix_pos = small_matrix[small_matrix[\"watch_ratio\"]>=like_threshold];\n",
    "small_matrix_pos.shape"
   ]
  },
  {
   "cell_type": "code",
   "execution_count": 6,
   "id": "0892be30",
   "metadata": {
    "ExecuteTime": {
     "end_time": "2023-04-23T09:46:06.426992Z",
     "start_time": "2023-04-23T09:46:06.193975Z"
    }
   },
   "outputs": [
    {
     "data": {
      "text/plain": [
       "(936568, 8)"
      ]
     },
     "execution_count": 6,
     "metadata": {},
     "output_type": "execute_result"
    }
   ],
   "source": [
    "big_matrix_pos = big_matrix[big_matrix[\"watch_ratio\"]>=like_threshold];\n",
    "big_matrix_pos.shape"
   ]
  },
  {
   "cell_type": "code",
   "execution_count": 7,
   "id": "7fb55ad5",
   "metadata": {
    "ExecuteTime": {
     "end_time": "2023-04-23T09:48:09.605086Z",
     "start_time": "2023-04-23T09:46:06.429994Z"
    }
   },
   "outputs": [
    {
     "name": "stderr",
     "output_type": "stream",
     "text": [
      "100%|████████████████████████████████████████████████████████████████████████| 936568/936568 [01:40<00:00, 9347.60it/s]\n",
      "100%|████████████████████████████████████████████████████████████████████████| 209616/209616 [00:22<00:00, 9135.31it/s]\n"
     ]
    }
   ],
   "source": [
    "item_id_map = {}\n",
    "user_id_map = {}\n",
    "userID = 0\n",
    "itemID = 0\n",
    "big_pos_list = []\n",
    "for i in tqdm(range(big_matrix_pos.shape[0])):\n",
    "    if big_matrix_pos.iloc[i,0] in user_id_map:\n",
    "        uID = user_id_map[big_matrix_pos.iloc[i,0]]\n",
    "    else:\n",
    "        uID = userID\n",
    "        user_id_map[big_matrix_pos.iloc[i,0]] = uID\n",
    "        userID += 1\n",
    "    if big_matrix_pos.iloc[i,1] in item_id_map:\n",
    "        iID = item_id_map[big_matrix_pos.iloc[i,1]]\n",
    "    else:\n",
    "        iID = itemID\n",
    "        item_id_map[big_matrix_pos.iloc[i,1]] = iID\n",
    "        itemID += 1  \n",
    "    big_pos_list.append([uID,iID])\n",
    "    \n",
    "small_pos_list = []\n",
    "for i in tqdm(range(small_matrix_pos.shape[0])):\n",
    "    if small_matrix_pos.iloc[i,0] in user_id_map:\n",
    "        uID = user_id_map[small_matrix_pos.iloc[i,0]]\n",
    "    else:\n",
    "        continue\n",
    "    if small_matrix_pos.iloc[i,1] in item_id_map:\n",
    "        iID = item_id_map[small_matrix_pos.iloc[i,1]]\n",
    "    else:\n",
    "        continue \n",
    "    small_pos_list.append([uID,iID])"
   ]
  },
  {
   "cell_type": "code",
   "execution_count": 8,
   "id": "4ef0f288",
   "metadata": {
    "ExecuteTime": {
     "end_time": "2023-04-23T09:48:09.699087Z",
     "start_time": "2023-04-23T09:48:09.610083Z"
    }
   },
   "outputs": [],
   "source": [
    "np.save('./features/item_id_map.npy', np.array(item_id_map))\n",
    "np.save('./features/user_id_map.npy', np.array(user_id_map))"
   ]
  },
  {
   "cell_type": "code",
   "execution_count": 9,
   "id": "b232d041",
   "metadata": {
    "ExecuteTime": {
     "end_time": "2023-04-23T09:48:10.505155Z",
     "start_time": "2023-04-23T09:48:09.705089Z"
    }
   },
   "outputs": [],
   "source": [
    "np.save('./sets/small_pos_list.npy', np.array(small_pos_list))\n",
    "np.save('./sets/big_pos_list.npy', np.array(big_pos_list))"
   ]
  },
  {
   "cell_type": "code",
   "execution_count": 10,
   "id": "2ec9a870",
   "metadata": {
    "ExecuteTime": {
     "end_time": "2023-04-23T09:48:11.121200Z",
     "start_time": "2023-04-23T09:48:10.507157Z"
    }
   },
   "outputs": [],
   "source": [
    "small_pos_dict = {}\n",
    "for pair in small_pos_list:\n",
    "    userID, itemID = pair\n",
    "    if userID not in small_pos_dict:\n",
    "        small_pos_dict[userID] = []\n",
    "    small_pos_dict[userID].append(itemID)\n",
    "big_pos_dict = {}\n",
    "for pair in big_pos_list:\n",
    "    userID, itemID = pair\n",
    "    if userID not in big_pos_dict:\n",
    "        big_pos_dict[userID] = []\n",
    "    big_pos_dict[userID].append(itemID)"
   ]
  },
  {
   "cell_type": "code",
   "execution_count": 11,
   "id": "f6fad9f8",
   "metadata": {
    "ExecuteTime": {
     "end_time": "2023-04-23T09:48:11.185206Z",
     "start_time": "2023-04-23T09:48:11.124202Z"
    }
   },
   "outputs": [],
   "source": [
    "np.save('./sets/small_pos_dict.npy', np.array(small_pos_dict))\n",
    "np.save('./sets/big_pos_dict.npy', np.array(big_pos_dict))"
   ]
  },
  {
   "cell_type": "code",
   "execution_count": 12,
   "id": "7414b3c4",
   "metadata": {
    "ExecuteTime": {
     "end_time": "2023-04-23T09:48:11.201208Z",
     "start_time": "2023-04-23T09:48:11.188207Z"
    }
   },
   "outputs": [
    {
     "name": "stdout",
     "output_type": "stream",
     "text": [
      "###########\n"
     ]
    }
   ],
   "source": [
    "for u in small_pos_dict:\n",
    "    if len(small_pos_dict[u])<2:\n",
    "        print(u)# able to devide\n",
    "print(\"###########\")\n",
    "for u in small_pos_dict:\n",
    "    if u not in big_pos_dict:\n",
    "        print(u)"
   ]
  },
  {
   "cell_type": "code",
   "execution_count": 13,
   "id": "a9db5037",
   "metadata": {
    "ExecuteTime": {
     "end_time": "2023-04-23T09:48:11.296212Z",
     "start_time": "2023-04-23T09:48:11.203208Z"
    }
   },
   "outputs": [],
   "source": [
    "item_feature_dict = {}\n",
    "i_f_dict = dict(item_feat.feat)\n",
    "for i in i_f_dict:\n",
    "    if i in item_id_map:\n",
    "        item_feature_dict[item_id_map[i]] = i_f_dict[i]\n",
    "np.save('./features/item_feature_dict.npy', np.array(item_feature_dict))"
   ]
  },
  {
   "cell_type": "code",
   "execution_count": 14,
   "id": "27310e34",
   "metadata": {
    "ExecuteTime": {
     "end_time": "2023-04-23T09:48:11.326219Z",
     "start_time": "2023-04-23T09:48:11.299215Z"
    }
   },
   "outputs": [],
   "source": [
    "category_list = []\n",
    "category_id = {}\n",
    "for item in item_feature_dict:\n",
    "    for cat in item_feature_dict[item]:\n",
    "        if cat not in category_list:\n",
    "            category_list.append(cat)\n",
    "            category_id[cat] = cat\n",
    "np.save('./features/category_id.npy', np.array(category_id))\n",
    "np.save('./features/category_list.npy', np.array(category_list))"
   ]
  },
  {
   "cell_type": "code",
   "execution_count": 15,
   "id": "a1f76ebb",
   "metadata": {
    "ExecuteTime": {
     "end_time": "2023-04-23T09:48:11.468225Z",
     "start_time": "2023-04-23T09:48:11.329218Z"
    }
   },
   "outputs": [],
   "source": [
    "pop_rank = dict(big_matrix_pos['video_id'].value_counts())# original ID 7116 occurs only in small matrix\n",
    "for i in item_id_map:\n",
    "    if i not in pop_rank:\n",
    "        print(i)\n",
    "        pop_rank[i] = 0\n",
    "pop_rank_maped = {}\n",
    "for i in pop_rank:\n",
    "    if i in item_id_map:\n",
    "        pop_rank_maped[item_id_map[i]] = pop_rank[i]\n",
    "\n",
    "item_rank_dict = {} #id:rank\n",
    "rank = 0\n",
    "for element in pop_rank_maped:\n",
    "    item_rank_dict[element] = rank\n",
    "    rank += 1\n",
    "np.save('./features/item_rank_dict.npy', np.array(item_rank_dict))"
   ]
  },
  {
   "cell_type": "code",
   "execution_count": 16,
   "id": "1abb87c4",
   "metadata": {
    "ExecuteTime": {
     "end_time": "2023-04-23T09:48:12.827078Z",
     "start_time": "2023-04-23T09:48:11.471229Z"
    }
   },
   "outputs": [
    {
     "data": {
      "image/png": "[encoded data removed]",
      "text/plain": [
       "<Figure size 432x288 with 1 Axes>"
      ]
     },
     "metadata": {
      "needs_background": "light"
     },
     "output_type": "display_data"
    }
   ],
   "source": [
    "import matplotlib.pyplot as plt\n",
    "a = pop_rank_maped.values()\n",
    "plt.plot(a)\n",
    "plt.ylim(bottom=0.)\n",
    "#ax.set_xlim(left=0.)\n",
    "plt.xlabel(\"rank\")\n",
    "plt.ylabel(\"num_ratings\")\n",
    "plt.show()"
   ]
  },
  {
   "cell_type": "code",
   "execution_count": 17,
   "id": "d6a76c94",
   "metadata": {
    "ExecuteTime": {
     "end_time": "2023-04-23T09:48:13.737145Z",
     "start_time": "2023-04-23T09:48:12.829079Z"
    }
   },
   "outputs": [],
   "source": [
    "training_list = big_pos_list\n",
    "validation_list = []\n",
    "testing_list = []\n",
    "\n",
    "training_dict = big_pos_dict\n",
    "validation_dict = {}\n",
    "testing_dict = {}\n",
    "\n",
    "for userID in small_pos_dict:\n",
    "    items = small_pos_dict[userID]\n",
    "    if len(items) < 2:\n",
    "        print(userID)\n",
    "        continue\n",
    "    if userID not in big_pos_dict:\n",
    "        continue\n",
    "    item_num_for_test = max(int(len(items)*0.5), 1)\n",
    "    test_items = items[-item_num_for_test:]\n",
    "    items = items[:-item_num_for_test]\n",
    "    valid_items = items\n",
    "    \n",
    "    validation_list += [[userID, itemID] for itemID in list(valid_items)]\n",
    "    testing_list += [[userID, itemID] for itemID in list(test_items)]\n",
    "    validation_dict[userID] = valid_items\n",
    "    testing_dict[userID] = test_items\n",
    "    \n",
    "np.save('./sets/training_list.npy', np.array(big_pos_list))\n",
    "np.save('./sets/validation_list.npy', np.array(validation_list))\n",
    "np.save('./sets/testing_list.npy', np.array(testing_list))\n",
    "\n",
    "np.save('./sets/training_dict.npy', np.array(training_dict))\n",
    "np.save('./sets/validation_dict.npy', np.array(validation_dict))\n",
    "np.save('./sets/testing_dict.npy', np.array(testing_dict))"
   ]
  },
  {
   "cell_type": "code",
   "execution_count": 18,
   "id": "1e1e91cf",
   "metadata": {
    "ExecuteTime": {
     "end_time": "2023-04-23T09:48:14.502231Z",
     "start_time": "2023-04-23T09:48:13.739147Z"
    }
   },
   "outputs": [
    {
     "name": "stderr",
     "output_type": "stream",
     "text": [
      "100%|█████████████████████████████████████████████████████████████████████████| 10611/10611 [00:00<00:00, 22384.48it/s]\n"
     ]
    }
   ],
   "source": [
    "user_feature_file = {}\n",
    "for userID in big_pos_dict:\n",
    "    user_feature_file[userID] = [['U'+str(userID)]]\n",
    "    #user_feature_file[userID][0] += ['UF'+feat for feat in user_feature[userID]]\n",
    "    user_feature_file[userID].append([str(1)]*len(user_feature_file[userID][0]))\n",
    "\n",
    "item_feature_file = {}\n",
    "for itemID in tqdm(item_feature_dict):\n",
    "    item_feature_file[itemID] = [['I'+str(itemID)]]\n",
    "    item_feature_file[itemID].append(['1'])\n",
    "    for cate in range(0, len(category_id)):\n",
    "        if cate in item_feature_dict[itemID]:\n",
    "            item_feature_file[itemID][0].append('IC'+str(cate))\n",
    "            item_feature_file[itemID][1].append(str(round(1.0/len(item_feature_dict[itemID]), 2)))\n",
    "        else:\n",
    "            item_feature_file[itemID][0].append('IC'+str(cate))\n",
    "            item_feature_file[itemID][1].append(str(0))\n",
    "\n",
    "np.save('./features/user_feature_file.npy', np.array(user_feature_file))\n",
    "np.save('./features/item_feature_file.npy', np.array(item_feature_file))"
   ]
  },
  {
   "cell_type": "code",
   "execution_count": 19,
   "id": "30044a51",
   "metadata": {
    "ExecuteTime": {
     "end_time": "2023-04-23T09:48:15.035271Z",
     "start_time": "2023-04-23T09:48:14.504233Z"
    }
   },
   "outputs": [],
   "source": [
    "category_num = len(category_list)\n",
    "topk_category = 3\n",
    "user_fml_cat_big = {}\n",
    "for user in big_pos_dict:\n",
    "    category_cnt = [0] * category_num\n",
    "    for item in big_pos_dict[user]:\n",
    "        for cat in item_feature_dict[item]:\n",
    "            category_cnt[cat] += 1\n",
    "    sorted_list = list(np.argsort(category_cnt))\n",
    "    fml_cat = sorted_list[-topk_category:]\n",
    "    user_fml_cat_big[user] = fml_cat"
   ]
  },
  {
   "cell_type": "code",
   "execution_count": 20,
   "id": "14cc6bb6",
   "metadata": {
    "ExecuteTime": {
     "end_time": "2023-04-23T09:48:15.099293Z",
     "start_time": "2023-04-23T09:48:15.037273Z"
    }
   },
   "outputs": [],
   "source": [
    "np.save('./features/user_fml_cat.npy', np.array(user_fml_cat_big))"
   ]
  },
  {
   "cell_type": "code",
   "execution_count": 21,
   "id": "2fc6eff8",
   "metadata": {
    "ExecuteTime": {
     "end_time": "2023-04-23T09:48:15.195299Z",
     "start_time": "2023-04-23T09:48:15.102296Z"
    }
   },
   "outputs": [],
   "source": [
    "item_cat_vec = {}\n",
    "for itemID in item_feature_dict:\n",
    "    item_cat_vec[itemID] = [0] * category_num\n",
    "    cat_num = len(item_feature_dict[itemID])\n",
    "    for cat in item_feature_dict[itemID]:\n",
    "        item_cat_vec[itemID][cat] = 1 / np.sqrt(cat_num)\n",
    "np.save('./features/item_cat_vec.npy', np.array(item_cat_vec))"
   ]
  },
  {
   "cell_type": "code",
   "execution_count": 22,
   "id": "8c79f665",
   "metadata": {
    "ExecuteTime": {
     "end_time": "2023-04-23T09:48:16.019357Z",
     "start_time": "2023-04-23T09:48:15.197303Z"
    }
   },
   "outputs": [],
   "source": [
    "category_num = len(category_list)\n",
    "user_fml_cat_big = {}\n",
    "for user in training_dict:\n",
    "    category_cnt = [0] * category_num\n",
    "    for item in training_dict[user]:\n",
    "        #print(item_feature_dict[item])\n",
    "        for cat in item_feature_dict[item]:\n",
    "            category_cnt[cat] += 1/len(item_feature_dict[item])\n",
    "    pscore = (np.array(category_cnt) / max(category_cnt)) #** 0.5\n",
    "    user_fml_cat_big[user] = pscore.tolist()\n",
    "np.save('./features/IPS.npy', np.array(user_fml_cat_big))\n",
    "np.save('./features/IPS_item_cal.npy', np.array(item_feature_dict))"
   ]
  },
  {
   "cell_type": "code",
   "execution_count": 23,
   "id": "afdb18d4",
   "metadata": {
    "ExecuteTime": {
     "end_time": "2023-04-23T09:48:16.767412Z",
     "start_time": "2023-04-23T09:48:16.021358Z"
    }
   },
   "outputs": [
    {
     "name": "stdout",
     "output_type": "stream",
     "text": [
      "Hit small: 1.0\n"
     ]
    }
   ],
   "source": [
    "category_num = len(category_list)\n",
    "topk_category = 31\n",
    "user_fml_cat_big = {}\n",
    "for user in big_pos_dict:\n",
    "    category_cnt = [0] * category_num\n",
    "    for item in big_pos_dict[user]:\n",
    "        for cat in item_feature_dict[item]:\n",
    "            category_cnt[cat] += 1\n",
    "    sorted_list = list(np.argsort(category_cnt))\n",
    "    fml_cat = sorted_list[-topk_category:]\n",
    "    user_fml_cat_big[user] = fml_cat\n",
    "\n",
    "user_fml_cat_small = {}\n",
    "for user in small_pos_dict:\n",
    "    category_cnt = [0] * category_num\n",
    "    for item in small_pos_dict[user]:\n",
    "        for cat in item_feature_dict[item]:\n",
    "            category_cnt[cat] += 1\n",
    "    sorted_list = list(np.argsort(category_cnt))\n",
    "    fml_cat = sorted_list[-topk_category:]\n",
    "    user_fml_cat_small[user] = fml_cat\n",
    "    \n",
    "Hit_small = {}\n",
    "for user in small_pos_dict:\n",
    "    if user in big_pos_dict:\n",
    "        Hit_small[user] = 0\n",
    "        for i in range(topk_category):\n",
    "            if user_fml_cat_small[user][i] in user_fml_cat_big[user]:\n",
    "                Hit_small[user] += 1\n",
    "\n",
    "            \n",
    "print('Hit small:', round(np.array(list(Hit_small.values())).mean()/topk_category, 5))"
   ]
  },
  {
   "cell_type": "code",
   "execution_count": 24,
   "id": "7a36ae18",
   "metadata": {
    "ExecuteTime": {
     "end_time": "2023-04-23T09:48:17.685480Z",
     "start_time": "2023-04-23T09:48:16.770414Z"
    }
   },
   "outputs": [
    {
     "name": "stdout",
     "output_type": "stream",
     "text": [
      "Recall small: 0.56162\n"
     ]
    }
   ],
   "source": [
    "category_num = len(category_list)\n",
    "topk_category = 10\n",
    "user_fml_cat_big = {}\n",
    "for user in big_pos_dict:\n",
    "    category_cnt = [0] * category_num\n",
    "    for item in big_pos_dict[user]:\n",
    "        for cat in item_feature_dict[item]:\n",
    "            category_cnt[cat] += 1\n",
    "    sorted_list = list(np.argsort(category_cnt))\n",
    "    fml_cat = []\n",
    "    for i in sorted_list[-topk_category:]:\n",
    "        if category_cnt[i] != 0:\n",
    "            fml_cat.append(i)\n",
    "    user_fml_cat_big[user] = fml_cat\n",
    "\n",
    "user_fml_cat_small = {}\n",
    "for user in small_pos_dict:\n",
    "    category_cnt = [0] * category_num\n",
    "    for item in small_pos_dict[user]:\n",
    "        for cat in item_feature_dict[item]:\n",
    "            category_cnt[cat] += 1\n",
    "    sorted_list = list(np.argsort(category_cnt))\n",
    "    fml_cat = []\n",
    "    for i in sorted_list[-topk_category:]:\n",
    "        if category_cnt[i] != 0:\n",
    "            fml_cat.append(i)\n",
    "    user_fml_cat_small[user] = fml_cat\n",
    "    \n",
    "Hit_small = {}\n",
    "for user in small_pos_dict:\n",
    "    if user in big_pos_dict:\n",
    "        Hit_small[user] = 0\n",
    "        for i in range(len(user_fml_cat_big[user])):\n",
    "            if user_fml_cat_big[user][i] in user_fml_cat_small[user]:\n",
    "                Hit_small[user] += 1\n",
    "        Hit_small[user] /= len(user_fml_cat_small[user])\n",
    "            \n",
    "print('Recall small:', round(np.array(list(Hit_small.values())).mean(), 5))"
   ]
  },
  {
   "cell_type": "code",
   "execution_count": 25,
   "id": "b392ad78",
   "metadata": {
    "ExecuteTime": {
     "end_time": "2023-04-23T09:48:17.701480Z",
     "start_time": "2023-04-23T09:48:17.687481Z"
    }
   },
   "outputs": [
    {
     "data": {
      "text/plain": [
       "7175"
      ]
     },
     "execution_count": 25,
     "metadata": {},
     "output_type": "execute_result"
    }
   ],
   "source": [
    "len(user_id_map)"
   ]
  },
  {
   "cell_type": "code",
   "execution_count": 26,
   "id": "8fc544f0",
   "metadata": {
    "ExecuteTime": {
     "end_time": "2023-04-23T09:48:17.717482Z",
     "start_time": "2023-04-23T09:48:17.704485Z"
    }
   },
   "outputs": [
    {
     "data": {
      "text/plain": [
       "10611"
      ]
     },
     "execution_count": 26,
     "metadata": {},
     "output_type": "execute_result"
    }
   ],
   "source": [
    "len(item_id_map)"
   ]
  },
  {
   "cell_type": "code",
   "execution_count": 27,
   "id": "b7439f13",
   "metadata": {
    "ExecuteTime": {
     "end_time": "2023-04-23T09:48:17.749495Z",
     "start_time": "2023-04-23T09:48:17.728484Z"
    }
   },
   "outputs": [
    {
     "data": {
      "text/plain": [
       "936568"
      ]
     },
     "execution_count": 27,
     "metadata": {},
     "output_type": "execute_result"
    }
   ],
   "source": [
    "len(training_list)"
   ]
  },
  {
   "cell_type": "code",
   "execution_count": 28,
   "id": "4a6a1c2d",
   "metadata": {
    "ExecuteTime": {
     "end_time": "2023-04-23T09:48:17.765503Z",
     "start_time": "2023-04-23T09:48:17.751496Z"
    }
   },
   "outputs": [
    {
     "data": {
      "text/plain": [
       "104231"
      ]
     },
     "execution_count": 28,
     "metadata": {},
     "output_type": "execute_result"
    }
   ],
   "source": [
    "len(testing_list)"
   ]
  },
  {
   "cell_type": "code",
   "execution_count": 29,
   "id": "63684504",
   "metadata": {
    "ExecuteTime": {
     "end_time": "2023-04-23T09:48:17.781505Z",
     "start_time": "2023-04-23T09:48:17.767504Z"
    }
   },
   "outputs": [
    {
     "data": {
      "text/plain": [
       "104928"
      ]
     },
     "execution_count": 29,
     "metadata": {},
     "output_type": "execute_result"
    }
   ],
   "source": [
    "len(validation_list)"
   ]
  }
 ],
 "metadata": {
  "hide_input": false,
  "kernelspec": {
   "display_name": "Python 3 (ipykernel)",
   "language": "python",
   "name": "python3"
  },
  "language_info": {
   "codemirror_mode": {
    "name": "ipython",
    "version": 3
   },
   "file_extension": ".py",
   "mimetype": "text/x-python",
   "name": "python",
   "nbconvert_exporter": "python",
   "pygments_lexer": "ipython3",
   "version": "3.9.12"
  },
  "toc": {
   "base_numbering": 1,
   "nav_menu": {},
   "number_sections": false,
   "sideBar": true,
   "skip_h1_title": false,
   "title_cell": "Table of Contents",
   "title_sidebar": "Contents",
   "toc_cell": false,
   "toc_position": {},
   "toc_section_display": true,
   "toc_window_display": false
  },
  "varInspector": {
   "cols": {
    "lenName": 16,
    "lenType": 16,
    "lenVar": 40
   },
   "kernels_config": {
    "python": {
     "delete_cmd_postfix": "",
     "delete_cmd_prefix": "del ",
     "library": "var_list.py",
     "varRefreshCmd": "print(var_dic_list())"
    },
    "r": {
     "delete_cmd_postfix": ") ",
     "delete_cmd_prefix": "rm(",
     "library": "var_list.r",
     "varRefreshCmd": "cat(var_dic_list()) "
    }
   },
   "types_to_exclude": [
    "module",
    "function",
    "builtin_function_or_method",
    "instance",
    "_Feature"
   ],
   "window_display": false
  }
 },
 "nbformat": 4,
 "nbformat_minor": 5
}
