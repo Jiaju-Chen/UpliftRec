{
 "cells": [
  {
   "cell_type": "code",
   "execution_count": 1,
   "id": "f5bb103a",
   "metadata": {
    "ExecuteTime": {
     "end_time": "2023-04-23T11:17:36.355383Z",
     "start_time": "2023-04-23T11:17:35.755596Z"
    }
   },
   "outputs": [],
   "source": [
    "import numpy as np\n",
    "import pandas as pd"
   ]
  },
  {
   "cell_type": "code",
   "execution_count": 2,
   "id": "b0b07a16",
   "metadata": {
    "ExecuteTime": {
     "end_time": "2023-04-23T11:17:36.381377Z",
     "start_time": "2023-04-23T11:17:36.358396Z"
    }
   },
   "outputs": [
    {
     "data": {
      "text/plain": [
       "31"
      ]
     },
     "execution_count": 2,
     "metadata": {},
     "output_type": "execute_result"
    }
   ],
   "source": [
    "category_num = len(np.load('../kuai-FM/features/category_list.npy'))\n",
    "category_num"
   ]
  },
  {
   "cell_type": "code",
   "execution_count": 3,
   "id": "f58d5755",
   "metadata": {
    "ExecuteTime": {
     "end_time": "2023-04-23T11:17:36.454537Z",
     "start_time": "2023-04-23T11:17:36.381377Z"
    }
   },
   "outputs": [
    {
     "data": {
      "text/plain": [
       "7175"
      ]
     },
     "execution_count": 3,
     "metadata": {},
     "output_type": "execute_result"
    }
   ],
   "source": [
    "user_num = len(np.load('../kuai-FM/sets/big_pos_dict.npy', allow_pickle=True).item());user_num#one no positive"
   ]
  },
  {
   "cell_type": "code",
   "execution_count": 4,
   "id": "65cafee6",
   "metadata": {
    "ExecuteTime": {
     "end_time": "2023-04-23T11:17:36.482124Z",
     "start_time": "2023-04-23T11:17:36.456544Z"
    }
   },
   "outputs": [
    {
     "data": {
      "text/plain": [
       "1410"
      ]
     },
     "execution_count": 4,
     "metadata": {},
     "output_type": "execute_result"
    }
   ],
   "source": [
    "user_num = len(np.load('../kuai-FM/sets/small_pos_dict.npy', allow_pickle=True).item());user_num"
   ]
  },
  {
   "cell_type": "code",
   "execution_count": 5,
   "id": "59a35e4e",
   "metadata": {
    "ExecuteTime": {
     "end_time": "2023-04-23T11:17:37.110549Z",
     "start_time": "2023-04-23T11:17:36.482582Z"
    }
   },
   "outputs": [],
   "source": [
    "training_dict = np.load('../kuai-FM/sets/training_dict.npy', allow_pickle=True).item()\n",
    "with open(\"train.txt\",\"w\") as f:\n",
    "    for user in training_dict:\n",
    "        f.write(str(user))\n",
    "        for item in training_dict[user]:\n",
    "            f.write(' ' + str(item))\n",
    "        f.write('\\n')\n",
    "np.save('./training_dict.npy', np.array(training_dict))"
   ]
  },
  {
   "cell_type": "code",
   "execution_count": 6,
   "id": "32be1544",
   "metadata": {
    "ExecuteTime": {
     "end_time": "2023-04-23T11:17:37.203711Z",
     "start_time": "2023-04-23T11:17:37.110549Z"
    }
   },
   "outputs": [],
   "source": [
    "validation_dict = np.load('../kuai-FM/sets/validation_dict.npy', allow_pickle=True).item()\n",
    "with open(\"valid.txt\",\"w\") as f:\n",
    "    for user in validation_dict:\n",
    "        f.write(str(user))\n",
    "        for item in validation_dict[user]:\n",
    "            f.write(' ' + str(item))\n",
    "        f.write('\\n')\n",
    "np.save('./validation_dict.npy', np.array(validation_dict))"
   ]
  },
  {
   "cell_type": "code",
   "execution_count": 7,
   "id": "83fe0b6d",
   "metadata": {
    "ExecuteTime": {
     "end_time": "2023-04-23T11:17:37.290456Z",
     "start_time": "2023-04-23T11:17:37.205713Z"
    }
   },
   "outputs": [],
   "source": [
    "testing_dict = np.load('../kuai-FM/sets/testing_dict.npy', allow_pickle=True).item()\n",
    "with open(\"test.txt\",\"w\") as f:\n",
    "    for user in validation_dict:\n",
    "        f.write(str(user))\n",
    "        for item in testing_dict[user]:\n",
    "            f.write(' ' + str(item))\n",
    "        f.write('\\n')\n",
    "np.save('./testing_dict.npy', np.array(testing_dict))"
   ]
  },
  {
   "cell_type": "code",
   "execution_count": 8,
   "id": "c66c6084",
   "metadata": {
    "ExecuteTime": {
     "end_time": "2023-04-23T11:17:37.889593Z",
     "start_time": "2023-04-23T11:17:37.290456Z"
    }
   },
   "outputs": [],
   "source": [
    "item_feature_dict = np.load('../kuai-FM/features/item_feature_dict.npy', allow_pickle=True).item()\n",
    "topk_category = 3\n",
    "user_fml_cat = {}\n",
    "for user in training_dict:\n",
    "    category_cnt = [0] * category_num\n",
    "    for item in training_dict[user]:\n",
    "        for cat in item_feature_dict[item]:\n",
    "            category_cnt[cat] += 1\n",
    "    sorted_list = list(np.argsort(category_cnt))\n",
    "    fml_cat = sorted_list[-topk_category:]\n",
    "    user_fml_cat[user] = fml_cat\n",
    "np.save('./user_fml_cat.npy', np.array(user_fml_cat))\n",
    "np.save('./item_feature_dict.npy', np.array(item_feature_dict))"
   ]
  },
  {
   "cell_type": "code",
   "execution_count": 9,
   "id": "d993fa03",
   "metadata": {
    "ExecuteTime": {
     "end_time": "2023-04-23T11:17:37.909734Z",
     "start_time": "2023-04-23T11:17:37.894708Z"
    }
   },
   "outputs": [],
   "source": [
    "item_rank_dict = np.load('../kuai-FM/features/item_rank_dict.npy', allow_pickle=True).item()\n",
    "np.save('./item_rank_dict.npy', np.array(item_rank_dict))\n",
    "category_list = np.load('../kuai-FM/features/category_list.npy')\n",
    "np.save('./category_list.npy', np.array(category_list))"
   ]
  },
  {
   "cell_type": "code",
   "execution_count": null,
   "id": "381ac564",
   "metadata": {},
   "outputs": [],
   "source": []
  }
 ],
 "metadata": {
  "hide_input": false,
  "kernelspec": {
   "display_name": "Python 3 (ipykernel)",
   "language": "python",
   "name": "python3"
  },
  "language_info": {
   "codemirror_mode": {
    "name": "ipython",
    "version": 3
   },
   "file_extension": ".py",
   "mimetype": "text/x-python",
   "name": "python",
   "nbconvert_exporter": "python",
   "pygments_lexer": "ipython3",
   "version": "3.9.12"
  },
  "toc": {
   "base_numbering": 1,
   "nav_menu": {},
   "number_sections": false,
   "sideBar": true,
   "skip_h1_title": false,
   "title_cell": "Table of Contents",
   "title_sidebar": "Contents",
   "toc_cell": false,
   "toc_position": {},
   "toc_section_display": true,
   "toc_window_display": false
  },
  "varInspector": {
   "cols": {
    "lenName": 16,
    "lenType": 16,
    "lenVar": 40
   },
   "kernels_config": {
    "python": {
     "delete_cmd_postfix": "",
     "delete_cmd_prefix": "del ",
     "library": "var_list.py",
     "varRefreshCmd": "print(var_dic_list())"
    },
    "r": {
     "delete_cmd_postfix": ") ",
     "delete_cmd_prefix": "rm(",
     "library": "var_list.r",
     "varRefreshCmd": "cat(var_dic_list()) "
    }
   },
   "types_to_exclude": [
    "module",
    "function",
    "builtin_function_or_method",
    "instance",
    "_Feature"
   ],
   "window_display": false
  }
 },
 "nbformat": 4,
 "nbformat_minor": 5
}
