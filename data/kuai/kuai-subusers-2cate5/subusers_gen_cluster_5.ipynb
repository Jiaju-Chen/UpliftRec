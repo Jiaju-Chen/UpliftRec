{
 "cells": [
  {
   "cell_type": "code",
   "execution_count": 1,
   "id": "852f950f",
   "metadata": {
    "ExecuteTime": {
     "end_time": "2023-04-23T11:19:07.060619Z",
     "start_time": "2023-04-23T11:19:06.419403Z"
    }
   },
   "outputs": [],
   "source": [
    "import os\n",
    "import random\n",
    "import numpy as np\n",
    "import pandas as pd\n",
    "from tqdm import tqdm\n",
    "\n",
    "# Hyper-parameters\n",
    "user_clip_num = 2 # Note: in our work this parameter is actually set to 3, which means 3-1 samples for each real user.\n", 
    "user_pos_num_clip = 2 # only split users with training positive interactions >= user_clip_num * user_pos_num_clip\n",
    "max_interact_num = 10\n",
    "like_threshold = 2"
   ]
  },
  {
   "cell_type": "code",
   "execution_count": 2,
   "id": "1fb8e40d",
   "metadata": {
    "ExecuteTime": {
     "end_time": "2023-04-23T11:19:29.121364Z",
     "start_time": "2023-04-23T11:19:07.060619Z"
    }
   },
   "outputs": [
    {
     "name": "stdout",
     "output_type": "stream",
     "text": [
      "Loading big matrix...\n",
      "Loading small matrix...\n",
      "Loading item features...\n",
      "All data loaded.\n"
     ]
    }
   ],
   "source": [
    "rootpath=\"../data/\"\n",
    "print(\"Loading big matrix...\")\n",
    "big_matrix = pd.read_csv(rootpath + \"big_matrix.csv\")\n",
    "\n",
    "print(\"Loading small matrix...\")\n",
    "small_matrix = pd.read_csv(rootpath + \"/small_matrix.csv\")\n",
    "\n",
    "# print(\"Loading social network...\")\n",
    "# social_network = pd.read_csv(rootpath + \"/social_network.csv\")\n",
    "# social_network[\"friend_list\"] = social_network[\"friend_list\"].map(eval)\n",
    "\n",
    "print(\"Loading item features...\")\n",
    "item_feat = pd.read_csv(rootpath + \"/item_categories.csv\")\n",
    "item_feat[\"feat\"] = item_feat[\"feat\"].map(eval)\n",
    "\n",
    "print(\"All data loaded.\")"
   ]
  },
  {
   "cell_type": "code",
   "execution_count": 3,
   "id": "d266a757",
   "metadata": {
    "ExecuteTime": {
     "end_time": "2023-04-23T11:19:29.157902Z",
     "start_time": "2023-04-23T11:19:29.125366Z"
    }
   },
   "outputs": [
    {
     "data": {
      "text/html": [
       "<div>\n",
       "<style scoped>\n",
       "    .dataframe tbody tr th:only-of-type {\n",
       "        vertical-align: middle;\n",
       "    }\n",
       "\n",
       "    .dataframe tbody tr th {\n",
       "        vertical-align: top;\n",
       "    }\n",
       "\n",
       "    .dataframe thead th {\n",
       "        text-align: right;\n",
       "    }\n",
       "</style>\n",
       "<table border=\"1\" class=\"dataframe\">\n",
       "  <thead>\n",
       "    <tr style=\"text-align: right;\">\n",
       "      <th></th>\n",
       "      <th>user_id</th>\n",
       "      <th>video_id</th>\n",
       "      <th>play_duration</th>\n",
       "      <th>video_duration</th>\n",
       "      <th>time</th>\n",
       "      <th>date</th>\n",
       "      <th>timestamp</th>\n",
       "      <th>watch_ratio</th>\n",
       "    </tr>\n",
       "  </thead>\n",
       "  <tbody>\n",
       "    <tr>\n",
       "      <th>0</th>\n",
       "      <td>0</td>\n",
       "      <td>3650</td>\n",
       "      <td>13838</td>\n",
       "      <td>10867</td>\n",
       "      <td>2020-07-05 00:08:23.438</td>\n",
       "      <td>20200705</td>\n",
       "      <td>1.593879e+09</td>\n",
       "      <td>1.273397</td>\n",
       "    </tr>\n",
       "    <tr>\n",
       "      <th>1</th>\n",
       "      <td>0</td>\n",
       "      <td>9599</td>\n",
       "      <td>13665</td>\n",
       "      <td>10984</td>\n",
       "      <td>2020-07-05 00:13:41.297</td>\n",
       "      <td>20200705</td>\n",
       "      <td>1.593879e+09</td>\n",
       "      <td>1.244082</td>\n",
       "    </tr>\n",
       "    <tr>\n",
       "      <th>2</th>\n",
       "      <td>0</td>\n",
       "      <td>5263</td>\n",
       "      <td>851</td>\n",
       "      <td>7908</td>\n",
       "      <td>2020-07-05 00:16:06.687</td>\n",
       "      <td>20200705</td>\n",
       "      <td>1.593879e+09</td>\n",
       "      <td>0.107613</td>\n",
       "    </tr>\n",
       "    <tr>\n",
       "      <th>3</th>\n",
       "      <td>0</td>\n",
       "      <td>1964</td>\n",
       "      <td>862</td>\n",
       "      <td>9590</td>\n",
       "      <td>2020-07-05 00:20:26.792</td>\n",
       "      <td>20200705</td>\n",
       "      <td>1.593880e+09</td>\n",
       "      <td>0.089885</td>\n",
       "    </tr>\n",
       "    <tr>\n",
       "      <th>4</th>\n",
       "      <td>0</td>\n",
       "      <td>8235</td>\n",
       "      <td>858</td>\n",
       "      <td>11000</td>\n",
       "      <td>2020-07-05 00:43:05.128</td>\n",
       "      <td>20200705</td>\n",
       "      <td>1.593881e+09</td>\n",
       "      <td>0.078000</td>\n",
       "    </tr>\n",
       "  </tbody>\n",
       "</table>\n",
       "</div>"
      ],
      "text/plain": [
       "   user_id  video_id  play_duration  video_duration                     time  \\\n",
       "0        0      3650          13838           10867  2020-07-05 00:08:23.438   \n",
       "1        0      9599          13665           10984  2020-07-05 00:13:41.297   \n",
       "2        0      5263            851            7908  2020-07-05 00:16:06.687   \n",
       "3        0      1964            862            9590  2020-07-05 00:20:26.792   \n",
       "4        0      8235            858           11000  2020-07-05 00:43:05.128   \n",
       "\n",
       "       date     timestamp  watch_ratio  \n",
       "0  20200705  1.593879e+09     1.273397  \n",
       "1  20200705  1.593879e+09     1.244082  \n",
       "2  20200705  1.593879e+09     0.107613  \n",
       "3  20200705  1.593880e+09     0.089885  \n",
       "4  20200705  1.593881e+09     0.078000  "
      ]
     },
     "execution_count": 3,
     "metadata": {},
     "output_type": "execute_result"
    }
   ],
   "source": [
    "big_matrix.head()"
   ]
  },
  {
   "cell_type": "code",
   "execution_count": 4,
   "id": "622fc637",
   "metadata": {
    "ExecuteTime": {
     "end_time": "2023-04-23T11:19:29.173849Z",
     "start_time": "2023-04-23T11:19:29.157902Z"
    }
   },
   "outputs": [
    {
     "data": {
      "text/plain": [
       "(12530806, 8)"
      ]
     },
     "execution_count": 4,
     "metadata": {},
     "output_type": "execute_result"
    }
   ],
   "source": [
    "big_matrix.shape"
   ]
  },
  {
   "cell_type": "code",
   "execution_count": 5,
   "id": "f2aff932",
   "metadata": {
    "ExecuteTime": {
     "end_time": "2023-04-23T11:24:29.167366Z",
     "start_time": "2023-04-23T11:19:29.173849Z"
    }
   },
   "outputs": [
    {
     "name": "stderr",
     "output_type": "stream",
     "text": [
      "100%|███████████████████████████████████████████████████████████████████| 12530806/12530806 [04:59<00:00, 41774.97it/s]\n"
     ]
    }
   ],
   "source": [
    "user_item_count={} #{0:{1:9,2:7}}\n",
    "unwanted_interact = []\n",
    "for i in tqdm(big_matrix.index):\n",
    "    uID = big_matrix.loc[i,'user_id']\n",
    "        \n",
    "    if uID not in user_item_count:\n",
    "        user_item_count[uID] = {}\n",
    "        \n",
    "    iID = big_matrix.loc[i,'video_id']\n",
    "    \n",
    "    if iID not in user_item_count[uID]:\n",
    "        user_item_count[uID][iID] = 1\n",
    "    else:\n",
    "        user_item_count[uID][iID] += 1\n",
    "    if user_item_count[uID][iID]>10:\n",
    "        unwanted_interact.append(i)\n",
    "        "
   ]
  },
  {
   "cell_type": "code",
   "execution_count": 6,
   "id": "0c13553b",
   "metadata": {
    "ExecuteTime": {
     "end_time": "2023-04-23T11:24:29.183376Z",
     "start_time": "2023-04-23T11:24:29.169369Z"
    }
   },
   "outputs": [
    {
     "data": {
      "text/plain": [
       "42764"
      ]
     },
     "execution_count": 6,
     "metadata": {},
     "output_type": "execute_result"
    }
   ],
   "source": [
    "len(unwanted_interact)"
   ]
  },
  {
   "cell_type": "code",
   "execution_count": 7,
   "id": "0a7dca93",
   "metadata": {
    "ExecuteTime": {
     "end_time": "2023-04-23T11:24:30.235455Z",
     "start_time": "2023-04-23T11:24:29.185377Z"
    },
    "scrolled": true
   },
   "outputs": [],
   "source": [
    "big_matrix = big_matrix.drop(unwanted_interact)"
   ]
  },
  {
   "cell_type": "code",
   "execution_count": 8,
   "id": "8e6a1882",
   "metadata": {
    "ExecuteTime": {
     "end_time": "2023-04-23T11:24:30.251455Z",
     "start_time": "2023-04-23T11:24:30.238454Z"
    }
   },
   "outputs": [],
   "source": [
    "#big_matrix[(big_matrix.user_id == 0)&(big_matrix.video_id==1032)]"
   ]
  },
  {
   "cell_type": "code",
   "execution_count": 9,
   "id": "2257be2d",
   "metadata": {
    "ExecuteTime": {
     "end_time": "2023-04-23T11:24:30.267456Z",
     "start_time": "2023-04-23T11:24:30.256455Z"
    }
   },
   "outputs": [],
   "source": [
    "#big_matrix[(big_matrix.user_id==3586) & (big_matrix.watch_ratio>2)]"
   ]
  },
  {
   "cell_type": "code",
   "execution_count": 10,
   "id": "a9b380ed",
   "metadata": {
    "ExecuteTime": {
     "end_time": "2023-04-23T11:24:30.283457Z",
     "start_time": "2023-04-23T11:24:30.269458Z"
    }
   },
   "outputs": [
    {
     "data": {
      "text/plain": [
       "\"big_matrix[(big_matrix.user_id == 0)&(big_matrix.video_id==9919)]\\nbig_matrix[(big_matrix.user_id == 1)]\\nlen(set(big_matrix[big_matrix.user_id==1].video_id))\\nm = big_matrix[big_matrix.user_id == 0]#['video_id','timestamp','watch_ratio']\\n#s = set([])\\nf = 0\\nfor i in range(m.shape[0]):\\n    #a = ''\\n    for j in list(m.loc[i,['video_id']]):\\n        if j == f:\\n            print(f)\\n        f = j\\n    #s.add(a)\\n\""
      ]
     },
     "execution_count": 10,
     "metadata": {},
     "output_type": "execute_result"
    }
   ],
   "source": [
    "'''big_matrix[(big_matrix.user_id == 0)&(big_matrix.video_id==9919)]\n",
    "big_matrix[(big_matrix.user_id == 1)]\n",
    "len(set(big_matrix[big_matrix.user_id==1].video_id))\n",
    "m = big_matrix[big_matrix.user_id == 0]#['video_id','timestamp','watch_ratio']\n",
    "#s = set([])\n",
    "f = 0\n",
    "for i in range(m.shape[0]):\n",
    "    #a = ''\n",
    "    for j in list(m.loc[i,['video_id']]):\n",
    "        if j == f:\n",
    "            print(f)\n",
    "        f = j\n",
    "    #s.add(a)\n",
    "'''"
   ]
  },
  {
   "cell_type": "code",
   "execution_count": 11,
   "id": "f3776c51",
   "metadata": {
    "ExecuteTime": {
     "end_time": "2023-04-23T11:24:30.299458Z",
     "start_time": "2023-04-23T11:24:30.286461Z"
    }
   },
   "outputs": [
    {
     "data": {
      "text/html": [
       "<div>\n",
       "<style scoped>\n",
       "    .dataframe tbody tr th:only-of-type {\n",
       "        vertical-align: middle;\n",
       "    }\n",
       "\n",
       "    .dataframe tbody tr th {\n",
       "        vertical-align: top;\n",
       "    }\n",
       "\n",
       "    .dataframe thead th {\n",
       "        text-align: right;\n",
       "    }\n",
       "</style>\n",
       "<table border=\"1\" class=\"dataframe\">\n",
       "  <thead>\n",
       "    <tr style=\"text-align: right;\">\n",
       "      <th></th>\n",
       "      <th>video_id</th>\n",
       "      <th>feat</th>\n",
       "    </tr>\n",
       "  </thead>\n",
       "  <tbody>\n",
       "    <tr>\n",
       "      <th>0</th>\n",
       "      <td>0</td>\n",
       "      <td>[8]</td>\n",
       "    </tr>\n",
       "    <tr>\n",
       "      <th>1</th>\n",
       "      <td>1</td>\n",
       "      <td>[27, 9]</td>\n",
       "    </tr>\n",
       "    <tr>\n",
       "      <th>2</th>\n",
       "      <td>2</td>\n",
       "      <td>[9]</td>\n",
       "    </tr>\n",
       "    <tr>\n",
       "      <th>3</th>\n",
       "      <td>3</td>\n",
       "      <td>[26]</td>\n",
       "    </tr>\n",
       "    <tr>\n",
       "      <th>4</th>\n",
       "      <td>4</td>\n",
       "      <td>[5]</td>\n",
       "    </tr>\n",
       "  </tbody>\n",
       "</table>\n",
       "</div>"
      ],
      "text/plain": [
       "   video_id     feat\n",
       "0         0      [8]\n",
       "1         1  [27, 9]\n",
       "2         2      [9]\n",
       "3         3     [26]\n",
       "4         4      [5]"
      ]
     },
     "execution_count": 11,
     "metadata": {},
     "output_type": "execute_result"
    }
   ],
   "source": [
    "item_feat.head()"
   ]
  },
  {
   "cell_type": "code",
   "execution_count": 12,
   "id": "57f74da7",
   "metadata": {
    "ExecuteTime": {
     "end_time": "2023-04-23T11:24:33.894724Z",
     "start_time": "2023-04-23T11:24:30.301462Z"
    }
   },
   "outputs": [
    {
     "name": "stdout",
     "output_type": "stream",
     "text": [
      "big_matrix_pos shape (931167, 8)\n",
      "small_matrix_pos shape (209616, 8)\n"
     ]
    }
   ],
   "source": [
    "# create folders\n",
    "path='./features'\n",
    "if not os.path.exists(path):\n",
    "    os.mkdir(path)\n",
    "path='./sets'\n",
    "if not os.path.exists(path):\n",
    "    os.mkdir(path)\n",
    "    \n",
    "# matrix preprocessing\n",
    "big_matrix = big_matrix.dropna()\n",
    "small_matrix = small_matrix.dropna()\n",
    "\n",
    "# only keep watch_ratio>like_threshold as postive interactions\n",
    "big_matrix_pos = big_matrix[big_matrix[\"watch_ratio\"]>=like_threshold];\n",
    "print(\"big_matrix_pos shape\", big_matrix_pos.shape)\n",
    "\n",
    "small_matrix_pos = small_matrix[small_matrix[\"watch_ratio\"]>=like_threshold];\n",
    "print(\"small_matrix_pos shape\", small_matrix_pos.shape)"
   ]
  },
  {
   "cell_type": "code",
   "execution_count": 13,
   "id": "73910ff6",
   "metadata": {
    "ExecuteTime": {
     "end_time": "2023-04-23T11:26:28.369172Z",
     "start_time": "2023-04-23T11:24:33.897725Z"
    }
   },
   "outputs": [
    {
     "name": "stderr",
     "output_type": "stream",
     "text": [
      "100%|███████████████████████████████████████████████████████████████████████| 931167/931167 [01:32<00:00, 10042.69it/s]\n",
      "100%|████████████████████████████████████████████████████████████████████████| 209616/209616 [00:21<00:00, 9948.76it/s]\n"
     ]
    }
   ],
   "source": [
    "item_id_map = {}\n",
    "user_id_map = {}\n",
    "userID = 0\n",
    "itemID = 0\n",
    "big_pos_list = []\n",
    "for i in tqdm(range(big_matrix_pos.shape[0])):\n",
    "    if big_matrix_pos.iloc[i,0] in user_id_map:\n",
    "        uID = user_id_map[big_matrix_pos.iloc[i,0]]\n",
    "    else:\n",
    "        uID = userID\n",
    "        user_id_map[big_matrix_pos.iloc[i,0]] = uID\n",
    "        userID += 1\n",
    "        \n",
    "    if big_matrix_pos.iloc[i,1] in item_id_map:\n",
    "        iID = item_id_map[big_matrix_pos.iloc[i,1]]\n",
    "    else:\n",
    "        iID = itemID\n",
    "        item_id_map[big_matrix_pos.iloc[i,1]] = iID\n",
    "        itemID += 1\n",
    "        \n",
    "    big_pos_list.append([uID,iID])\n",
    "    \n",
    "small_pos_list = []\n",
    "for i in tqdm(range(small_matrix_pos.shape[0])):\n",
    "    if small_matrix_pos.iloc[i,0] in user_id_map:\n",
    "        uID = user_id_map[small_matrix_pos.iloc[i,0]]\n",
    "    else:\n",
    "        continue\n",
    "    if small_matrix_pos.iloc[i,1] in item_id_map:\n",
    "        iID = item_id_map[small_matrix_pos.iloc[i,1]]\n",
    "    else:\n",
    "        continue \n",
    "    small_pos_list.append([uID,iID])\n",
    "\n",
    "small_pos_dict = {}\n",
    "for pair in small_pos_list:\n",
    "    userID, itemID = pair\n",
    "    if userID not in small_pos_dict:\n",
    "        small_pos_dict[userID] = []\n",
    "    small_pos_dict[userID].append(itemID)\n",
    "big_pos_dict = {}\n",
    "for pair in big_pos_list:\n",
    "    userID, itemID = pair\n",
    "    if userID not in big_pos_dict:\n",
    "        big_pos_dict[userID] = []\n",
    "    big_pos_dict[userID].append(itemID)"
   ]
  },
  {
   "cell_type": "code",
   "execution_count": 14,
   "id": "638d6325",
   "metadata": {
    "ExecuteTime": {
     "end_time": "2023-04-23T12:03:00.667563Z",
     "start_time": "2023-04-23T11:26:28.371172Z"
    }
   },
   "outputs": [
    {
     "name": "stderr",
     "output_type": "stream",
     "text": [
      "100%|████████████████████████████████████████████████████████████████████| 12488042/12488042 [36:32<00:00, 5696.37it/s]\n"
     ]
    }
   ],
   "source": [
    "# added for splitting users: only split training data, keep testing data untouched.\n",
    "\n",
    "user_all_dict = {} # to record every exposure interaction with time and watch_ratio\n",
    "for i in tqdm(range(big_matrix.shape[0])):\n",
    "    if big_matrix.iloc[i,0] in user_id_map:\n",
    "        uID = user_id_map[big_matrix.iloc[i,0]]\n",
    "        \n",
    "        # this is a recorded positive interaction\n",
    "        if big_matrix.iloc[i,7]>=like_threshold: \n",
    "            iID = item_id_map[big_matrix.iloc[i,1]]\n",
    "#             assert [uID, iID] in big_pos_list # double check this is recorded\n",
    "            \n",
    "            if uID not in user_all_dict:\n",
    "                user_all_dict[uID] = {'exposure':[], 'like':[]}\n",
    "            user_all_dict[uID]['exposure'].append([iID, big_matrix.iloc[i,6], big_matrix.iloc[i,7]])\n",
    "            user_all_dict[uID]['like'].append([iID, big_matrix.iloc[i,6], big_matrix.iloc[i,7]])\n",
    "            \n",
    "        # this is a negative interaction\n",
    "        else:\n",
    "            if big_matrix.iloc[i,1] in item_id_map: \n",
    "                iID = item_id_map[big_matrix.iloc[i,1]]\n",
    "            # this is a new item unmapped\n",
    "            else: \n",
    "                iID = len(item_id_map)\n",
    "                item_id_map[big_matrix.iloc[i,1]] = iID\n",
    "                \n",
    "            if uID not in user_all_dict:\n",
    "                user_all_dict[uID] = {'exposure':[], 'like':[]}\n",
    "            user_all_dict[uID]['exposure'].append([iID, big_matrix.iloc[i,6], big_matrix.iloc[i,7]])\n",
    "    else:\n",
    "        continue # this user is deleted in previous MF data\n",
    "\n"
   ]
  },
  {
   "cell_type": "code",
   "execution_count": 15,
   "id": "2467006b",
   "metadata": {
    "ExecuteTime": {
     "end_time": "2023-04-23T12:03:00.683559Z",
     "start_time": "2023-04-23T12:03:00.670563Z"
    }
   },
   "outputs": [],
   "source": [
    "big_pos_dict0 = big_pos_dict"
   ]
  },
  {
   "cell_type": "code",
   "execution_count": 16,
   "id": "cdf71696",
   "metadata": {
    "ExecuteTime": {
     "end_time": "2023-04-23T12:03:00.698593Z",
     "start_time": "2023-04-23T12:03:00.685562Z"
    }
   },
   "outputs": [],
   "source": [
    "# np.save('./sets/user_all_dict.npy', np.array(user_all_dict))"
   ]
  },
  {
   "cell_type": "code",
   "execution_count": 17,
   "id": "8a595df6",
   "metadata": {
    "ExecuteTime": {
     "end_time": "2023-04-23T12:03:02.001690Z",
     "start_time": "2023-04-23T12:03:00.700596Z"
    },
    "scrolled": true
   },
   "outputs": [
    {
     "name": "stderr",
     "output_type": "stream",
     "text": [
      "100%|████████████████████████████████████████████████████████████████████████████| 7175/7175 [00:01<00:00, 5570.27it/s]\n"
     ]
    }
   ],
   "source": [
    "def takeSecond(ele):\n",
    "    return ele[1]\n",
    "\n",
    "# user_all_dict = np.load('./sets/user_all_dict.npy', allow_pickle=True).item()\n",
    "# rank the interaction history, actually already ranked\n",
    "for uID in tqdm(user_all_dict):\n",
    "    user_all_dict[uID]['exposure'].sort(key=takeSecond)\n",
    "    user_all_dict[uID]['like'].sort(key=takeSecond)"
   ]
  },
  {
   "cell_type": "markdown",
   "id": "26fe1d7a",
   "metadata": {},
   "source": [
    "# add cluster part"
   ]
  },
  {
   "cell_type": "code",
   "execution_count": 18,
   "id": "08a51c8c",
   "metadata": {
    "ExecuteTime": {
     "end_time": "2023-04-23T12:03:02.032294Z",
     "start_time": "2023-04-23T12:03:02.003691Z"
    }
   },
   "outputs": [],
   "source": [
    "embed_item = np.load(\"./embed_item_MF_kuai_256factor_num_0.0001lr_256bs_4ng.npy\")\n",
    "# embed_item = np.load(\"./embed_item/embed_user_IPS_kuai_256factor_num_0.0001lr_1024IPS.npy\")"
   ]
  },
  {
   "cell_type": "code",
   "execution_count": 19,
   "id": "8f7ed1f0",
   "metadata": {
    "ExecuteTime": {
     "end_time": "2023-04-23T12:03:02.048295Z",
     "start_time": "2023-04-23T12:03:02.034296Z"
    }
   },
   "outputs": [
    {
     "data": {
      "text/plain": [
       "(10608, 256)"
      ]
     },
     "execution_count": 19,
     "metadata": {},
     "output_type": "execute_result"
    }
   ],
   "source": [
    "embed_item.shape"
   ]
  },
  {
   "cell_type": "code",
   "execution_count": 20,
   "id": "f92f4015",
   "metadata": {
    "ExecuteTime": {
     "end_time": "2023-04-23T12:03:02.112308Z",
     "start_time": "2023-04-23T12:03:02.050297Z"
    }
   },
   "outputs": [],
   "source": [
    "item_feature_dict_ori = {}\n",
    "i_f_dict = dict(item_feat.feat)\n",
    "for i in i_f_dict:\n",
    "    if i in item_id_map:\n",
    "        item_feature_dict_ori[item_id_map[i]] = i_f_dict[i]\n",
    "\n",
    "# create category_list file\n",
    "category_list_ori = []\n",
    "category_id_ori = {}\n",
    "for item in item_feature_dict_ori:\n",
    "    for cat in item_feature_dict_ori[item]:\n",
    "        if cat not in category_list_ori:\n",
    "            category_list_ori.append(cat)\n",
    "            category_id_ori[cat] = cat"
   ]
  },
  {
   "cell_type": "code",
   "execution_count": 21,
   "id": "d1872ca8",
   "metadata": {
    "ExecuteTime": {
     "end_time": "2023-04-23T12:03:02.174310Z",
     "start_time": "2023-04-23T12:03:02.114309Z"
    }
   },
   "outputs": [],
   "source": [
    "category_map_dict = {}\n",
    "cate_embed = np.zeros([len(category_list_ori), embed_item.shape[1]])\n",
    "category_count_dict = {}\n",
    "for i in range(embed_item.shape[0]):\n",
    "    for c in item_feature_dict_ori[i]:\n",
    "        if c not in category_count_dict:\n",
    "            category_count_dict[c] = 1/len(item_feature_dict_ori[i])\n",
    "        else:\n",
    "            category_count_dict[c] += 1/len(item_feature_dict_ori[i])\n",
    "        cate_embed[c] += embed_item[i]\n",
    "\n",
    "for c in category_count_dict:\n",
    "    cate_embed[c] /= category_count_dict[c]\n"
   ]
  },
  {
   "cell_type": "code",
   "execution_count": 22,
   "id": "7bce349c",
   "metadata": {
    "ExecuteTime": {
     "end_time": "2023-04-23T12:03:15.970321Z",
     "start_time": "2023-04-23T12:03:02.176310Z"
    }
   },
   "outputs": [
    {
     "name": "stderr",
     "output_type": "stream",
     "text": [
      "  0%|                                                                                           | 0/31 [00:00<?, ?it/s]D:\\download\\anaconda\\envs\\myjupyter\\lib\\site-packages\\sklearn\\cluster\\_kmeans.py:1332: UserWarning: KMeans is known to have a memory leak on Windows with MKL, when there are less chunks than available threads. You can avoid it by setting the environment variable OMP_NUM_THREADS=1.\n",
      "  warnings.warn(\n",
      "  3%|██▋                                                                                | 1/31 [00:00<00:12,  2.33it/s]D:\\download\\anaconda\\envs\\myjupyter\\lib\\site-packages\\sklearn\\cluster\\_kmeans.py:1332: UserWarning: KMeans is known to have a memory leak on Windows with MKL, when there are less chunks than available threads. You can avoid it by setting the environment variable OMP_NUM_THREADS=1.\n",
      "  warnings.warn(\n",
      "  6%|█████▎                                                                             | 2/31 [00:00<00:10,  2.72it/s]D:\\download\\anaconda\\envs\\myjupyter\\lib\\site-packages\\sklearn\\cluster\\_kmeans.py:1332: UserWarning: KMeans is known to have a memory leak on Windows with MKL, when there are less chunks than available threads. You can avoid it by setting the environment variable OMP_NUM_THREADS=1.\n",
      "  warnings.warn(\n",
      " 10%|████████                                                                           | 3/31 [00:01<00:09,  2.90it/s]D:\\download\\anaconda\\envs\\myjupyter\\lib\\site-packages\\sklearn\\cluster\\_kmeans.py:1332: UserWarning: KMeans is known to have a memory leak on Windows with MKL, when there are less chunks than available threads. You can avoid it by setting the environment variable OMP_NUM_THREADS=1.\n",
      "  warnings.warn(\n",
      " 13%|██████████▋                                                                        | 4/31 [00:01<00:09,  2.92it/s]D:\\download\\anaconda\\envs\\myjupyter\\lib\\site-packages\\sklearn\\cluster\\_kmeans.py:1332: UserWarning: KMeans is known to have a memory leak on Windows with MKL, when there are less chunks than available threads. You can avoid it by setting the environment variable OMP_NUM_THREADS=1.\n",
      "  warnings.warn(\n",
      " 16%|█████████████▍                                                                     | 5/31 [00:01<00:08,  2.99it/s]D:\\download\\anaconda\\envs\\myjupyter\\lib\\site-packages\\sklearn\\cluster\\_kmeans.py:1332: UserWarning: KMeans is known to have a memory leak on Windows with MKL, when there are less chunks than available threads. You can avoid it by setting the environment variable OMP_NUM_THREADS=1.\n",
      "  warnings.warn(\n",
      " 19%|████████████████                                                                   | 6/31 [00:02<00:08,  3.03it/s]D:\\download\\anaconda\\envs\\myjupyter\\lib\\site-packages\\sklearn\\cluster\\_kmeans.py:1332: UserWarning: KMeans is known to have a memory leak on Windows with MKL, when there are less chunks than available threads. You can avoid it by setting the environment variable OMP_NUM_THREADS=1.\n",
      "  warnings.warn(\n",
      " 23%|██████████████████▋                                                                | 7/31 [00:02<00:08,  2.96it/s]D:\\download\\anaconda\\envs\\myjupyter\\lib\\site-packages\\sklearn\\cluster\\_kmeans.py:1332: UserWarning: KMeans is known to have a memory leak on Windows with MKL, when there are less chunks than available threads. You can avoid it by setting the environment variable OMP_NUM_THREADS=1.\n",
      "  warnings.warn(\n",
      " 26%|█████████████████████▍                                                             | 8/31 [00:02<00:07,  2.88it/s]D:\\download\\anaconda\\envs\\myjupyter\\lib\\site-packages\\sklearn\\cluster\\_kmeans.py:1332: UserWarning: KMeans is known to have a memory leak on Windows with MKL, when there are less chunks than available threads. You can avoid it by setting the environment variable OMP_NUM_THREADS=1.\n",
      "  warnings.warn(\n",
      " 29%|████████████████████████                                                           | 9/31 [00:03<00:07,  2.80it/s]D:\\download\\anaconda\\envs\\myjupyter\\lib\\site-packages\\sklearn\\cluster\\_kmeans.py:1332: UserWarning: KMeans is known to have a memory leak on Windows with MKL, when there are less chunks than available threads. You can avoid it by setting the environment variable OMP_NUM_THREADS=1.\n",
      "  warnings.warn(\n",
      " 32%|██████████████████████████▍                                                       | 10/31 [00:03<00:07,  2.85it/s]D:\\download\\anaconda\\envs\\myjupyter\\lib\\site-packages\\sklearn\\cluster\\_kmeans.py:1332: UserWarning: KMeans is known to have a memory leak on Windows with MKL, when there are less chunks than available threads. You can avoid it by setting the environment variable OMP_NUM_THREADS=1.\n",
      "  warnings.warn(\n",
      " 35%|█████████████████████████████                                                     | 11/31 [00:03<00:07,  2.84it/s]D:\\download\\anaconda\\envs\\myjupyter\\lib\\site-packages\\sklearn\\cluster\\_kmeans.py:1332: UserWarning: KMeans is known to have a memory leak on Windows with MKL, when there are less chunks than available threads. You can avoid it by setting the environment variable OMP_NUM_THREADS=1.\n",
      "  warnings.warn(\n",
      " 39%|███████████████████████████████▋                                                  | 12/31 [00:04<00:06,  2.78it/s]D:\\download\\anaconda\\envs\\myjupyter\\lib\\site-packages\\sklearn\\cluster\\_kmeans.py:1332: UserWarning: KMeans is known to have a memory leak on Windows with MKL, when there are less chunks than available threads. You can avoid it by setting the environment variable OMP_NUM_THREADS=1.\n",
      "  warnings.warn(\n",
      " 42%|██████████████████████████████████▍                                               | 13/31 [00:04<00:06,  2.73it/s]D:\\download\\anaconda\\envs\\myjupyter\\lib\\site-packages\\sklearn\\cluster\\_kmeans.py:1332: UserWarning: KMeans is known to have a memory leak on Windows with MKL, when there are less chunks than available threads. You can avoid it by setting the environment variable OMP_NUM_THREADS=1.\n",
      "  warnings.warn(\n",
      " 45%|█████████████████████████████████████                                             | 14/31 [00:04<00:06,  2.78it/s]D:\\download\\anaconda\\envs\\myjupyter\\lib\\site-packages\\sklearn\\cluster\\_kmeans.py:1332: UserWarning: KMeans is known to have a memory leak on Windows with MKL, when there are less chunks than available threads. You can avoid it by setting the environment variable OMP_NUM_THREADS=1.\n",
      "  warnings.warn(\n",
      " 48%|███████████████████████████████████████▋                                          | 15/31 [00:05<00:05,  2.75it/s]D:\\download\\anaconda\\envs\\myjupyter\\lib\\site-packages\\sklearn\\cluster\\_kmeans.py:1332: UserWarning: KMeans is known to have a memory leak on Windows with MKL, when there are less chunks than available threads. You can avoid it by setting the environment variable OMP_NUM_THREADS=1.\n",
      "  warnings.warn(\n",
      " 52%|██████████████████████████████████████████▎                                       | 16/31 [00:05<00:05,  2.68it/s]D:\\download\\anaconda\\envs\\myjupyter\\lib\\site-packages\\sklearn\\cluster\\_kmeans.py:1332: UserWarning: KMeans is known to have a memory leak on Windows with MKL, when there are less chunks than available threads. You can avoid it by setting the environment variable OMP_NUM_THREADS=1.\n",
      "  warnings.warn(\n",
      " 55%|████████████████████████████████████████████▉                                     | 17/31 [00:06<00:05,  2.74it/s]D:\\download\\anaconda\\envs\\myjupyter\\lib\\site-packages\\sklearn\\cluster\\_kmeans.py:1332: UserWarning: KMeans is known to have a memory leak on Windows with MKL, when there are less chunks than available threads. You can avoid it by setting the environment variable OMP_NUM_THREADS=1.\n",
      "  warnings.warn(\n",
      " 58%|███████████████████████████████████████████████▌                                  | 18/31 [00:06<00:04,  2.79it/s]D:\\download\\anaconda\\envs\\myjupyter\\lib\\site-packages\\sklearn\\cluster\\_kmeans.py:1332: UserWarning: KMeans is known to have a memory leak on Windows with MKL, when there are less chunks than available threads. You can avoid it by setting the environment variable OMP_NUM_THREADS=1.\n",
      "  warnings.warn(\n",
      " 61%|██████████████████████████████████████████████████▎                               | 19/31 [00:06<00:04,  2.76it/s]D:\\download\\anaconda\\envs\\myjupyter\\lib\\site-packages\\sklearn\\cluster\\_kmeans.py:1332: UserWarning: KMeans is known to have a memory leak on Windows with MKL, when there are less chunks than available threads. You can avoid it by setting the environment variable OMP_NUM_THREADS=1.\n",
      "  warnings.warn(\n"
     ]
    },
    {
     "name": "stderr",
     "output_type": "stream",
     "text": [
      " 65%|████████████████████████████████████████████████████▉                             | 20/31 [00:07<00:03,  2.76it/s]D:\\download\\anaconda\\envs\\myjupyter\\lib\\site-packages\\sklearn\\cluster\\_kmeans.py:1332: UserWarning: KMeans is known to have a memory leak on Windows with MKL, when there are less chunks than available threads. You can avoid it by setting the environment variable OMP_NUM_THREADS=1.\n",
      "  warnings.warn(\n",
      " 68%|███████████████████████████████████████████████████████▌                          | 21/31 [00:07<00:03,  2.75it/s]D:\\download\\anaconda\\envs\\myjupyter\\lib\\site-packages\\sklearn\\cluster\\_kmeans.py:1332: UserWarning: KMeans is known to have a memory leak on Windows with MKL, when there are less chunks than available threads. You can avoid it by setting the environment variable OMP_NUM_THREADS=1.\n",
      "  warnings.warn(\n",
      " 71%|██████████████████████████████████████████████████████████▏                       | 22/31 [00:07<00:03,  2.73it/s]D:\\download\\anaconda\\envs\\myjupyter\\lib\\site-packages\\sklearn\\cluster\\_kmeans.py:1332: UserWarning: KMeans is known to have a memory leak on Windows with MKL, when there are less chunks than available threads. You can avoid it by setting the environment variable OMP_NUM_THREADS=1.\n",
      "  warnings.warn(\n",
      " 74%|████████████████████████████████████████████████████████████▊                     | 23/31 [00:08<00:02,  2.75it/s]D:\\download\\anaconda\\envs\\myjupyter\\lib\\site-packages\\sklearn\\cluster\\_kmeans.py:1332: UserWarning: KMeans is known to have a memory leak on Windows with MKL, when there are less chunks than available threads. You can avoid it by setting the environment variable OMP_NUM_THREADS=1.\n",
      "  warnings.warn(\n",
      " 77%|███████████████████████████████████████████████████████████████▍                  | 24/31 [00:08<00:02,  2.70it/s]D:\\download\\anaconda\\envs\\myjupyter\\lib\\site-packages\\sklearn\\cluster\\_kmeans.py:1332: UserWarning: KMeans is known to have a memory leak on Windows with MKL, when there are less chunks than available threads. You can avoid it by setting the environment variable OMP_NUM_THREADS=1.\n",
      "  warnings.warn(\n",
      " 81%|██████████████████████████████████████████████████████████████████▏               | 25/31 [00:09<00:02,  2.61it/s]D:\\download\\anaconda\\envs\\myjupyter\\lib\\site-packages\\sklearn\\cluster\\_kmeans.py:1332: UserWarning: KMeans is known to have a memory leak on Windows with MKL, when there are less chunks than available threads. You can avoid it by setting the environment variable OMP_NUM_THREADS=1.\n",
      "  warnings.warn(\n",
      " 84%|████████████████████████████████████████████████████████████████████▊             | 26/31 [00:09<00:01,  2.55it/s]D:\\download\\anaconda\\envs\\myjupyter\\lib\\site-packages\\sklearn\\cluster\\_kmeans.py:1332: UserWarning: KMeans is known to have a memory leak on Windows with MKL, when there are less chunks than available threads. You can avoid it by setting the environment variable OMP_NUM_THREADS=1.\n",
      "  warnings.warn(\n",
      " 87%|███████████████████████████████████████████████████████████████████████▍          | 27/31 [00:09<00:01,  2.53it/s]D:\\download\\anaconda\\envs\\myjupyter\\lib\\site-packages\\sklearn\\cluster\\_kmeans.py:1332: UserWarning: KMeans is known to have a memory leak on Windows with MKL, when there are less chunks than available threads. You can avoid it by setting the environment variable OMP_NUM_THREADS=1.\n",
      "  warnings.warn(\n",
      " 90%|██████████████████████████████████████████████████████████████████████████        | 28/31 [00:10<00:01,  2.52it/s]D:\\download\\anaconda\\envs\\myjupyter\\lib\\site-packages\\sklearn\\cluster\\_kmeans.py:1332: UserWarning: KMeans is known to have a memory leak on Windows with MKL, when there are less chunks than available threads. You can avoid it by setting the environment variable OMP_NUM_THREADS=1.\n",
      "  warnings.warn(\n",
      " 94%|████████████████████████████████████████████████████████████████████████████▋     | 29/31 [00:10<00:00,  2.54it/s]D:\\download\\anaconda\\envs\\myjupyter\\lib\\site-packages\\sklearn\\cluster\\_kmeans.py:1332: UserWarning: KMeans is known to have a memory leak on Windows with MKL, when there are less chunks than available threads. You can avoid it by setting the environment variable OMP_NUM_THREADS=1.\n",
      "  warnings.warn(\n",
      " 97%|███████████████████████████████████████████████████████████████████████████████▎  | 30/31 [00:11<00:00,  2.56it/s]D:\\download\\anaconda\\envs\\myjupyter\\lib\\site-packages\\sklearn\\cluster\\_kmeans.py:1332: UserWarning: KMeans is known to have a memory leak on Windows with MKL, when there are less chunks than available threads. You can avoid it by setting the environment variable OMP_NUM_THREADS=1.\n",
      "  warnings.warn(\n",
      "100%|██████████████████████████████████████████████████████████████████████████████████| 31/31 [00:11<00:00,  2.71it/s]\n"
     ]
    }
   ],
   "source": [
    "import pandas as pd  \n",
    "from sklearn.cluster import KMeans  \n",
    "import matplotlib.pyplot as plt  \n",
    "'利用SSE选择k'  \n",
    "SSE = []  # 存放每次结果的误差平方和  \n",
    "for k in tqdm(range(1,32)):  \n",
    "    estimator = KMeans(n_clusters=k, random_state=1)  # 构造聚类器  \n",
    "    estimator.fit(cate_embed)  \n",
    "    SSE.append(estimator.inertia_)  "
   ]
  },
  {
   "cell_type": "code",
   "execution_count": 23,
   "id": "49d293c9",
   "metadata": {
    "ExecuteTime": {
     "end_time": "2023-04-23T12:03:16.193340Z",
     "start_time": "2023-04-23T12:03:15.972322Z"
    }
   },
   "outputs": [
    {
     "data": {
      "image/png": "[encoded data removed]",
      "text/plain": [
       "<Figure size 432x288 with 1 Axes>"
      ]
     },
     "metadata": {
      "needs_background": "light"
     },
     "output_type": "display_data"
    }
   ],
   "source": [
    "X = range(1,32) \n",
    "plt.xlabel('k')  \n",
    "plt.ylabel('SSE')  \n",
    "plt.plot(X[2:],SSE[2:],'o-')  \n",
    "plt.show() "
   ]
  },
  {
   "cell_type": "code",
   "execution_count": 24,
   "id": "dfd1e3d0",
   "metadata": {
    "ExecuteTime": {
     "end_time": "2023-04-23T12:03:16.511361Z",
     "start_time": "2023-04-23T12:03:16.196341Z"
    }
   },
   "outputs": [
    {
     "name": "stderr",
     "output_type": "stream",
     "text": [
      "D:\\download\\anaconda\\envs\\myjupyter\\lib\\site-packages\\sklearn\\cluster\\_kmeans.py:1332: UserWarning: KMeans is known to have a memory leak on Windows with MKL, when there are less chunks than available threads. You can avoid it by setting the environment variable OMP_NUM_THREADS=1.\n",
      "  warnings.warn(\n"
     ]
    },
    {
     "name": "stdout",
     "output_type": "stream",
     "text": [
      "[0 1 0 3 1 3 1 2 4 1 2 3 1 3 1 4 1 2 1 3 1 3 0 0 0 1 4 0 2 2 1]\n",
      "0.48183331640969995\n"
     ]
    }
   ],
   "source": [
    "from sklearn.cluster import KMeans\n",
    "category_num_new = 5\n",
    "kmeans_model = KMeans(category_num_new, random_state=1)\n",
    "kmeans_model.fit(cate_embed)\n",
    "labels = kmeans_model.labels_\n",
    "print(kmeans_model.labels_)\n",
    "print(kmeans_model.inertia_)\n"
   ]
  },
  {
   "cell_type": "code",
   "execution_count": 25,
   "id": "a7e59342",
   "metadata": {
    "ExecuteTime": {
     "end_time": "2023-04-23T12:03:16.527362Z",
     "start_time": "2023-04-23T12:03:16.513363Z"
    }
   },
   "outputs": [
    {
     "name": "stdout",
     "output_type": "stream",
     "text": [
      "0 6\n",
      "1 11\n",
      "2 5\n",
      "3 6\n",
      "4 3\n"
     ]
    }
   ],
   "source": [
    "for i in set(labels):\n",
    "    print(i, sum(labels==i))"
   ]
  },
  {
   "cell_type": "code",
   "execution_count": 26,
   "id": "f0be876e",
   "metadata": {
    "ExecuteTime": {
     "end_time": "2023-04-23T12:03:16.607368Z",
     "start_time": "2023-04-23T12:03:16.529364Z"
    }
   },
   "outputs": [],
   "source": [
    "# create item_feature_dict file CHANGED!!!\n",
    "item_feature_dict = {}\n",
    "for item in range(len(item_feature_dict_ori)):\n",
    "    item_feature_dict[item]=[]\n",
    "    for i in range(len(item_feature_dict_ori[item])):\n",
    "        if labels[item_feature_dict_ori[item][i]] not in item_feature_dict[item]:\n",
    "            item_feature_dict[item].append(labels[item_feature_dict_ori[item][i]])\n",
    "\n",
    "np.save('./features/item_feature_dict.npy', np.array(item_feature_dict))\n",
    "\n",
    "# create category_list file\n",
    "category_list = list(range(category_num_new))\n",
    "category_id = {}\n",
    "for c in range(category_num_new):\n",
    "    category_id[c] = c\n",
    "\n",
    "np.save('./features/category_id.npy', np.array(category_id))\n",
    "np.save('./features/category_list.npy', np.array(category_list))"
   ]
  },
  {
   "cell_type": "code",
   "execution_count": 27,
   "id": "39efbacc",
   "metadata": {
    "ExecuteTime": {
     "end_time": "2023-04-23T12:03:16.638371Z",
     "start_time": "2023-04-23T12:03:16.619370Z"
    }
   },
   "outputs": [
    {
     "name": "stdout",
     "output_type": "stream",
     "text": [
      "[0, 1, 2, 3, 4]\n"
     ]
    }
   ],
   "source": [
    "# take care: whether exposed but unliked items introduce new categories.\n",
    "print(category_list)"
   ]
  },
  {
   "cell_type": "code",
   "execution_count": 28,
   "id": "a086cba0",
   "metadata": {
    "ExecuteTime": {
     "end_time": "2023-04-23T12:03:26.269081Z",
     "start_time": "2023-04-23T12:03:16.640371Z"
    },
    "code_folding": [],
    "scrolled": false
   },
   "outputs": [
    {
     "name": "stderr",
     "output_type": "stream",
     "text": [
      "\r",
      "  0%|                                                                                         | 0/7175 [00:00<?, ?it/s]"
     ]
    },
    {
     "name": "stdout",
     "output_type": "stream",
     "text": [
      "{'D': [0, 1, 2, 3, 4, 5, 6, 7, 8, 9, 10, 11, 12, 13, 14, 15, 16, 17, 18, 19, 20, 21, 22, 23, 24, 25, 26, 27, 28, 29, 30, 31, 32, 33, 34, 35, 36, 37, 38, 39, 40, 41, 42, 43, 44, 45, 46, 47, 48, 49, 50, 51, 52, 53, 54, 55, 56, 57, 58, 59, 60, 61, 62, 63, 64, 65, 66, 67, 68, 69, 70, 71, 72, 73, 74, 75, 76, 77, 78, 79, 80, 81, 82, 24, 83, 84, 85, 86, 6, 87, 88, 38, 89, 90, 91, 92, 93, 94, 95, 96, 97, 98, 99, 100, 33, 101, 102, 103, 104, 1, 105, 106, 107, 108, 109, 110, 111, 112, 59, 113, 114, 115, 116, 117, 118, 119, 119, 120, 120, 40, 40, 121, 121, 122, 122, 123, 123, 124, 124, 125, 125, 126, 126, 127, 127, 128], 'T': [0.016615930999492642, 0.29109589041095885, 0.358701166920345, 0.13368848300355152, 0.199898528665652], 'Y': [0.0, 0.07320261437908498, 0.15275813295615276, 0.12523719165085387, 0.09137055837563449]}\n"
     ]
    },
    {
     "name": "stderr",
     "output_type": "stream",
     "text": [
      "100%|█████████████████████████████████████████████████████████████████████████████| 7175/7175 [00:09<00:00, 747.42it/s]\n"
     ]
    }
   ],
   "source": [
    "# split users and generate new big_pos_dict and big_pos_list.\n",
    "\n",
    "# a function to calc T given exposure items and item_category_dict&category_list\n",
    "def calc_T(t_seq, item_category, category_list):\n",
    "    cate_dis = [0] * (max(category_list)+1)\n",
    "    for item in t_seq:\n",
    "        for c in item_category[item]:\n",
    "            cate_dis[c] += 1/len(item_category[item])\n",
    "    cate_dis = [c/len(t_seq) for c in cate_dis]\n",
    "    return cate_dis\n",
    "\n",
    "# a function to calc Y given exposure items, liked items, and item_category_dict&category_list\n",
    "def calc_Y(t_seq, next_d, item_category, category_list):\n",
    "    exposure_dis = [0]* (max(category_list)+1)\n",
    "    like_dis = [0]* (max(category_list)+1)\n",
    "    for item in t_seq:\n",
    "        for c in item_category[item]:\n",
    "            exposure_dis[c] += 1/len(item_category[item])\n",
    "    for item in next_d:\n",
    "        for c in item_category[item]:\n",
    "            like_dis[c] += 1/len(item_category[item])\n",
    "    ctr_dis = [like_dis[c]/exposure_dis[c] if exposure_dis[c] > 0 else 0 for c in range(len(exposure_dis))]\n",
    "    return ctr_dis\n",
    "    \n",
    "subuser_all_dict = {} # subuserID\n",
    "user_subuser_map = {}\n",
    "user_subuser_exp_dict = {} # save exposure data of users and subusers\n",
    "user_num = len(user_id_map)\n",
    "assert user_num not in big_pos_dict\n",
    "\n",
    "for uID in tqdm(user_all_dict):\n",
    "    pos_num = len(user_all_dict[uID]['like'])\n",
    "    \n",
    "    # save exposure data of uID\n",
    "    user_subuser_exp_dict[uID] = [entry[0] for entry in user_all_dict[uID]['exposure']]\n",
    "    \n",
    "    # only split users with postive len > user_clip_num * user_pos_num_clip\n",
    "    if pos_num < user_clip_num * user_pos_num_clip:\n",
    "        continue\n",
    "    pos_num_clip = pos_num//user_clip_num\n",
    "    for i in range(user_clip_num-1):\n",
    "        \n",
    "        subuser_id = user_num\n",
    "        user_num += 1\n",
    "        user_subuser_map[subuser_id] = uID\n",
    "        subuser_all_dict[subuser_id] = {}\n",
    "        \n",
    "        # find like history in current clip\n",
    "        d = user_all_dict[uID]['like'][:(i+1)*pos_num_clip]\n",
    "        \n",
    "        # find treatment in next clip\n",
    "        st = user_all_dict[uID]['exposure'].index(user_all_dict[uID]['like'][(i+1)*pos_num_clip])\n",
    "        if i != user_clip_num-2: # not last clip\n",
    "            ed = user_all_dict[uID]['exposure'].index(user_all_dict[uID]['like'][(i+2)*pos_num_clip])\n",
    "            t_seq = user_all_dict[uID]['exposure'][st:ed]\n",
    "        else:\n",
    "            t_seq = user_all_dict[uID]['exposure'][st:]\n",
    "            \n",
    "        # find like history in next clip\n",
    "        if i != user_clip_num-2: # not last clip\n",
    "            next_d = user_all_dict[uID]['like'][(i+1)*pos_num_clip:(i+2)*pos_num_clip]\n",
    "        else:\n",
    "            next_d = user_all_dict[uID]['like'][(i+1)*pos_num_clip:]\n",
    "        \n",
    "        # save exposure data of subuser_id: find the last liked item and save its exposure.\n",
    "        exposure_index = user_all_dict[uID]['exposure'].index(d[-1])\n",
    "        user_subuser_exp_dict[subuser_id] = user_all_dict[uID]['exposure'][:exposure_index+1]\n",
    "        \n",
    "        d = [entry[0] for entry in d]\n",
    "        next_d = [entry[0] for entry in next_d]\n",
    "        t_seq = [entry[0] for entry in t_seq]\n",
    "        \n",
    "        T = calc_T(t_seq, item_feature_dict, category_list)\n",
    "        Y = calc_Y(t_seq, next_d, item_feature_dict, category_list)\n",
    "\n",
    "        subuser_all_dict[subuser_id]['D'] = d\n",
    "        subuser_all_dict[subuser_id]['T'] = T\n",
    "        subuser_all_dict[subuser_id]['Y'] = Y\n",
    "                \n",
    "        # update big_pos_dict and big_pos_list\n",
    "        for item in d:\n",
    "            if subuser_id not in big_pos_dict:\n",
    "                big_pos_dict[subuser_id] = []\n",
    "            big_pos_dict[subuser_id].append(item)\n",
    "            big_pos_list.append([subuser_id, item])\n",
    "\n",
    "        if uID == 0:\n",
    "            print(subuser_all_dict[subuser_id])\n",
    "        "
   ]
  },
  {
   "cell_type": "code",
   "execution_count": 29,
   "id": "a4971945",
   "metadata": {
    "ExecuteTime": {
     "end_time": "2023-04-23T12:03:27.526174Z",
     "start_time": "2023-04-23T12:03:26.271083Z"
    }
   },
   "outputs": [],
   "source": [
    "# np.save('./features/user_subuser_exp_dict.npy', np.array(user_subuser_exp_dict))\n",
    "np.save('./features/user_subuser_map.npy', np.array(user_subuser_map))\n",
    "np.save('./features/subuser_info.npy', np.array(subuser_all_dict))\n",
    "\n",
    "np.save('./features/item_id_map.npy', np.array(item_id_map))\n",
    "np.save('./features/user_id_map.npy', np.array(user_id_map))\n",
    "\n",
    "np.save('./sets/big_pos_list.npy', np.array(big_pos_list))\n",
    "np.save('./sets/small_pos_list.npy', np.array(small_pos_list))\n",
    "\n",
    "np.save('./sets/big_pos_dict.npy', np.array(big_pos_dict))\n",
    "np.save('./sets/small_pos_dict.npy', np.array(small_pos_dict))"
   ]
  },
  {
   "cell_type": "code",
   "execution_count": 30,
   "id": "351be662",
   "metadata": {
    "ExecuteTime": {
     "end_time": "2023-04-23T12:03:27.542178Z",
     "start_time": "2023-04-23T12:03:27.529177Z"
    },
    "code_folding": []
   },
   "outputs": [],
   "source": [
    "# double check the dataset\n",
    "for u in small_pos_dict:\n",
    "    if len(small_pos_dict[u])<2:\n",
    "        print(u)\n",
    "\n",
    "for u in small_pos_dict:\n",
    "    if u not in big_pos_dict:\n",
    "        print(u)"
   ]
  },
  {
   "cell_type": "code",
   "execution_count": 31,
   "id": "a897286a",
   "metadata": {
    "ExecuteTime": {
     "end_time": "2023-04-23T12:03:28.816269Z",
     "start_time": "2023-04-23T12:03:27.545179Z"
    }
   },
   "outputs": [],
   "source": [
    "training_list = big_pos_list\n",
    "validation_list = []\n",
    "testing_list = []\n",
    "\n",
    "training_dict = big_pos_dict\n",
    "validation_dict = {}\n",
    "testing_dict = {}\n",
    "\n",
    "for userID in small_pos_dict:\n",
    "    items = small_pos_dict[userID]\n",
    "    if len(items) < 2:\n",
    "        print(userID)\n",
    "        continue\n",
    "    if userID not in big_pos_dict:\n",
    "        continue\n",
    "    item_num_for_test = max(int(len(items)*0.5), 1)\n",
    "    test_items = items[-item_num_for_test:]\n",
    "    items = items[:-item_num_for_test]\n",
    "    valid_items = items\n",
    "    \n",
    "    validation_list += [[userID, itemID] for itemID in list(valid_items)]\n",
    "    testing_list += [[userID, itemID] for itemID in list(test_items)]\n",
    "    validation_dict[userID] = valid_items\n",
    "    testing_dict[userID] = test_items\n",
    "    \n",
    "np.save('./sets/training_list.npy', np.array(big_pos_list))\n",
    "np.save('./sets/validation_list.npy', np.array(validation_list))\n",
    "np.save('./sets/testing_list.npy', np.array(testing_list))\n",
    "\n",
    "np.save('./sets/training_dict.npy', np.array(training_dict))\n",
    "np.save('./sets/validation_dict.npy', np.array(validation_dict))\n",
    "np.save('./sets/testing_dict.npy', np.array(testing_dict))"
   ]
  },
  {
   "cell_type": "code",
   "execution_count": 32,
   "id": "d4932719",
   "metadata": {
    "ExecuteTime": {
     "end_time": "2023-04-23T12:03:28.831273Z",
     "start_time": "2023-04-23T12:03:28.819272Z"
    }
   },
   "outputs": [
    {
     "data": {
      "text/plain": [
       "\"t_d = np.load('../kuai-v1/sets/training_dict.npy',allow_pickle=True).item()\\nt_l = np.load('../kuai-v1/sets/training_list.npy')\\nv_d = np.load('../kuai-v1/sets/validation_dict.npy',allow_pickle=True).item()\\nv_l = np.load('../kuai-v1/sets/validation_list.npy')\\nte_d = np.load('../kuai-v1/sets/testing_dict.npy',allow_pickle=True).item()\\nte_l = np.load('../kuai-v1/sets/testing_list.npy')\\nprint(len(validation_list),len(v_l),len(testing_list),len(te_l))\\nmax_u_num = 7174\\nfor u in t_d:\\n    if t_d[u] != training_dict[u]:\\n        print(u)\\nshort_list = []\\nfor pair in big_pos_list:\\n    u,i = pair\\n    if u<=max_u_num:\\n        short_list.append(pair)\\nprint(len(short_list), len(t_l))\\nprint(short_list == t_l)#identical\""
      ]
     },
     "execution_count": 32,
     "metadata": {},
     "output_type": "execute_result"
    }
   ],
   "source": [
    "'''t_d = np.load('../kuai-v1/sets/training_dict.npy',allow_pickle=True).item()\n",
    "t_l = np.load('../kuai-v1/sets/training_list.npy')\n",
    "v_d = np.load('../kuai-v1/sets/validation_dict.npy',allow_pickle=True).item()\n",
    "v_l = np.load('../kuai-v1/sets/validation_list.npy')\n",
    "te_d = np.load('../kuai-v1/sets/testing_dict.npy',allow_pickle=True).item()\n",
    "te_l = np.load('../kuai-v1/sets/testing_list.npy')\n",
    "print(len(validation_list),len(v_l),len(testing_list),len(te_l))\n",
    "max_u_num = 7174\n",
    "for u in t_d:\n",
    "    if t_d[u] != training_dict[u]:\n",
    "        print(u)\n",
    "short_list = []\n",
    "for pair in big_pos_list:\n",
    "    u,i = pair\n",
    "    if u<=max_u_num:\n",
    "        short_list.append(pair)\n",
    "print(len(short_list), len(t_l))\n",
    "print(short_list == t_l)#identical'''"
   ]
  },
  {
   "cell_type": "code",
   "execution_count": 33,
   "id": "b1cdad4c",
   "metadata": {
    "ExecuteTime": {
     "end_time": "2023-04-23T12:03:28.974256Z",
     "start_time": "2023-04-23T12:03:28.835274Z"
    }
   },
   "outputs": [
    {
     "name": "stdout",
     "output_type": "stream",
     "text": [
      "8646\n",
      "7469\n",
      "9004\n",
      "5510\n",
      "2185\n",
      "4616\n",
      "8267\n",
      "6923\n",
      "5142\n",
      "1703\n",
      "6657\n",
      "9600\n",
      "1485\n",
      "1418\n",
      "8344\n",
      "5036\n",
      "7096\n",
      "6724\n",
      "7860\n",
      "7511\n",
      "7171\n",
      "10325\n",
      "10472\n",
      "7649\n",
      "5386\n",
      "4424\n",
      "4782\n",
      "3303\n",
      "52\n",
      "7067\n",
      "7625\n",
      "9012\n",
      "6543\n",
      "7846\n",
      "6021\n",
      "7005\n",
      "10670\n",
      "10712\n",
      "5053\n",
      "9725\n",
      "3195\n",
      "6079\n",
      "6137\n",
      "10576\n",
      "7622\n",
      "6217\n",
      "10209\n",
      "7464\n",
      "8917\n",
      "3330\n",
      "7544\n",
      "10602\n",
      "9242\n",
      "9637\n",
      "4857\n",
      "1062\n",
      "7796\n",
      "2794\n",
      "9590\n",
      "2588\n",
      "9484\n",
      "10611\n",
      "7958\n",
      "7819\n",
      "7116\n",
      "1835\n",
      "1658\n",
      "7550\n",
      "2137\n",
      "9767\n",
      "9468\n",
      "3909\n",
      "5110\n",
      "3856\n",
      "3045\n",
      "9489\n",
      "874\n",
      "5272\n",
      "205\n",
      "8115\n",
      "6666\n",
      "5148\n",
      "8099\n",
      "9295\n",
      "10076\n",
      "1470\n",
      "6131\n",
      "6697\n",
      "7895\n",
      "1772\n",
      "6981\n",
      "3314\n",
      "3509\n",
      "8051\n",
      "6941\n",
      "1811\n",
      "3753\n",
      "1962\n",
      "5159\n",
      "6492\n",
      "7783\n",
      "5179\n",
      "6162\n",
      "6219\n",
      "1758\n",
      "9314\n",
      "8176\n",
      "9581\n",
      "1796\n",
      "4004\n",
      "4881\n",
      "4999\n",
      "8862\n",
      "1894\n",
      "5127\n",
      "4\n",
      "9135\n",
      "6306\n",
      "7827\n",
      "9471\n"
     ]
    }
   ],
   "source": [
    "pop_rank = dict(big_matrix_pos['video_id'].value_counts())# original ID 7116 occurs only in small matrix\n",
    "for i in item_id_map:\n",
    "    if i not in pop_rank:\n",
    "        print(i)\n",
    "        pop_rank[i] = 0\n",
    "pop_rank_maped = {}\n",
    "for i in pop_rank:\n",
    "    if i in item_id_map:\n",
    "        pop_rank_maped[item_id_map[i]] = pop_rank[i]\n",
    "item_rank_dict = {} #id:rank\n",
    "rank = 0\n",
    "for element in pop_rank_maped:\n",
    "    item_rank_dict[element] = rank\n",
    "    rank += 1\n",
    "np.save('./features/item_rank_dict.npy', np.array(item_rank_dict))"
   ]
  },
  {
   "cell_type": "code",
   "execution_count": 34,
   "id": "4a15adcd",
   "metadata": {
    "ExecuteTime": {
     "end_time": "2023-04-23T12:03:28.990259Z",
     "start_time": "2023-04-23T12:03:28.977263Z"
    }
   },
   "outputs": [
    {
     "data": {
      "text/plain": [
       "[7132, 233471, 332062, 184067, 174435]"
      ]
     },
     "execution_count": 34,
     "metadata": {},
     "output_type": "execute_result"
    }
   ],
   "source": [
    "CountAll = [0] * len(category_list)\n",
    "for item in range(10611):\n",
    "    CountAll[item_feature_dict[item][0]]+=pop_rank_maped[item]\n",
    "CountAll"
   ]
  },
  {
   "cell_type": "code",
   "execution_count": 35,
   "id": "edbb4775",
   "metadata": {
    "ExecuteTime": {
     "end_time": "2023-04-23T12:03:29.114267Z",
     "start_time": "2023-04-23T12:03:28.992263Z"
    }
   },
   "outputs": [
    {
     "data": {
      "image/png": "[encoded data removed]",
      "text/plain": [
       "<Figure size 432x288 with 1 Axes>"
      ]
     },
     "metadata": {
      "needs_background": "light"
     },
     "output_type": "display_data"
    }
   ],
   "source": [
    "plt.plot(CountAll)\n",
    "plt.show()"
   ]
  },
  {
   "cell_type": "code",
   "execution_count": 36,
   "id": "45a652e8",
   "metadata": {
    "ExecuteTime": {
     "end_time": "2023-04-23T12:03:29.238276Z",
     "start_time": "2023-04-23T12:03:29.116270Z"
    }
   },
   "outputs": [
    {
     "data": {
      "image/png": "[encoded data removed]",
      "text/plain": [
       "<Figure size 432x288 with 1 Axes>"
      ]
     },
     "metadata": {
      "needs_background": "light"
     },
     "output_type": "display_data"
    }
   ],
   "source": [
    "import matplotlib.pyplot as plt\n",
    "a = list(pop_rank_maped.values())\n",
    "plt.plot(a)\n",
    "plt.ylim(bottom=0.)\n",
    "\n",
    "plt.xlabel(\"rank\")\n",
    "plt.ylabel(\"num_ratings\")\n",
    "plt.show()"
   ]
  },
  {
   "cell_type": "code",
   "execution_count": 37,
   "id": "1ff58f78",
   "metadata": {
    "ExecuteTime": {
     "end_time": "2023-04-23T12:03:29.462321Z",
     "start_time": "2023-04-23T12:03:29.240279Z"
    }
   },
   "outputs": [
    {
     "name": "stderr",
     "output_type": "stream",
     "text": [
      "100%|█████████████████████████████████████████████████████████████████████████| 10728/10728 [00:00<00:00, 87213.49it/s]\n"
     ]
    }
   ],
   "source": [
    "user_feature_file = {}\n",
    "for userID in big_pos_dict:\n",
    "    user_feature_file[userID] = [['U'+str(userID)]]\n",
    "    #user_feature_file[userID][0] += ['UF'+feat for feat in user_feature[userID]]\n",
    "    user_feature_file[userID].append([str(1)]*len(user_feature_file[userID][0]))\n",
    "item_feature_file = {}\n",
    "for itemID in tqdm(item_feature_dict):\n",
    "    item_feature_file[itemID] = [['I'+str(itemID)]]\n",
    "    item_feature_file[itemID].append(['1'])\n",
    "    for cate in range(0, len(category_id)):\n",
    "        if cate in item_feature_dict[itemID]:\n",
    "            item_feature_file[itemID][0].append('IC'+str(cate))\n",
    "            item_feature_file[itemID][1].append(str(round(1.0/len(item_feature_dict[itemID]), 2)))\n",
    "        else:\n",
    "            item_feature_file[itemID][0].append('IC'+str(cate))\n",
    "            item_feature_file[itemID][1].append(str(0))\n",
    "\n",
    "np.save('./features/user_feature_file.npy', np.array(user_feature_file))\n",
    "np.save('./features/item_feature_file.npy', np.array(item_feature_file))"
   ]
  },
  {
   "cell_type": "code",
   "execution_count": 38,
   "id": "7583b4a2",
   "metadata": {
    "ExecuteTime": {
     "end_time": "2023-04-23T12:03:30.398390Z",
     "start_time": "2023-04-23T12:03:29.464323Z"
    }
   },
   "outputs": [],
   "source": [
    "category_num = len(category_list)\n",
    "topk_category = 3\n",
    "user_fml_cat_big = {}\n",
    "for user in big_pos_dict:\n",
    "    category_cnt = [0] * category_num\n",
    "    for item in big_pos_dict[user]:\n",
    "        for cat in item_feature_dict[item]:\n",
    "            category_cnt[cat] += 1\n",
    "    sorted_list = list(np.argsort(category_cnt))\n",
    "    fml_cat = sorted_list[-topk_category:]\n",
    "    user_fml_cat_big[user] = fml_cat\n",
    "np.save('./features/user_fml_cat.npy', np.array(user_fml_cat_big))"
   ]
  },
  {
   "cell_type": "code",
   "execution_count": 39,
   "id": "accc6a6a",
   "metadata": {
    "ExecuteTime": {
     "end_time": "2023-04-23T12:03:30.477396Z",
     "start_time": "2023-04-23T12:03:30.400393Z"
    }
   },
   "outputs": [],
   "source": [
    "item_cat_vec = {}\n",
    "for itemID in item_feature_dict:\n",
    "    item_cat_vec[itemID] = [0] * category_num\n",
    "    cat_num = len(item_feature_dict[itemID])\n",
    "    for cat in item_feature_dict[itemID]:\n",
    "        item_cat_vec[itemID][cat] = 1 / np.sqrt(cat_num)\n",
    "np.save('./features/item_cat_vec.npy', np.array(item_cat_vec))"
   ]
  }
 ],
 "metadata": {
  "hide_input": false,
  "kernelspec": {
   "display_name": "Python 3 (ipykernel)",
   "language": "python",
   "name": "python3"
  },
  "language_info": {
   "codemirror_mode": {
    "name": "ipython",
    "version": 3
   },
   "file_extension": ".py",
   "mimetype": "text/x-python",
   "name": "python",
   "nbconvert_exporter": "python",
   "pygments_lexer": "ipython3",
   "version": "3.9.12"
  },
  "toc": {
   "base_numbering": 1,
   "nav_menu": {},
   "number_sections": false,
   "sideBar": true,
   "skip_h1_title": false,
   "title_cell": "Table of Contents",
   "title_sidebar": "Contents",
   "toc_cell": false,
   "toc_position": {},
   "toc_section_display": true,
   "toc_window_display": false
  },
  "varInspector": {
   "cols": {
    "lenName": 16,
    "lenType": 16,
    "lenVar": 40
   },
   "kernels_config": {
    "python": {
     "delete_cmd_postfix": "",
     "delete_cmd_prefix": "del ",
     "library": "var_list.py",
     "varRefreshCmd": "print(var_dic_list())"
    },
    "r": {
     "delete_cmd_postfix": ") ",
     "delete_cmd_prefix": "rm(",
     "library": "var_list.r",
     "varRefreshCmd": "cat(var_dic_list()) "
    }
   },
   "types_to_exclude": [
    "module",
    "function",
    "builtin_function_or_method",
    "instance",
    "_Feature"
   ],
   "window_display": false
  },
  "vscode": {
   "interpreter": {
    "hash": "5bceae81fbdb9c2cc7c3f47ef2d0fa61a568eb97fcf0a041b09ee271cfab9355"
   }
  }
 },
 "nbformat": 4,
 "nbformat_minor": 5
}
